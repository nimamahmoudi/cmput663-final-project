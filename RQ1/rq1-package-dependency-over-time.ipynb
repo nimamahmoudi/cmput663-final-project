{
 "cells": [
  {
   "cell_type": "markdown",
   "metadata": {},
   "source": [
    "# How do package dependency network grow over time?\n",
    "\n",
    "In this notebook we plan to investigate the dependencies in the Pypi dataset and try to look at\n",
    "how they change over time."
   ]
  },
  {
   "cell_type": "markdown",
   "metadata": {
    "ExecuteTime": {
     "end_time": "2019-03-31T00:30:54.230227Z",
     "start_time": "2019-03-31T00:30:54.225280Z"
    }
   },
   "source": [
    "## Loading data and importing libraries"
   ]
  },
  {
   "cell_type": "code",
   "execution_count": 1,
   "metadata": {
    "ExecuteTime": {
     "end_time": "2019-04-02T01:42:00.255817Z",
     "start_time": "2019-04-02T01:41:59.317728Z"
    }
   },
   "outputs": [],
   "source": [
    "%load_ext autoreload\n",
    "\n",
    "# Auto reloading causes the kernel to reload the libraries we have\n",
    "%autoreload 2\n",
    "\n",
    "# usual imports for visualization, etc.\n",
    "import numpy as np\n",
    "import pandas as pd\n",
    "import matplotlib.pyplot as plt\n",
    "\n",
    "import datetime\n",
    "\n",
    "# make it reproducible\n",
    "np.random.seed(0)\n",
    "\n",
    "# show plots inline\n",
    "%matplotlib inline"
   ]
  },
  {
   "cell_type": "code",
   "execution_count": 2,
   "metadata": {
    "ExecuteTime": {
     "end_time": "2019-04-02T01:44:50.376184Z",
     "start_time": "2019-04-02T01:42:00.259699Z"
    }
   },
   "outputs": [],
   "source": [
    "# data_folder = '../data/'\n",
    "data_folder = 'https://zenodo.org/record/2620607/files/'\n",
    "\n",
    "df_dep = pd.read_csv(data_folder + 'pypi_dependencies.csv', error_bad_lines=False, warn_bad_lines=False)\n",
    "df_proj = pd.read_csv(data_folder + 'pypi_projects.csv', error_bad_lines=False, warn_bad_lines=False,low_memory=False)\n",
    "df_repo = pd.read_csv(data_folder + 'pypi_projects_with_repository_fields.csv', error_bad_lines=False, warn_bad_lines=False,low_memory=False)\n",
    "df_ver = pd.read_csv(data_folder + 'pypi_versions.csv', error_bad_lines=False, warn_bad_lines=False,low_memory=False)\n",
    "\n",
    "for df in [df_dep, df_proj, df_repo, df_ver]:\n",
    "    time_fields = []\n",
    "    for col in df.columns:\n",
    "        if 'timestamp' in col:\n",
    "            time_fields.append(col)\n",
    "    for time_field in time_fields:\n",
    "        try:\n",
    "            df[time_field] = df[time_field].apply(lambda x: datetime.datetime.strptime(x, '%Y-%m-%d %H:%M:%S'))\n",
    "        except:\n",
    "            pass\n",
    "        \n",
    "del df"
   ]
  },
  {
   "cell_type": "markdown",
   "metadata": {},
   "source": [
    "## Defining helper functions and defaults"
   ]
  },
  {
   "cell_type": "code",
   "execution_count": 3,
   "metadata": {
    "ExecuteTime": {
     "end_time": "2019-04-02T01:44:50.636197Z",
     "start_time": "2019-04-02T01:44:50.385515Z"
    }
   },
   "outputs": [
    {
     "name": "stdout",
     "output_type": "stream",
     "text": [
      "mkdir: cannot create directory ‘figs’: File exists\r\n"
     ]
    }
   ],
   "source": [
    "# Helper Functions\n",
    "def add_three_months(t):\n",
    "    for i in range(3):\n",
    "        t = add_a_month(t)\n",
    "    return t\n",
    "def add_a_month(t):\n",
    "    return (t.replace(day=1) + datetime.timedelta(days=31)).replace(day=1)\n",
    "def print_time(t):\n",
    "    return t.strftime(\"%Y-%m-%dT%H:%M:%S\")\n",
    "\n",
    "!mkdir figs\n",
    "figs_dir = 'figs/'"
   ]
  },
  {
   "cell_type": "code",
   "execution_count": 4,
   "metadata": {
    "ExecuteTime": {
     "end_time": "2019-04-02T01:44:50.704853Z",
     "start_time": "2019-04-02T01:44:50.641003Z"
    }
   },
   "outputs": [],
   "source": [
    "from cycler import cycler\n",
    "def set_plt_rc():\n",
    "    SMALL_SIZE = 8\n",
    "    MEDIUM_SIZE = 10\n",
    "    BIGGER_SIZE = 12\n",
    "    \n",
    "    font = {'family': 'serif','size': BIGGER_SIZE}\n",
    "    plt.rc('font', **font)\n",
    "\n",
    "    plt.rc('font', size=SMALL_SIZE)          # controls default text sizes\n",
    "    plt.rc('axes', titlesize=SMALL_SIZE)     # fontsize of the axes title\n",
    "    plt.rc('axes', labelsize=MEDIUM_SIZE)    # fontsize of the x and y labels\n",
    "    plt.rc('xtick', labelsize=SMALL_SIZE)    # fontsize of the tick labels\n",
    "    plt.rc('ytick', labelsize=SMALL_SIZE)    # fontsize of the tick labels\n",
    "    plt.rc('legend', fontsize=SMALL_SIZE)    # legend fontsize\n",
    "    plt.rc('figure', titlesize=BIGGER_SIZE)  # fontsize of the figure title\n",
    "        \n",
    "    plt.rc('axes', prop_cycle=(cycler(color=['#1f77b4', '#ff7f0e', '#2ca02c', '#d62728',\n",
    "                                         '#9467bd', '#8c564b', '#e377c2', '#7f7f7f',\n",
    "                                         '#bcbd22', '#17becf']) +\n",
    "                           cycler(linestyle=['-', '--', ':', '-.','-', '--', ':', '-.','-', '--'])))\n",
    "    \n",
    "set_plt_rc()"
   ]
  },
  {
   "cell_type": "markdown",
   "metadata": {},
   "source": [
    "## Project Publishing over time"
   ]
  },
  {
   "cell_type": "code",
   "execution_count": 5,
   "metadata": {
    "ExecuteTime": {
     "end_time": "2019-04-02T01:44:50.762176Z",
     "start_time": "2019-04-02T01:44:50.708035Z"
    }
   },
   "outputs": [
    {
     "name": "stdout",
     "output_type": "stream",
     "text": [
      "soonest start time: 2005-03-21 15:59:25\n",
      "latest start time: 2018-12-22 21:15:25\n"
     ]
    }
   ],
   "source": [
    "first_time = df_ver['published_timestamp'].min()\n",
    "last_time = df_ver['published_timestamp'].max()\n",
    "print('soonest start time:', first_time)\n",
    "print('latest start time:', last_time)"
   ]
  },
  {
   "cell_type": "code",
   "execution_count": 6,
   "metadata": {
    "ExecuteTime": {
     "end_time": "2019-04-02T01:44:59.382022Z",
     "start_time": "2019-04-02T01:44:50.765678Z"
    }
   },
   "outputs": [],
   "source": [
    "# Add the published timestamp from the version table\n",
    "df_proj_pub = df_ver.groupby(['project_id'])['published_timestamp'].min()\n",
    "proj_pubs = df_proj['id'].apply(lambda x: df_proj_pub[x] if x in df_proj_pub.index else np.nan)\n",
    "proj_pubs[proj_pubs.isnull()] = first_time\n",
    "df_proj['published_timestamp'] = proj_pubs"
   ]
  },
  {
   "cell_type": "code",
   "execution_count": 7,
   "metadata": {
    "ExecuteTime": {
     "end_time": "2019-04-02T01:45:07.815606Z",
     "start_time": "2019-04-02T01:44:59.385756Z"
    }
   },
   "outputs": [],
   "source": [
    "project_counts = {}\n",
    "project_counts['StartDate'] = []\n",
    "project_counts['EndDate'] = []\n",
    "project_counts['count'] = []\n",
    "project_counts['count_total'] = []\n",
    "\n",
    "start_time = add_a_month(first_time)\n",
    "end_time = add_a_month(start_time)\n",
    "while end_time < last_time.replace(day=1):\n",
    "    project_counts['StartDate'].append(start_time)\n",
    "    project_counts['EndDate'].append(end_time)\n",
    "    \n",
    "    # Published projects\n",
    "    idxs = (df_proj['published_timestamp'] > start_time) & (df_proj['published_timestamp'] < end_time)\n",
    "    project_counts['count'].append(sum(idxs))\n",
    "    \n",
    "    # Total Projects\n",
    "    idxs = (df_proj['published_timestamp'] < end_time)\n",
    "    project_counts['count_total'].append(sum(idxs))\n",
    "    \n",
    "    # Total Projects\n",
    "    \n",
    "    start_time = end_time\n",
    "    end_time = add_a_month(start_time)"
   ]
  },
  {
   "cell_type": "code",
   "execution_count": 8,
   "metadata": {
    "ExecuteTime": {
     "end_time": "2019-04-02T01:45:09.697352Z",
     "start_time": "2019-04-02T01:45:07.820744Z"
    }
   },
   "outputs": [
    {
     "name": "stderr",
     "output_type": "stream",
     "text": [
      "/home/ubuntu/anaconda3/envs/mlse/lib/python3.6/site-packages/pandas/plotting/_converter.py:129: FutureWarning: Using an implicitly registered datetime converter for a matplotlib plotting method. The converter was registered by pandas on import. Future versions of pandas will require you to explicitly register matplotlib converters.\n",
      "\n",
      "To register the converters:\n",
      "\t>>> from pandas.plotting import register_matplotlib_converters\n",
      "\t>>> register_matplotlib_converters()\n",
      "  warnings.warn(msg, FutureWarning)\n"
     ]
    },
    {
     "data": {
      "image/png": "[encoded data removed]",
      "text/plain": [
       "<Figure size 288x201.6 with 1 Axes>"
      ]
     },
     "metadata": {
      "needs_background": "light"
     },
     "output_type": "display_data"
    }
   ],
   "source": [
    "plt.rc('font', size=8)\n",
    "plt.rc('axes', titlesize=6)\n",
    "plt.rc('axes', labelsize=8)\n",
    "plt.figure(figsize=(4,2.8))\n",
    "\n",
    "# plt.figure(figsize=(7,7))\n",
    "# plt.subplot(211)\n",
    "plt.semilogy(project_counts['StartDate'], project_counts['count'], '-')\n",
    "plt.xlabel('Time')\n",
    "plt.ylabel('Projects Created in one month')\n",
    "\n",
    "# plt.subplot(212)\n",
    "# plt.semilogy(project_counts['EndDate'], project_counts['count_total'], '-')\n",
    "# plt.xlabel('Time')\n",
    "# plt.ylabel('Total Created Projects')\n",
    "\n",
    "plt.savefig(figs_dir+'project-publish-over-time.pdf')\n",
    "plt.savefig(figs_dir+'project-publish-over-time.png', dpi=300)\n",
    "\n",
    "set_plt_rc()"
   ]
  },
  {
   "cell_type": "code",
   "execution_count": 9,
   "metadata": {
    "ExecuteTime": {
     "end_time": "2019-04-02T01:45:09.726227Z",
     "start_time": "2019-04-02T01:45:09.702318Z"
    }
   },
   "outputs": [
    {
     "name": "stdout",
     "output_type": "stream",
     "text": [
      "[5, 2, 2, 7, 17, 10, 19, 11, 19, 26, 24, 28, 18, 15, 30, 21, 27, 42, 40, 61, 38, 39, 69, 87, 99, 47, 45, 68, 67, 73, 97, 93, 92, 129, 133, 93, 157, 145, 155, 136, 127, 179, 153, 134, 159, 177, 182, 257, 200, 193, 203, 191, 207, 227, 253, 258, 220, 228, 267, 289, 271, 270, 280, 356, 306, 291, 342, 325, 311, 366, 361, 368, 456, 423, 450, 357, 424, 370, 401, 418, 444, 498, 548, 601, 538, 598, 566, 653, 660, 605, 699, 759, 622, 863, 829, 886, 794, 871, 816, 889, 916, 886, 954, 846, 1101, 1005, 948, 1186, 1091, 1183, 1205, 1183, 1128, 1249, 1219, 1242, 1234, 1343, 1412, 1684, 1564, 1592, 1523, 1711, 1651, 1637, 1852, 1720, 1641, 1866, 1847, 2083, 1798, 1762, 1741, 1937, 1934, 1908, 1959, 1942, 1853, 2089, 2042, 2388, 5258, 2628, 2503, 2624, 2607, 2611, 2728, 2773, 2633, 3090, 3165, 3453, 3821, 3567, 3327, 4595, 3710, 3407, 3854, 3617]\n"
     ]
    }
   ],
   "source": [
    "print(project_counts['count'])"
   ]
  },
  {
   "cell_type": "markdown",
   "metadata": {},
   "source": [
    "## Versions over time"
   ]
  },
  {
   "cell_type": "code",
   "execution_count": 10,
   "metadata": {
    "ExecuteTime": {
     "end_time": "2019-04-02T01:45:09.771257Z",
     "start_time": "2019-04-02T01:45:09.729365Z"
    }
   },
   "outputs": [
    {
     "name": "stdout",
     "output_type": "stream",
     "text": [
      "soonest start time: 2005-03-21 15:59:25\n",
      "latest start time: 2018-12-22 21:15:25\n"
     ]
    }
   ],
   "source": [
    "first_time = df_ver['published_timestamp'].min()\n",
    "last_time = df_ver['published_timestamp'].max()\n",
    "print('soonest start time:', first_time)\n",
    "print('latest start time:', last_time)"
   ]
  },
  {
   "cell_type": "code",
   "execution_count": 11,
   "metadata": {
    "ExecuteTime": {
     "end_time": "2019-04-02T01:46:09.384655Z",
     "start_time": "2019-04-02T01:45:09.775814Z"
    }
   },
   "outputs": [],
   "source": [
    "dep_counts = {}\n",
    "dep_counts['StartDate'] = []\n",
    "dep_counts['EndDate'] = []\n",
    "dep_counts['count'] = []\n",
    "dep_counts['count_total'] = []\n",
    "\n",
    "start_time = add_a_month(first_time)\n",
    "end_time = add_a_month(start_time)\n",
    "while end_time < last_time.replace(day=1):\n",
    "    dep_counts['StartDate'].append(start_time)\n",
    "    dep_counts['EndDate'].append(end_time)\n",
    "    \n",
    "    # Published versions (updates)\n",
    "    idxs = (df_ver['published_timestamp'] > start_time) & (df_ver['published_timestamp'] < end_time)\n",
    "    dep_counts['count'].append(sum(idxs))\n",
    "    \n",
    "    # Published version (total)\n",
    "    idxs = (df_ver['published_timestamp'] < end_time)\n",
    "    dep_counts['count_total'].append(sum(idxs))\n",
    "    \n",
    "    # Total Projects\n",
    "    \n",
    "    start_time = end_time\n",
    "    end_time = add_a_month(start_time)"
   ]
  },
  {
   "cell_type": "code",
   "execution_count": 12,
   "metadata": {
    "ExecuteTime": {
     "end_time": "2019-04-02T01:46:12.608131Z",
     "start_time": "2019-04-02T01:46:09.389699Z"
    }
   },
   "outputs": [
    {
     "data": {
      "image/png": "[encoded data removed]",
      "text/plain": [
       "<Figure size 288x432 with 2 Axes>"
      ]
     },
     "metadata": {
      "needs_background": "light"
     },
     "output_type": "display_data"
    }
   ],
   "source": [
    "plt.rc('font', size=8)\n",
    "plt.rc('axes', titlesize=6)\n",
    "plt.rc('axes', labelsize=8)\n",
    "\n",
    "plt.figure(figsize=(4,6))\n",
    "# plt.figure(figsize=(7,7))\n",
    "plt.subplot(211)\n",
    "# plt.plot(dep_counts['StartDate'], dep_counts['count'], '-')\n",
    "plt.semilogy(dep_counts['StartDate'], dep_counts['count'], '-')\n",
    "plt.xlabel('Time')\n",
    "plt.ylabel('Versions Published in one month')\n",
    "\n",
    "plt.subplot(212)\n",
    "# plt.plot(dep_counts['EndDate'], dep_counts['count_total'], '-')\n",
    "plt.semilogy(dep_counts['EndDate'], dep_counts['count_total'], '-')\n",
    "plt.xlabel('Time')\n",
    "plt.ylabel('Total Published Versions')\n",
    "\n",
    "plt.savefig(figs_dir+'versions-over-time.pdf')\n",
    "plt.savefig(figs_dir+'versions-over-time.png', dpi=300)\n",
    "\n",
    "set_plt_rc()"
   ]
  },
  {
   "cell_type": "code",
   "execution_count": 13,
   "metadata": {
    "ExecuteTime": {
     "end_time": "2019-04-02T01:46:12.643152Z",
     "start_time": "2019-04-02T01:46:12.612012Z"
    }
   },
   "outputs": [
    {
     "name": "stdout",
     "output_type": "stream",
     "text": [
      "[6, 5, 5, 13, 24, 27, 53, 46, 58, 61, 53, 66, 56, 50, 71, 85, 99, 124, 139, 168, 126, 124, 189, 232, 213, 174, 171, 286, 235, 287, 389, 313, 287, 406, 479, 476, 492, 525, 510, 565, 658, 609, 622, 638, 664, 869, 783, 992, 859, 972, 936, 1008, 1072, 1094, 1139, 1281, 1235, 1230, 1295, 1459, 1429, 1360, 1445, 1679, 1464, 1683, 1773, 1642, 1457, 1845, 1935, 2007, 1956, 2178, 2261, 2084, 2144, 2083, 2197, 2412, 2291, 2517, 2855, 3295, 3167, 3291, 3081, 3244, 3531, 3586, 4067, 4131, 3563, 4866, 4731, 5268, 4955, 5332, 4880, 5226, 5362, 5692, 6152, 5772, 5979, 6884, 6414, 7611, 7074, 7608, 7950, 8249, 7961, 8378, 8827, 8581, 8877, 9873, 10869, 12541, 11934, 11857, 12052, 12906, 12642, 12971, 14193, 13529, 12733, 14938, 15217, 17092, 15444, 15437, 15929, 16097, 18861, 16482, 17221, 17591, 15768, 17867, 18318, 20973, 31197, 23064, 23574, 22912, 23703, 23449, 24361, 25517, 23099, 26973, 25922, 29953, 32709, 30274, 31641, 30990, 30752, 29418, 32815, 30333]\n"
     ]
    }
   ],
   "source": [
    "print(dep_counts['count'])"
   ]
  },
  {
   "cell_type": "markdown",
   "metadata": {},
   "source": [
    "## Dependencies over time"
   ]
  },
  {
   "cell_type": "code",
   "execution_count": 14,
   "metadata": {
    "ExecuteTime": {
     "end_time": "2019-04-02T01:46:12.682260Z",
     "start_time": "2019-04-02T01:46:12.646195Z"
    }
   },
   "outputs": [
    {
     "name": "stdout",
     "output_type": "stream",
     "text": [
      "soonest start time: 2005-03-21 15:59:25\n",
      "latest start time: 2018-12-22 21:15:25\n"
     ]
    }
   ],
   "source": [
    "first_time = df_ver['published_timestamp'].min()\n",
    "last_time = df_ver['published_timestamp'].max()\n",
    "print('soonest start time:', first_time)\n",
    "print('latest start time:', last_time)"
   ]
  },
  {
   "cell_type": "code",
   "execution_count": 15,
   "metadata": {
    "ExecuteTime": {
     "end_time": "2019-04-02T01:48:06.241785Z",
     "start_time": "2019-04-02T01:46:12.685493Z"
    }
   },
   "outputs": [],
   "source": [
    "dep_counts = {}\n",
    "dep_counts['StartDate'] = []\n",
    "dep_counts['EndDate'] = []\n",
    "dep_counts['count'] = []\n",
    "dep_counts['count_dep'] = []\n",
    "dep_counts['dep_per_ver'] = []\n",
    "dep_counts['count_total'] = []\n",
    "dep_counts['count_dep_total'] = []\n",
    "dep_counts['dep_per_ver_total'] = []\n",
    "\n",
    "start_time = add_a_month(first_time)\n",
    "end_time = add_a_month(start_time)\n",
    "while end_time < last_time.replace(day=1):\n",
    "    dep_counts['StartDate'].append(start_time)\n",
    "    dep_counts['EndDate'].append(end_time)\n",
    "\n",
    "    # Published versions (updates)\n",
    "    idxs = (df_ver['published_timestamp'] > start_time) & (df_ver['published_timestamp'] < end_time)\n",
    "    vers = df_ver[idxs]\n",
    "    dep_counts['count'].append(sum(idxs))\n",
    "\n",
    "    # Dependencies count\n",
    "    df = pd.merge(df_dep, vers, how='inner', left_on='version_id', right_on='id')\n",
    "    dep_counts['count_dep'].append(df.shape[0])\n",
    "    \n",
    "    # Dependecies per version\n",
    "    dep_counts['dep_per_ver'].append(df.shape[0] / max(df['version_id'].nunique(), 1))\n",
    "\n",
    "    # Published version (total)\n",
    "    idxs = (df_ver['published_timestamp'] > first_time) & (df_ver['published_timestamp'] < end_time)\n",
    "    vers = df_ver[idxs]\n",
    "    dep_counts['count_total'].append(sum(idxs))\n",
    "\n",
    "    # Dependencies count\n",
    "    df = pd.merge(df_dep, vers, how='inner', left_on='version_id', right_on='id')\n",
    "    dep_counts['count_dep_total'].append(df.shape[0])\n",
    "    \n",
    "    # Dependecies per version (total)\n",
    "    dep_counts['dep_per_ver_total'].append(df.shape[0] / max(df['version_id'].nunique(),1))\n",
    "\n",
    "    start_time = end_time\n",
    "    end_time = add_a_month(start_time)"
   ]
  },
  {
   "cell_type": "markdown",
   "metadata": {},
   "source": [
    "### Dependency Count"
   ]
  },
  {
   "cell_type": "code",
   "execution_count": 16,
   "metadata": {
    "ExecuteTime": {
     "end_time": "2019-04-02T01:48:09.799194Z",
     "start_time": "2019-04-02T01:48:06.247494Z"
    }
   },
   "outputs": [
    {
     "data": {
      "image/png": "[encoded data removed]",
      "text/plain": [
       "<Figure size 288x432 with 2 Axes>"
      ]
     },
     "metadata": {
      "needs_background": "light"
     },
     "output_type": "display_data"
    }
   ],
   "source": [
    "plt.rc('font', size=8)\n",
    "plt.rc('axes', titlesize=6)\n",
    "plt.rc('axes', labelsize=8)\n",
    "\n",
    "plt.figure(figsize=(4,6))\n",
    "# plt.figure(figsize=(7,7))\n",
    "plt.subplot(211)\n",
    "# plt.plot(dep_counts['StartDate'], dep_counts['count_dep'], '-')\n",
    "plt.semilogy(dep_counts['StartDate'], dep_counts['count_dep'], '-')\n",
    "plt.xlabel('Time')\n",
    "plt.ylabel('Dependencies Published in one month')\n",
    "\n",
    "plt.subplot(212)\n",
    "# plt.plot(dep_counts['EndDate'], dep_counts['count_dep_total'], '-')\n",
    "plt.semilogy(dep_counts['EndDate'], dep_counts['count_dep_total'], '-')\n",
    "plt.xlabel('Time')\n",
    "plt.ylabel('Total Dependencies')\n",
    "\n",
    "plt.savefig(figs_dir+'dependencies-over-time.pdf')\n",
    "plt.savefig(figs_dir+'dependencies-over-time.png', dpi=300)\n",
    "\n",
    "set_plt_rc()"
   ]
  },
  {
   "cell_type": "code",
   "execution_count": 17,
   "metadata": {
    "ExecuteTime": {
     "end_time": "2019-04-02T01:48:09.836502Z",
     "start_time": "2019-04-02T01:48:09.802946Z"
    }
   },
   "outputs": [
    {
     "name": "stdout",
     "output_type": "stream",
     "text": [
      "[0, 0, 0, 0, 1, 0, 0, 0, 0, 6, 0, 1, 0, 0, 0, 1, 1, 6, 5, 7, 4, 2, 9, 9, 8, 9, 2, 10, 8, 10, 99, 61, 2, 12, 22, 31, 21, 41, 25, 49, 16, 53, 31, 23, 35, 35, 24, 55, 70, 44, 79, 38, 48, 173, 84, 75, 80, 60, 87, 75, 58, 111, 107, 139, 129, 110, 145, 154, 63, 134, 193, 147, 144, 214, 191, 220, 171, 226, 253, 318, 216, 405, 458, 417, 426, 375, 356, 452, 516, 436, 605, 741, 679, 826, 909, 964, 828, 972, 779, 935, 1018, 1050, 1226, 1209, 1304, 1519, 1829, 1936, 1685, 2018, 2572, 3104, 2897, 2968, 2986, 2769, 2793, 3433, 3398, 3815, 3682, 3298, 3881, 4721, 4818, 5117, 5911, 6301, 5683, 6544, 7018, 7235, 8968, 7758, 9040, 9070, 9539, 11385, 12214, 12054, 5724, 6225, 6617, 6609, 6357, 7086, 7564, 8736, 8870, 9521, 7901, 8905, 7380, 11022, 9704, 11087, 11211, 13232, 14733, 17052, 16743, 15129, 20888, 27983]\n"
     ]
    }
   ],
   "source": [
    "print(dep_counts['count_dep'])"
   ]
  },
  {
   "cell_type": "markdown",
   "metadata": {},
   "source": [
    "### Dependency per package count"
   ]
  },
  {
   "cell_type": "code",
   "execution_count": 18,
   "metadata": {
    "ExecuteTime": {
     "end_time": "2019-04-02T01:48:11.154592Z",
     "start_time": "2019-04-02T01:48:09.839499Z"
    }
   },
   "outputs": [
    {
     "data": {
      "image/png": "[encoded data removed]",
      "text/plain": [
       "<Figure size 504x288 with 1 Axes>"
      ]
     },
     "metadata": {
      "needs_background": "light"
     },
     "output_type": "display_data"
    }
   ],
   "source": [
    "plt.figure(figsize=(7,4))\n",
    "\n",
    "# plt.figure(figsize=(7,7))\n",
    "# plt.subplot(211)\n",
    "plt.plot(dep_counts['StartDate'], dep_counts['dep_per_ver'], '-')\n",
    "plt.xlabel('Time')\n",
    "plt.ylabel('Dependencies per package in one month')\n",
    "plt.ylim(0,6.5)\n",
    "\n",
    "# plt.subplot(212)\n",
    "# plt.plot(dep_counts['EndDate'], dep_counts['dep_per_ver_total'], '-')\n",
    "# plt.xlabel('Time')\n",
    "# plt.ylabel('Total Dependencies per package')\n",
    "\n",
    "plt.savefig(figs_dir+'dependency-per-package-over-time.pdf')\n",
    "plt.savefig(figs_dir+'dependency-per-package-over-time.png', dpi=300)"
   ]
  },
  {
   "cell_type": "code",
   "execution_count": 19,
   "metadata": {
    "ExecuteTime": {
     "end_time": "2019-04-02T01:48:11.221512Z",
     "start_time": "2019-04-02T01:48:11.159848Z"
    }
   },
   "outputs": [
    {
     "name": "stdout",
     "output_type": "stream",
     "text": [
      "[0.0, 0.0, 0.0, 0.0, 1.0, 0.0, 0.0, 0.0, 0.0, 3.0, 0.0, 1.0, 0.0, 0.0, 0.0, 1.0, 1.0, 1.2, 1.0, 1.0, 1.0, 1.0, 1.5, 1.125, 1.6, 1.2857142857142858, 1.0, 1.25, 1.1428571428571428, 1.4285714285714286, 14.142857142857142, 12.2, 1.0, 1.5, 1.5714285714285714, 1.8235294117647058, 1.6153846153846154, 2.9285714285714284, 2.5, 2.3333333333333335, 1.7777777777777777, 3.1176470588235294, 2.2142857142857144, 1.4375, 1.9444444444444444, 2.1875, 1.6, 1.896551724137931, 2.121212121212121, 1.9130434782608696, 2.135135135135135, 2.533333333333333, 1.7777777777777777, 3.326923076923077, 2.7096774193548385, 3.125, 2.857142857142857, 1.935483870967742, 2.289473684210526, 1.9230769230769231, 1.7575757575757576, 2.3617021276595747, 2.0576923076923075, 2.074626865671642, 2.3454545454545452, 2.2916666666666665, 2.1641791044776117, 2.3333333333333335, 1.9090909090909092, 2.0, 2.075268817204301, 1.8846153846153846, 1.8461538461538463, 2.3010752688172045, 2.546666666666667, 2.3404255319148937, 1.8387096774193548, 2.1523809523809523, 2.219298245614035, 2.373134328358209, 2.076923076923077, 2.4695121951219514, 2.710059171597633, 2.5272727272727273, 2.3027027027027027, 2.6223776223776225, 2.184049079754601, 2.3915343915343916, 2.411214953271028, 2.422222222222222, 2.574468085106383, 2.618374558303887, 2.65234375, 2.4011627906976742, 2.6271676300578033, 2.670360110803324, 2.2747252747252746, 2.5989304812834226, 2.304733727810651, 2.385204081632653, 2.4412470023980815, 2.734375, 2.8847058823529412, 2.9705159705159705, 2.7982832618025753, 2.8660377358490567, 3.3807763401109057, 2.9738863287250386, 3.0470162748643763, 2.976401179941003, 3.6954022988505746, 4.105820105820106, 3.4694610778443113, 3.6506765067650675, 3.5760479041916167, 3.619607843137255, 3.689564068692206, 4.091775923718712, 4.215880893300248, 3.9411157024793386, 3.9004237288135593, 3.839348079161816, 4.089567966280295, 4.163139329805997, 4.709677419354839, 4.585125448028674, 4.498477929984779, 5.118602761982128, 5.316183348924228, 5.636520241171404, 4.98083747338538, 4.226051401869159, 4.47281795511222, 4.903919089759798, 5.05592841163311, 5.14172335600907, 5.2556473829201105, 5.553658536585366, 5.036701030927835, 5.133730834752981, 6.34589800443459, 6.114931237721022, 6.260170293282876, 6.046660567246112, 5.489637305699482, 5.770358306188925, 5.974723538704581, 6.10482180293501, 5.667731629392971, 4.562050790608529, 4.406581148912437, 4.599690082644628, 4.561186650185414, 4.82363238512035, 4.861723446893787, 4.750214224507284, 4.895633187772925, 4.871870397643593, 4.7388227725956895, 5.624010554089709, 5.48411398624304, 5.0463642428285524, 5.349039692701664, 4.479430126460701]\n"
     ]
    }
   ],
   "source": [
    "print(dep_counts['dep_per_ver'])"
   ]
  },
  {
   "cell_type": "code",
   "execution_count": null,
   "metadata": {},
   "outputs": [],
   "source": []
  }
 ],
 "metadata": {
  "kernelspec": {
   "display_name": "Python 3",
   "language": "python",
   "name": "python3"
  },
  "language_info": {
   "codemirror_mode": {
    "name": "ipython",
    "version": 3
   },
   "file_extension": ".py",
   "mimetype": "text/x-python",
   "name": "python",
   "nbconvert_exporter": "python",
   "pygments_lexer": "ipython3",
   "version": "3.6.8"
  },
  "toc": {
   "base_numbering": 1,
   "nav_menu": {},
   "number_sections": true,
   "sideBar": true,
   "skip_h1_title": false,
   "title_cell": "Table of Contents",
   "title_sidebar": "Contents",
   "toc_cell": false,
   "toc_position": {},
   "toc_section_display": true,
   "toc_window_display": false
  },
  "varInspector": {
   "cols": {
    "lenName": 16,
    "lenType": 16,
    "lenVar": 40
   },
   "kernels_config": {
    "python": {
     "delete_cmd_postfix": "",
     "delete_cmd_prefix": "del ",
     "library": "var_list.py",
     "varRefreshCmd": "print(var_dic_list())"
    },
    "r": {
     "delete_cmd_postfix": ") ",
     "delete_cmd_prefix": "rm(",
     "library": "var_list.r",
     "varRefreshCmd": "cat(var_dic_list()) "
    }
   },
   "types_to_exclude": [
    "module",
    "function",
    "builtin_function_or_method",
    "instance",
    "_Feature"
   ],
   "window_display": false
  }
 },
 "nbformat": 4,
 "nbformat_minor": 2
}
