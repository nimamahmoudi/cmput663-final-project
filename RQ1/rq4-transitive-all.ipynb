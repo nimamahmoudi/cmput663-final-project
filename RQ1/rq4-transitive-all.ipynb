{
 "cells": [
  {
   "cell_type": "markdown",
   "metadata": {},
   "source": [
    "# How do package dependency network grow over time?\n",
    "\n",
    "In this notebook we plan to investigate the dependencies in the Pypi dataset and try to look at\n",
    "how they change over time."
   ]
  },
  {
   "cell_type": "markdown",
   "metadata": {
    "ExecuteTime": {
     "end_time": "2019-03-31T00:30:54.230227Z",
     "start_time": "2019-03-31T00:30:54.225280Z"
    }
   },
   "source": [
    "## Loading data and importing libraries"
   ]
  },
  {
   "cell_type": "code",
   "execution_count": 1,
   "metadata": {
    "ExecuteTime": {
     "end_time": "2019-04-08T05:16:05.856281Z",
     "start_time": "2019-04-08T05:16:05.068371Z"
    }
   },
   "outputs": [],
   "source": [
    "%load_ext autoreload\n",
    "\n",
    "# Auto reloading causes the kernel to reload the libraries we have\n",
    "%autoreload 2\n",
    "\n",
    "# usual imports for visualization, etc.\n",
    "import numpy as np\n",
    "import pandas as pd\n",
    "import matplotlib.pyplot as plt\n",
    "\n",
    "import datetime\n",
    "\n",
    "# make it reproducible\n",
    "np.random.seed(0)\n",
    "\n",
    "# show plots inline\n",
    "%matplotlib inline"
   ]
  },
  {
   "cell_type": "markdown",
   "metadata": {},
   "source": [
    "## Defining helper functions and defaults"
   ]
  },
  {
   "cell_type": "code",
   "execution_count": 2,
   "metadata": {
    "ExecuteTime": {
     "end_time": "2019-04-08T05:16:06.016791Z",
     "start_time": "2019-04-08T05:16:05.860417Z"
    }
   },
   "outputs": [
    {
     "name": "stdout",
     "output_type": "stream",
     "text": [
      "mkdir: cannot create directory ‘figs’: File exists\r\n"
     ]
    }
   ],
   "source": [
    "# Helper Functions\n",
    "def add_three_months(t):\n",
    "    for i in range(1):\n",
    "        t = add_a_month(t)\n",
    "    return t\n",
    "def add_a_month(t):\n",
    "    return (t.replace(day=1) + datetime.timedelta(days=31)).replace(day=1)\n",
    "def print_time(t):\n",
    "    return t.strftime(\"%Y-%m-%dT%H:%M:%S\")\n",
    "\n",
    "!mkdir figs\n",
    "figs_dir = 'figs/'"
   ]
  },
  {
   "cell_type": "code",
   "execution_count": 3,
   "metadata": {
    "ExecuteTime": {
     "end_time": "2019-04-08T05:16:06.058759Z",
     "start_time": "2019-04-08T05:16:06.023007Z"
    }
   },
   "outputs": [],
   "source": [
    "from cycler import cycler\n",
    "def set_plt_rc():\n",
    "    SMALL_SIZE = 8\n",
    "    MEDIUM_SIZE = 10\n",
    "    BIGGER_SIZE = 12\n",
    "    \n",
    "    font = {'family': 'serif','size': BIGGER_SIZE}\n",
    "    plt.rc('font', **font)\n",
    "\n",
    "    plt.rc('font', size=SMALL_SIZE)          # controls default text sizes\n",
    "    plt.rc('axes', titlesize=SMALL_SIZE)     # fontsize of the axes title\n",
    "    plt.rc('axes', labelsize=MEDIUM_SIZE)    # fontsize of the x and y labels\n",
    "    plt.rc('xtick', labelsize=SMALL_SIZE)    # fontsize of the tick labels\n",
    "    plt.rc('ytick', labelsize=SMALL_SIZE)    # fontsize of the tick labels\n",
    "    plt.rc('legend', fontsize=SMALL_SIZE)    # legend fontsize\n",
    "    plt.rc('figure', titlesize=BIGGER_SIZE)  # fontsize of the figure title\n",
    "        \n",
    "    plt.rc('axes', prop_cycle=(cycler(color=['#1f77b4', '#ff7f0e', '#2ca02c', '#d62728',\n",
    "                                         '#9467bd', '#8c564b', '#e377c2', '#7f7f7f',\n",
    "                                         '#bcbd22', '#17becf']) +\n",
    "                           cycler(linestyle=['-', '--', ':', '-.','-', '--', ':', '-.','-', '--'])))\n",
    "    \n",
    "set_plt_rc()"
   ]
  },
  {
   "cell_type": "markdown",
   "metadata": {},
   "source": [
    "# Transitive Dependencies"
   ]
  },
  {
   "cell_type": "code",
   "execution_count": null,
   "metadata": {
    "ExecuteTime": {
     "start_time": "2019-04-08T05:16:04.811Z"
    },
    "scrolled": true
   },
   "outputs": [],
   "source": [
    "\n",
    "data_folder = '../data/'\n",
    "\n",
    "requirements = pd.read_csv(data_folder + 'data_all.csv')\n",
    "requirements.loc[:,'package_name'] = requirements.loc[:,'name']\n",
    "requirements.loc[:,'requirement'] = requirements.loc[:,'deps']\n",
    "\n",
    "requirements.loc[:,'package_name'] = requirements.loc[:,'package_name'].apply(lambda x: x.lower() if type(x)==str else x)\n",
    "requirements.loc[:,'requirement'] = requirements.loc[:,'requirement'].apply(lambda x: x.lower() if type(x)==str else x)\n",
    "\n",
    "requirements.loc[:,'date'] = requirements.loc[:,'date'].apply(lambda x: datetime.datetime.strptime(x, '%Y-%m-%d'))\n",
    "\n",
    "requirements.head()"
   ]
  },
  {
   "cell_type": "code",
   "execution_count": null,
   "metadata": {
    "ExecuteTime": {
     "start_time": "2019-04-08T05:16:04.814Z"
    }
   },
   "outputs": [],
   "source": [
    "from tqdm.autonotebook import tqdm\n",
    "\n",
    "tqdm.pandas()"
   ]
  },
  {
   "cell_type": "code",
   "execution_count": null,
   "metadata": {
    "ExecuteTime": {
     "start_time": "2019-04-08T05:16:04.816Z"
    }
   },
   "outputs": [],
   "source": [
    "max_date = datetime.datetime.strptime('2015-01-01', '%Y-%m-%d')\n",
    "p = '115wangpan'\n",
    "\n",
    "sub = requirements.loc[requirements['name'] == p, :]\n",
    "if max_date is not None:\n",
    "    sub = sub[sub.loc[:,'date'] <= max_date]\n",
    "date = sub['date'].max()\n",
    "sub.loc[sub['date'] == date, :]"
   ]
  },
  {
   "cell_type": "code",
   "execution_count": null,
   "metadata": {
    "ExecuteTime": {
     "start_time": "2019-04-08T05:16:04.818Z"
    }
   },
   "outputs": [],
   "source": [
    "dep_cache = {}\n",
    "MAX_LEVEL = 10\n",
    "\n",
    "def get_date(p, max_date=None):\n",
    "    sub = requirements.loc[requirements['name'] == p, :]\n",
    "    if max_date is not None:\n",
    "        sub = sub[sub.loc[:,'date'] <= max_date]\n",
    "    date = sub.loc[:, 'date'].max()\n",
    "    return date\n",
    "\n",
    "def get_direct_deps(p, date = None):   \n",
    "    if date is None:\n",
    "        date = get_date(p)\n",
    "    \n",
    "    if (p, date) in dep_cache:\n",
    "        return dep_cache[(p, date)][1]\n",
    "    \n",
    "    sub = requirements.loc[requirements['name'] == p, :]\n",
    "    sub = sub.loc[sub['date'] == date, :]\n",
    "    direct_deps = list(sub.loc[:,'requirement'])\n",
    "    return direct_deps\n",
    "\n",
    "def get_all_deps(p, max_date=None, level=1, old_deps=None):\n",
    "    if old_deps is None:\n",
    "        old_deps = []\n",
    "    if level > MAX_LEVEL:\n",
    "        return -1, -1\n",
    "    \n",
    "    date = get_date(p, max_date)\n",
    "    \n",
    "    if (p, date) in dep_cache:\n",
    "        return dep_cache[(p, date)]\n",
    "    \n",
    "    direct_deps = get_direct_deps(p, date)\n",
    "    all_deps = []\n",
    "    for req in direct_deps:\n",
    "        if req in old_deps:\n",
    "            continue\n",
    "        d, _ = get_all_deps(req, date, level+1, all_deps + old_deps)\n",
    "        if d == -1:\n",
    "            return list(set(all_deps)), list(set(direct_deps))\n",
    "        all_deps += d\n",
    "    \n",
    "    all_deps += direct_deps\n",
    "    \n",
    "    dep_cache[(p, date)] = (list(set(all_deps)), list(set(direct_deps)))\n",
    "    return list(set(all_deps)), list(set(direct_deps))\n",
    "\n",
    "def get_transitive_deps(p, max_date=None):\n",
    "    a,d = get_all_deps(p, max_date)\n",
    "    if a == -1:\n",
    "        return -1\n",
    "    return set(a) - set(d)\n",
    "    \n",
    "# get_all_deps('matplotlib')\n",
    "# get_all_deps('actionbar.babble')\n",
    "# get_all_deps('zope')\n",
    "\n",
    "# get_transitive_deps('zope')\n",
    "# get_transitive_deps('actionbar.babble')\n",
    "\n",
    "# get_direct_deps('matplotlib')"
   ]
  },
  {
   "cell_type": "code",
   "execution_count": null,
   "metadata": {
    "ExecuteTime": {
     "start_time": "2019-04-08T05:16:04.820Z"
    }
   },
   "outputs": [],
   "source": [
    "# tran_deps = subset.loc[:,'package_name'].progress_apply(get_transitive_deps)\n",
    "# tran_deps_lens = tran_deps.apply(lambda x: len(x))\n",
    "# val_counts = requirements['requirement'].value_counts()\n",
    "# dir_deps_lens = subset.loc[:,'package_name'].progress_apply(lambda x: len(get_direct_deps(x)))"
   ]
  },
  {
   "cell_type": "code",
   "execution_count": null,
   "metadata": {
    "ExecuteTime": {
     "start_time": "2019-04-08T05:16:04.822Z"
    }
   },
   "outputs": [],
   "source": [
    "# print(tran_deps_lens.sum())\n",
    "# print(dir_deps_lens.sum())\n",
    "# print(tran_deps_lens.sum() / dir_deps_lens.sum())"
   ]
  },
  {
   "cell_type": "markdown",
   "metadata": {},
   "source": [
    "# Automated Process"
   ]
  },
  {
   "cell_type": "code",
   "execution_count": null,
   "metadata": {
    "ExecuteTime": {
     "start_time": "2019-04-08T05:16:04.827Z"
    }
   },
   "outputs": [],
   "source": [
    "first_time = requirements['date'].min()\n",
    "last_time = requirements['date'].max()\n",
    "print('soonest start time:', first_time)\n",
    "print('latest start time:', last_time)"
   ]
  },
  {
   "cell_type": "code",
   "execution_count": null,
   "metadata": {
    "ExecuteTime": {
     "start_time": "2019-04-08T05:16:04.831Z"
    }
   },
   "outputs": [],
   "source": [
    "requirements.loc[:,'tran_deps'] = \\\n",
    "    requirements.progress_apply(lambda x: get_transitive_deps(x['package_name'], x['date']), axis=1)\n",
    "requirements.loc[:,'tran_deps_lens'] = requirements.loc[:,'tran_deps'].apply(lambda x: len(x))\n",
    "requirements.loc[:,'dir_deps_lens'] = \\\n",
    "    requirements.apply(lambda x: len(get_direct_deps(x['package_name'], x['date'])), axis=1)\n",
    "requirements.loc[:,'ratios'] = requirements.progress_apply(lambda x: (x['tran_deps_lens'] / x['dir_deps_lens']), axis=1)"
   ]
  },
  {
   "cell_type": "code",
   "execution_count": null,
   "metadata": {
    "ExecuteTime": {
     "start_time": "2019-04-08T05:16:04.847Z"
    },
    "scrolled": true
   },
   "outputs": [],
   "source": [
    "project_counts = {}\n",
    "project_counts['StartDate'] = []\n",
    "project_counts['EndDate'] = []\n",
    "project_counts['ratios'] = []\n",
    "\n",
    "start_time = add_a_month(first_time)\n",
    "end_time = add_three_months(start_time)\n",
    "while end_time < last_time.replace(day=1):\n",
    "    project_counts['StartDate'].append(start_time)\n",
    "    project_counts['EndDate'].append(end_time)\n",
    "\n",
    "    idxs = (requirements['date'] > start_time) & (requirements['date'] < end_time)\n",
    "    subset = requirements.loc[idxs, :]\n",
    "\n",
    "#     subset.loc[:,'tran_deps'] = subset.apply(lambda x: get_transitive_deps(x['package_name'], x['date']), axis=1)\n",
    "#     subset.loc[:,'tran_deps_lens'] = subset.loc[:,'tran_deps'].apply(lambda x: len(x))\n",
    "#     subset.loc[:,'dir_deps_lens'] = \\\n",
    "#         subset.apply(lambda x: len(get_direct_deps(x['package_name'], x['date'])), axis=1)\n",
    "#     subset.loc[:,'ratios'] = subset.apply(lambda x: (x['tran_deps_lens'] / x['dir_deps_lens']), axis=1)\n",
    "\n",
    "    ratio = subset.loc[:,'ratios'].mean()\n",
    "    print('Time:', start_time, '-', ratio)\n",
    "\n",
    "    project_counts['StartDate'].append(start_time)\n",
    "    project_counts['EndDate'].append(end_time)\n",
    "    project_counts['ratios'].append(ratio)\n",
    "\n",
    "\n",
    "    start_time = end_time\n",
    "    end_time = add_three_months(start_time)"
   ]
  },
  {
   "cell_type": "code",
   "execution_count": null,
   "metadata": {
    "ExecuteTime": {
     "start_time": "2019-04-08T05:16:04.850Z"
    }
   },
   "outputs": [],
   "source": [
    "plt.figure(figsize=(10,8))\n",
    "\n",
    "plt.plot(project_counts['StartDate'], project_counts['ratios'])\n",
    "plt.xlabel('Time')\n",
    "plt.ylabel('Transitive Dependency Ratio')"
   ]
  },
  {
   "cell_type": "code",
   "execution_count": null,
   "metadata": {
    "ExecuteTime": {
     "end_time": "2019-04-08T02:53:30.259579Z",
     "start_time": "2019-04-08T02:53:30.228505Z"
    }
   },
   "outputs": [],
   "source": []
  }
 ],
 "metadata": {
  "kernelspec": {
   "display_name": "Python 3",
   "language": "python",
   "name": "python3"
  },
  "language_info": {
   "codemirror_mode": {
    "name": "ipython",
    "version": 3
   },
   "file_extension": ".py",
   "mimetype": "text/x-python",
   "name": "python",
   "nbconvert_exporter": "python",
   "pygments_lexer": "ipython3",
   "version": "3.6.8"
  },
  "toc": {
   "base_numbering": 1,
   "nav_menu": {},
   "number_sections": true,
   "sideBar": true,
   "skip_h1_title": false,
   "title_cell": "Table of Contents",
   "title_sidebar": "Contents",
   "toc_cell": false,
   "toc_position": {},
   "toc_section_display": true,
   "toc_window_display": false
  },
  "varInspector": {
   "cols": {
    "lenName": 16,
    "lenType": 16,
    "lenVar": 40
   },
   "kernels_config": {
    "python": {
     "delete_cmd_postfix": "",
     "delete_cmd_prefix": "del ",
     "library": "var_list.py",
     "varRefreshCmd": "print(var_dic_list())"
    },
    "r": {
     "delete_cmd_postfix": ") ",
     "delete_cmd_prefix": "rm(",
     "library": "var_list.r",
     "varRefreshCmd": "cat(var_dic_list()) "
    }
   },
   "types_to_exclude": [
    "module",
    "function",
    "builtin_function_or_method",
    "instance",
    "_Feature"
   ],
   "window_display": false
  }
 },
 "nbformat": 4,
 "nbformat_minor": 2
}
