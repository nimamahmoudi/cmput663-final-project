{
 "cells": [
  {
   "cell_type": "markdown",
   "metadata": {},
   "source": [
    "# How do package dependency network grow over time?\n",
    "\n",
    "In this notebook we plan to investigate the dependencies in the Pypi dataset and try to look at\n",
    "how they change over time."
   ]
  },
  {
   "cell_type": "markdown",
   "metadata": {
    "ExecuteTime": {
     "end_time": "2019-03-31T00:30:54.230227Z",
     "start_time": "2019-03-31T00:30:54.225280Z"
    }
   },
   "source": [
    "## Loading data and importing libraries"
   ]
  },
  {
   "cell_type": "code",
   "execution_count": 1,
   "metadata": {
    "ExecuteTime": {
     "end_time": "2019-04-07T22:04:01.403191Z",
     "start_time": "2019-04-07T22:03:59.497475Z"
    }
   },
   "outputs": [],
   "source": [
    "%load_ext autoreload\n",
    "\n",
    "# Auto reloading causes the kernel to reload the libraries we have\n",
    "%autoreload 2\n",
    "\n",
    "# usual imports for visualization, etc.\n",
    "import numpy as np\n",
    "import pandas as pd\n",
    "import matplotlib.pyplot as plt\n",
    "\n",
    "import datetime\n",
    "\n",
    "# make it reproducible\n",
    "np.random.seed(0)\n",
    "\n",
    "# show plots inline\n",
    "%matplotlib inline"
   ]
  },
  {
   "cell_type": "code",
   "execution_count": 2,
   "metadata": {
    "ExecuteTime": {
     "end_time": "2019-04-07T22:08:37.517951Z",
     "start_time": "2019-04-07T22:04:01.432335Z"
    }
   },
   "outputs": [],
   "source": [
    "# data_folder = '../data/'\n",
    "data_folder = 'https://zenodo.org/record/2620607/files/'\n",
    "\n",
    "df_dep = pd.read_csv(data_folder + 'pypi_dependencies.csv', error_bad_lines=False, warn_bad_lines=False)\n",
    "df_proj = pd.read_csv(data_folder + 'pypi_projects.csv', error_bad_lines=False, warn_bad_lines=False,low_memory=False)\n",
    "df_repo = pd.read_csv(data_folder + 'pypi_projects_with_repository_fields.csv', error_bad_lines=False, warn_bad_lines=False,low_memory=False)\n",
    "df_ver = pd.read_csv(data_folder + 'pypi_versions.csv', error_bad_lines=False, warn_bad_lines=False,low_memory=False)\n",
    "\n",
    "for df in [df_dep, df_proj, df_repo, df_ver]:\n",
    "    time_fields = []\n",
    "    for col in df.columns:\n",
    "        if 'timestamp' in col:\n",
    "            time_fields.append(col)\n",
    "    for time_field in time_fields:\n",
    "        try:\n",
    "            df[time_field] = df[time_field].apply(lambda x: datetime.datetime.strptime(x, '%Y-%m-%d %H:%M:%S'))\n",
    "        except:\n",
    "            pass\n",
    "        \n",
    "del df"
   ]
  },
  {
   "cell_type": "markdown",
   "metadata": {},
   "source": [
    "## Defining helper functions and defaults"
   ]
  },
  {
   "cell_type": "code",
   "execution_count": 3,
   "metadata": {
    "ExecuteTime": {
     "end_time": "2019-04-07T22:08:38.406876Z",
     "start_time": "2019-04-07T22:08:38.218830Z"
    }
   },
   "outputs": [
    {
     "name": "stdout",
     "output_type": "stream",
     "text": [
      "mkdir: cannot create directory ‘figs’: File exists\r\n"
     ]
    }
   ],
   "source": [
    "# Helper Functions\n",
    "def add_three_months(t):\n",
    "    for i in range(3):\n",
    "        t = add_a_month(t)\n",
    "    return t\n",
    "def add_a_month(t):\n",
    "    return (t.replace(day=1) + datetime.timedelta(days=31)).replace(day=1)\n",
    "def print_time(t):\n",
    "    return t.strftime(\"%Y-%m-%dT%H:%M:%S\")\n",
    "\n",
    "!mkdir figs\n",
    "figs_dir = 'figs/'"
   ]
  },
  {
   "cell_type": "code",
   "execution_count": 4,
   "metadata": {
    "ExecuteTime": {
     "end_time": "2019-04-07T22:08:38.888971Z",
     "start_time": "2019-04-07T22:08:38.851225Z"
    }
   },
   "outputs": [],
   "source": [
    "from cycler import cycler\n",
    "def set_plt_rc():\n",
    "    SMALL_SIZE = 8\n",
    "    MEDIUM_SIZE = 10\n",
    "    BIGGER_SIZE = 12\n",
    "    \n",
    "    font = {'family': 'serif','size': BIGGER_SIZE}\n",
    "    plt.rc('font', **font)\n",
    "\n",
    "    plt.rc('font', size=SMALL_SIZE)          # controls default text sizes\n",
    "    plt.rc('axes', titlesize=SMALL_SIZE)     # fontsize of the axes title\n",
    "    plt.rc('axes', labelsize=MEDIUM_SIZE)    # fontsize of the x and y labels\n",
    "    plt.rc('xtick', labelsize=SMALL_SIZE)    # fontsize of the tick labels\n",
    "    plt.rc('ytick', labelsize=SMALL_SIZE)    # fontsize of the tick labels\n",
    "    plt.rc('legend', fontsize=SMALL_SIZE)    # legend fontsize\n",
    "    plt.rc('figure', titlesize=BIGGER_SIZE)  # fontsize of the figure title\n",
    "        \n",
    "    plt.rc('axes', prop_cycle=(cycler(color=['#1f77b4', '#ff7f0e', '#2ca02c', '#d62728',\n",
    "                                         '#9467bd', '#8c564b', '#e377c2', '#7f7f7f',\n",
    "                                         '#bcbd22', '#17becf']) +\n",
    "                           cycler(linestyle=['-', '--', ':', '-.','-', '--', ':', '-.','-', '--'])))\n",
    "    \n",
    "set_plt_rc()"
   ]
  },
  {
   "cell_type": "markdown",
   "metadata": {},
   "source": [
    "# Transitive Dependencies"
   ]
  },
  {
   "cell_type": "code",
   "execution_count": 219,
   "metadata": {
    "ExecuteTime": {
     "end_time": "2019-04-08T02:10:06.004064Z",
     "start_time": "2019-04-08T02:10:05.195536Z"
    },
    "scrolled": true
   },
   "outputs": [
    {
     "data": {
      "text/html": [
       "<div>\n",
       "<style scoped>\n",
       "    .dataframe tbody tr th:only-of-type {\n",
       "        vertical-align: middle;\n",
       "    }\n",
       "\n",
       "    .dataframe tbody tr th {\n",
       "        vertical-align: top;\n",
       "    }\n",
       "\n",
       "    .dataframe thead th {\n",
       "        text-align: right;\n",
       "    }\n",
       "</style>\n",
       "<table border=\"1\" class=\"dataframe\">\n",
       "  <thead>\n",
       "    <tr style=\"text-align: right;\">\n",
       "      <th></th>\n",
       "      <th>package_name</th>\n",
       "      <th>requirement</th>\n",
       "    </tr>\n",
       "  </thead>\n",
       "  <tbody>\n",
       "    <tr>\n",
       "      <th>0</th>\n",
       "      <td>0.0.1</td>\n",
       "      <td>tensorflow</td>\n",
       "    </tr>\n",
       "    <tr>\n",
       "      <th>1</th>\n",
       "      <td>0.0.1</td>\n",
       "      <td>pandas</td>\n",
       "    </tr>\n",
       "    <tr>\n",
       "      <th>2</th>\n",
       "      <td>115wangpan</td>\n",
       "      <td>pycurl</td>\n",
       "    </tr>\n",
       "    <tr>\n",
       "      <th>3</th>\n",
       "      <td>115wangpan</td>\n",
       "      <td>six</td>\n",
       "    </tr>\n",
       "    <tr>\n",
       "      <th>4</th>\n",
       "      <td>115wangpan</td>\n",
       "      <td>humanize</td>\n",
       "    </tr>\n",
       "  </tbody>\n",
       "</table>\n",
       "</div>"
      ],
      "text/plain": [
       "  package_name requirement\n",
       "0        0.0.1  tensorflow\n",
       "1        0.0.1      pandas\n",
       "2   115wangpan      pycurl\n",
       "3   115wangpan         six\n",
       "4   115wangpan    humanize"
      ]
     },
     "execution_count": 219,
     "metadata": {},
     "output_type": "execute_result"
    }
   ],
   "source": [
    "data_folder = '../data/'\n",
    "\n",
    "requirements = pd.read_csv(data_folder + 'reqs.csv')\n",
    "\n",
    "subset = pd.read_csv(data_folder + 'data_2018.csv')\n",
    "subset.loc[:,'package_name'] = subset.loc[:,'name']\n",
    "subset.loc[:,'requirement'] = subset.loc[:,'deps']\n",
    "\n",
    "requirements.loc[:,'package_name'] = requirements.loc[:,'package_name'].apply(lambda x: x.lower() if type(x)==str else x)\n",
    "requirements.loc[:,'requirement'] = requirements.loc[:,'requirement'].apply(lambda x: x.lower() if type(x)==str else x)\n",
    "\n",
    "requirements.head()"
   ]
  },
  {
   "cell_type": "code",
   "execution_count": 220,
   "metadata": {
    "ExecuteTime": {
     "end_time": "2019-04-08T02:10:07.227139Z",
     "start_time": "2019-04-08T02:10:07.200513Z"
    }
   },
   "outputs": [],
   "source": [
    "from tqdm.autonotebook import tqdm\n",
    "\n",
    "tqdm.pandas()"
   ]
  },
  {
   "cell_type": "code",
   "execution_count": 221,
   "metadata": {
    "ExecuteTime": {
     "end_time": "2019-04-08T02:10:10.298806Z",
     "start_time": "2019-04-08T02:10:10.248417Z"
    }
   },
   "outputs": [],
   "source": [
    "dep_cache = {}\n",
    "\n",
    "def get_direct_deps(p):\n",
    "    direct_deps = list(requirements.loc[requirements.loc[:, 'package_name'] == p, 'requirement'])\n",
    "#     print('direct_deps', p, direct_deps)\n",
    "    return direct_deps\n",
    "\n",
    "def get_all_deps(p, level=1, old_deps=None):\n",
    "    if old_deps is None:\n",
    "        old_deps = []\n",
    "    if level > 5:\n",
    "        return -1, -1\n",
    "    if p in dep_cache:\n",
    "        return dep_cache[p]\n",
    "    \n",
    "#     print(p)\n",
    "    \n",
    "    direct_deps = get_direct_deps(p)\n",
    "    all_deps = []\n",
    "    for req in direct_deps:\n",
    "        if req in old_deps:\n",
    "            continue\n",
    "        d, _ = get_all_deps(req, level+1, all_deps + old_deps)\n",
    "        if d == -1:\n",
    "            return list(set(all_deps)), list(set(direct_deps))\n",
    "#             return -1, -1\n",
    "        all_deps += d\n",
    "    \n",
    "    all_deps += direct_deps\n",
    "    \n",
    "    dep_cache[p] = (list(set(all_deps)), list(set(direct_deps)))\n",
    "    return list(set(all_deps)), list(set(direct_deps))\n",
    "\n",
    "def get_transitive_deps(p):\n",
    "    a,d = get_all_deps(p)\n",
    "    if a == -1:\n",
    "        return -1\n",
    "    return set(a) - set(d)\n",
    "    \n",
    "# get_all_deps('matplotlib')\n",
    "# get_all_deps('actionbar.babble')\n",
    "\n",
    "# get_transitive_deps('zope')\n",
    "# get_transitive_deps('actionbar.babble')"
   ]
  },
  {
   "cell_type": "code",
   "execution_count": null,
   "metadata": {
    "ExecuteTime": {
     "start_time": "2019-04-08T02:10:10.135Z"
    }
   },
   "outputs": [
    {
     "data": {
      "application/vnd.jupyter.widget-view+json": {
       "model_id": "5db0e58bcc044f21a7be815feda13d83",
       "version_major": 2,
       "version_minor": 0
      },
      "text/plain": [
       "HBox(children=(IntProgress(value=0, max=17417), HTML(value='')))"
      ]
     },
     "metadata": {},
     "output_type": "display_data"
    }
   ],
   "source": [
    "tran_deps = subset.loc[:,'package_name'].progress_apply(get_transitive_deps)"
   ]
  },
  {
   "cell_type": "code",
   "execution_count": null,
   "metadata": {
    "ExecuteTime": {
     "start_time": "2019-04-08T02:10:11.914Z"
    }
   },
   "outputs": [],
   "source": [
    "tran_deps_lens = tran_deps.apply(lambda x: len(x))\n",
    "val_counts = requirements['requirement'].value_counts()\n",
    "dir_deps_lens = subset.loc[:,'package_name'].progress_apply(lambda x: len(get_direct_deps(x)))"
   ]
  },
  {
   "cell_type": "code",
   "execution_count": null,
   "metadata": {
    "ExecuteTime": {
     "start_time": "2019-04-08T02:10:12.323Z"
    }
   },
   "outputs": [],
   "source": [
    "print(tran_deps_lens.sum())\n",
    "print(dir_deps_lens.sum())\n",
    "print(tran_deps_lens.sum() / dir_deps_lens.sum())"
   ]
  },
  {
   "cell_type": "code",
   "execution_count": 117,
   "metadata": {
    "ExecuteTime": {
     "end_time": "2019-04-08T00:42:42.531621Z",
     "start_time": "2019-04-08T00:42:34.642519Z"
    }
   },
   "outputs": [
    {
     "data": {
      "application/vnd.jupyter.widget-view+json": {
       "model_id": "749e995ac3c34dc084bf26e753ef99ff",
       "version_major": 2,
       "version_minor": 0
      },
      "text/plain": [
       "HBox(children=(IntProgress(value=0, max=14047), HTML(value='')))"
      ]
     },
     "metadata": {},
     "output_type": "display_data"
    },
    {
     "data": {
      "application/vnd.jupyter.widget-view+json": {
       "model_id": "87b5360561a942799f731890481cf517",
       "version_major": 2,
       "version_minor": 0
      },
      "text/plain": [
       "HBox(children=(IntProgress(value=0, max=7951), HTML(value='')))"
      ]
     },
     "metadata": {},
     "output_type": "display_data"
    },
    {
     "data": {
      "application/vnd.jupyter.widget-view+json": {
       "model_id": "a13e63a556b44e4f913626c2f40eab60",
       "version_major": 2,
       "version_minor": 0
      },
      "text/plain": [
       "HBox(children=(IntProgress(value=0, max=5814), HTML(value='')))"
      ]
     },
     "metadata": {},
     "output_type": "display_data"
    },
    {
     "data": {
      "application/vnd.jupyter.widget-view+json": {
       "model_id": "e4a1e4a476eb4184a7ccfd5b7acb30fb",
       "version_major": 2,
       "version_minor": 0
      },
      "text/plain": [
       "HBox(children=(IntProgress(value=0, max=4938), HTML(value='')))"
      ]
     },
     "metadata": {},
     "output_type": "display_data"
    },
    {
     "data": {
      "application/vnd.jupyter.widget-view+json": {
       "model_id": "91ab6737ba744057b3b653a5b567b4b6",
       "version_major": 2,
       "version_minor": 0
      },
      "text/plain": [
       "HBox(children=(IntProgress(value=0, max=4586), HTML(value='')))"
      ]
     },
     "metadata": {},
     "output_type": "display_data"
    },
    {
     "data": {
      "application/vnd.jupyter.widget-view+json": {
       "model_id": "118ac2ba1969471dbf00287e4ed06103",
       "version_major": 2,
       "version_minor": 0
      },
      "text/plain": [
       "HBox(children=(IntProgress(value=0, max=4392), HTML(value='')))"
      ]
     },
     "metadata": {},
     "output_type": "display_data"
    },
    {
     "data": {
      "application/vnd.jupyter.widget-view+json": {
       "model_id": "25c90e98eaf3486198231889fa99a808",
       "version_major": 2,
       "version_minor": 0
      },
      "text/plain": [
       "HBox(children=(IntProgress(value=0, max=4233), HTML(value='')))"
      ]
     },
     "metadata": {},
     "output_type": "display_data"
    },
    {
     "data": {
      "application/vnd.jupyter.widget-view+json": {
       "model_id": "ceb2daa8d42a4d1a88877e9e59a7b56b",
       "version_major": 2,
       "version_minor": 0
      },
      "text/plain": [
       "HBox(children=(IntProgress(value=0, max=4140), HTML(value='')))"
      ]
     },
     "metadata": {},
     "output_type": "display_data"
    },
    {
     "data": {
      "application/vnd.jupyter.widget-view+json": {
       "model_id": "befa119fa5a3409eb4d42fb377b4fec0",
       "version_major": 2,
       "version_minor": 0
      },
      "text/plain": [
       "HBox(children=(IntProgress(value=0, max=4096), HTML(value='')))"
      ]
     },
     "metadata": {},
     "output_type": "display_data"
    },
    {
     "data": {
      "application/vnd.jupyter.widget-view+json": {
       "model_id": "542d4d3a7b9440c19a4f83ef4d78aa33",
       "version_major": 2,
       "version_minor": 0
      },
      "text/plain": [
       "HBox(children=(IntProgress(value=0, max=4048), HTML(value='')))"
      ]
     },
     "metadata": {},
     "output_type": "display_data"
    },
    {
     "data": {
      "application/vnd.jupyter.widget-view+json": {
       "model_id": "9da641b7d0ac46d2afd471e848689683",
       "version_major": 2,
       "version_minor": 0
      },
      "text/plain": [
       "HBox(children=(IntProgress(value=0, max=3979), HTML(value='')))"
      ]
     },
     "metadata": {},
     "output_type": "display_data"
    },
    {
     "data": {
      "application/vnd.jupyter.widget-view+json": {
       "model_id": "e12a7ef7ecc84072ba40400d240a5029",
       "version_major": 2,
       "version_minor": 0
      },
      "text/plain": [
       "HBox(children=(IntProgress(value=0, max=3901), HTML(value='')))"
      ]
     },
     "metadata": {},
     "output_type": "display_data"
    },
    {
     "data": {
      "application/vnd.jupyter.widget-view+json": {
       "model_id": "062e8b34beea4581826674b270491630",
       "version_major": 2,
       "version_minor": 0
      },
      "text/plain": [
       "HBox(children=(IntProgress(value=0, max=3860), HTML(value='')))"
      ]
     },
     "metadata": {},
     "output_type": "display_data"
    },
    {
     "data": {
      "application/vnd.jupyter.widget-view+json": {
       "model_id": "daf23bfba1c649098707aca018686ba9",
       "version_major": 2,
       "version_minor": 0
      },
      "text/plain": [
       "HBox(children=(IntProgress(value=0, max=3853), HTML(value='')))"
      ]
     },
     "metadata": {},
     "output_type": "display_data"
    },
    {
     "data": {
      "application/vnd.jupyter.widget-view+json": {
       "model_id": "16c7549d58164f04885d27212f6d1758",
       "version_major": 2,
       "version_minor": 0
      },
      "text/plain": [
       "HBox(children=(IntProgress(value=0, max=3853), HTML(value='')))"
      ]
     },
     "metadata": {},
     "output_type": "display_data"
    },
    {
     "name": "stdout",
     "output_type": "stream",
     "text": [
      "maximum depth until got to loops: 14\n",
      "212170\n",
      "[407847, 65686, 45305, 35734, 32057, 30744, 30077, 29363, 28830, 28545, 28267, 27927, 27571, 27415, 27407]\n"
     ]
    }
   ],
   "source": [
    "trans_deps = []\n",
    "\n",
    "idx = requirements['package_name'].isin(subset['package_name'])\n",
    "\n",
    "transreqs = requirements.loc[idx,:]\n",
    "transreqs.loc[:,'counts'] = transreqs.apply(lambda x: 1, axis=1)\n",
    "\n",
    "direct_deps = requirements.shape[0]\n",
    "\n",
    "transreqs_old = requirements\n",
    "transreqs_old.loc[:,'counts'] = transreqs_old.apply(lambda x: 1, axis=1)\n",
    "last_count = 0\n",
    "for i in range(100):\n",
    "    # look at next level\n",
    "#     transreqs = transreqs[transreqs_old['package_name'].isin(transreqs_old['requirement'])]\n",
    "    transreqs = transreqs_old[transreqs_old['package_name'].isin(transreqs['requirement'])]\n",
    "    \n",
    "    val_counts = transreqs_old['requirement'].value_counts()\n",
    "    transreqs.loc[:,'counts'] = transreqs['package_name'].progress_apply(lambda x: val_counts[x])\n",
    "\n",
    "#     transreqs.loc[:,'counts'] = transreqs['package_name'].progress_apply(\n",
    "#         lambda x: transreqs_old.loc[transreqs_old['requirement'] == x, 'counts'].sum()\n",
    "#     )\n",
    "    \n",
    "#     if i > 0:\n",
    "#         all_groups_counts = transreqs_old.groupby('requirement')['counts'].sum()\n",
    "#         transreqs.loc[:,'counts'] = transreqs['package_name'].progress_apply(\n",
    "#             lambda x: all_groups_counts[x]\n",
    "#         )\n",
    "#     else:\n",
    "#         val_counts = transreqs_old['requirement'].value_counts()\n",
    "#         transreqs.loc[:,'counts'] = transreqs['package_name'].progress_apply(lambda x: val_counts[x])\n",
    "    \n",
    "    new_count = transreqs.shape[0]\n",
    "    \n",
    "    trans_deps += [transreqs.loc[:,'counts'].sum()]\n",
    "    \n",
    "    if new_count == last_count:\n",
    "        print('maximum depth until got to loops:', i)\n",
    "        break\n",
    "    last_count = new_count\n",
    "    transreqs_old = transreqs\n",
    "    \n",
    "print(direct_deps)\n",
    "print(trans_deps)\n",
    "# print(trans_deps / direct_deps)"
   ]
  },
  {
   "cell_type": "code",
   "execution_count": 128,
   "metadata": {
    "ExecuteTime": {
     "end_time": "2019-04-08T00:56:03.729263Z",
     "start_time": "2019-04-08T00:56:01.004594Z"
    }
   },
   "outputs": [
    {
     "name": "stderr",
     "output_type": "stream",
     "text": [
      "/home/ubuntu/anaconda3/envs/mlse/lib/python3.6/site-packages/pandas/core/indexing.py:543: SettingWithCopyWarning: \n",
      "A value is trying to be set on a copy of a slice from a DataFrame.\n",
      "Try using .loc[row_indexer,col_indexer] = value instead\n",
      "\n",
      "See the caveats in the documentation: http://pandas.pydata.org/pandas-docs/stable/indexing.html#indexing-view-versus-copy\n",
      "  self.obj[item] = s\n"
     ]
    }
   ],
   "source": [
    "direct_deps = requirements.shape[0]\n",
    "\n",
    "trans_deps = 0\n",
    "\n",
    "idx = requirements['package_name'] == 'matplotlib'\n",
    "\n",
    "transreqs = requirements.loc[idx,:]\n",
    "transreqs.loc[:,'counts'] = transreqs.apply(lambda x: 1, axis=1)\n",
    "transreqs_old = requirements\n",
    "transreqs_old.loc[:,'counts'] = transreqs_old.apply(lambda x: 1, axis=1)\n",
    "last_count = 0\n",
    "\n",
    "transreqs\n",
    "\n",
    "i = 0"
   ]
  },
  {
   "cell_type": "code",
   "execution_count": 129,
   "metadata": {
    "ExecuteTime": {
     "end_time": "2019-04-08T00:56:05.042199Z",
     "start_time": "2019-04-08T00:56:04.741911Z"
    }
   },
   "outputs": [
    {
     "data": {
      "application/vnd.jupyter.widget-view+json": {
       "model_id": "0d1844969ecb4491bce50588d7c40065",
       "version_major": 2,
       "version_minor": 0
      },
      "text/plain": [
       "HBox(children=(IntProgress(value=0, max=1), HTML(value='')))"
      ]
     },
     "metadata": {},
     "output_type": "display_data"
    },
    {
     "data": {
      "text/html": [
       "<div>\n",
       "<style scoped>\n",
       "    .dataframe tbody tr th:only-of-type {\n",
       "        vertical-align: middle;\n",
       "    }\n",
       "\n",
       "    .dataframe tbody tr th {\n",
       "        vertical-align: top;\n",
       "    }\n",
       "\n",
       "    .dataframe thead th {\n",
       "        text-align: right;\n",
       "    }\n",
       "</style>\n",
       "<table border=\"1\" class=\"dataframe\">\n",
       "  <thead>\n",
       "    <tr style=\"text-align: right;\">\n",
       "      <th></th>\n",
       "      <th>package_name</th>\n",
       "      <th>requirement</th>\n",
       "      <th>counts</th>\n",
       "    </tr>\n",
       "  </thead>\n",
       "  <tbody>\n",
       "    <tr>\n",
       "      <th>151627</th>\n",
       "      <td>python-dateutil</td>\n",
       "      <td>six</td>\n",
       "      <td>2086</td>\n",
       "    </tr>\n",
       "  </tbody>\n",
       "</table>\n",
       "</div>"
      ],
      "text/plain": [
       "           package_name requirement  counts\n",
       "151627  python-dateutil         six    2086"
      ]
     },
     "execution_count": 129,
     "metadata": {},
     "output_type": "execute_result"
    }
   ],
   "source": [
    "transreqs = transreqs_old[transreqs_old['package_name'].isin(transreqs['requirement'])]\n",
    "\n",
    "all_groups_counts = transreqs_old.groupby('requirement')['counts'].sum()\n",
    "transreqs.loc[:,'counts'] = transreqs['package_name'].progress_apply(\n",
    "    lambda x: all_groups_counts[x]\n",
    ")\n",
    "\n",
    "new_count = transreqs.shape[0]\n",
    "\n",
    "trans_deps += transreqs.loc[:,'counts'].sum()\n",
    "\n",
    "if new_count == last_count:\n",
    "    print('maximum depth until got to loops:', i)\n",
    "last_count = new_count\n",
    "transreqs_old = transreqs\n",
    "\n",
    "\n",
    "i += 1\n",
    "transreqs"
   ]
  },
  {
   "cell_type": "code",
   "execution_count": 100,
   "metadata": {
    "ExecuteTime": {
     "end_time": "2019-04-08T00:25:17.740550Z",
     "start_time": "2019-04-08T00:25:17.709267Z"
    }
   },
   "outputs": [
    {
     "data": {
      "text/html": [
       "<div>\n",
       "<style scoped>\n",
       "    .dataframe tbody tr th:only-of-type {\n",
       "        vertical-align: middle;\n",
       "    }\n",
       "\n",
       "    .dataframe tbody tr th {\n",
       "        vertical-align: top;\n",
       "    }\n",
       "\n",
       "    .dataframe thead th {\n",
       "        text-align: right;\n",
       "    }\n",
       "</style>\n",
       "<table border=\"1\" class=\"dataframe\">\n",
       "  <thead>\n",
       "    <tr style=\"text-align: right;\">\n",
       "      <th></th>\n",
       "      <th>package_name</th>\n",
       "      <th>requirement</th>\n",
       "      <th>counts</th>\n",
       "    </tr>\n",
       "  </thead>\n",
       "  <tbody>\n",
       "  </tbody>\n",
       "</table>\n",
       "</div>"
      ],
      "text/plain": [
       "Empty DataFrame\n",
       "Columns: [package_name, requirement, counts]\n",
       "Index: []"
      ]
     },
     "execution_count": 100,
     "metadata": {},
     "output_type": "execute_result"
    }
   ],
   "source": []
  }
 ],
 "metadata": {
  "kernelspec": {
   "display_name": "Python 3",
   "language": "python",
   "name": "python3"
  },
  "language_info": {
   "codemirror_mode": {
    "name": "ipython",
    "version": 3
   },
   "file_extension": ".py",
   "mimetype": "text/x-python",
   "name": "python",
   "nbconvert_exporter": "python",
   "pygments_lexer": "ipython3",
   "version": "3.6.8"
  },
  "toc": {
   "base_numbering": 1,
   "nav_menu": {},
   "number_sections": true,
   "sideBar": true,
   "skip_h1_title": false,
   "title_cell": "Table of Contents",
   "title_sidebar": "Contents",
   "toc_cell": false,
   "toc_position": {},
   "toc_section_display": true,
   "toc_window_display": false
  },
  "varInspector": {
   "cols": {
    "lenName": 16,
    "lenType": 16,
    "lenVar": 40
   },
   "kernels_config": {
    "python": {
     "delete_cmd_postfix": "",
     "delete_cmd_prefix": "del ",
     "library": "var_list.py",
     "varRefreshCmd": "print(var_dic_list())"
    },
    "r": {
     "delete_cmd_postfix": ") ",
     "delete_cmd_prefix": "rm(",
     "library": "var_list.r",
     "varRefreshCmd": "cat(var_dic_list()) "
    }
   },
   "types_to_exclude": [
    "module",
    "function",
    "builtin_function_or_method",
    "instance",
    "_Feature"
   ],
   "window_display": false
  }
 },
 "nbformat": 4,
 "nbformat_minor": 2
}
