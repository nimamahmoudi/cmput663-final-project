{
 "cells": [
  {
   "cell_type": "markdown",
   "metadata": {},
   "source": [
    "# How do package dependency network grow over time?\n",
    "\n",
    "In this notebook we plan to investigate the dependencies in the Pypi dataset and try to look at\n",
    "how they change over time."
   ]
  },
  {
   "cell_type": "markdown",
   "metadata": {
    "ExecuteTime": {
     "end_time": "2019-03-31T00:30:54.230227Z",
     "start_time": "2019-03-31T00:30:54.225280Z"
    }
   },
   "source": [
    "## Loading data and importing libraries"
   ]
  },
  {
   "cell_type": "code",
   "execution_count": 1,
   "metadata": {
    "ExecuteTime": {
     "end_time": "2019-04-08T13:54:56.379639Z",
     "start_time": "2019-04-08T13:54:55.111497Z"
    }
   },
   "outputs": [],
   "source": [
    "%load_ext autoreload\n",
    "\n",
    "# Auto reloading causes the kernel to reload the libraries we have\n",
    "%autoreload 2\n",
    "\n",
    "# usual imports for visualization, etc.\n",
    "import numpy as np\n",
    "import pandas as pd\n",
    "import matplotlib.pyplot as plt\n",
    "\n",
    "import datetime\n",
    "\n",
    "# make it reproducible\n",
    "np.random.seed(0)\n",
    "\n",
    "# show plots inline\n",
    "%matplotlib inline"
   ]
  },
  {
   "cell_type": "markdown",
   "metadata": {},
   "source": [
    "## Defining helper functions and defaults"
   ]
  },
  {
   "cell_type": "code",
   "execution_count": 2,
   "metadata": {
    "ExecuteTime": {
     "end_time": "2019-04-08T13:54:56.577322Z",
     "start_time": "2019-04-08T13:54:56.413640Z"
    }
   },
   "outputs": [
    {
     "name": "stdout",
     "output_type": "stream",
     "text": [
      "mkdir: cannot create directory ‘figs’: File exists\r\n"
     ]
    }
   ],
   "source": [
    "# Helper Functions\n",
    "def add_three_months(t):\n",
    "    for i in range(1):\n",
    "        t = add_a_month(t)\n",
    "    return t\n",
    "def add_a_month(t):\n",
    "    return (t.replace(day=1) + datetime.timedelta(days=31)).replace(day=1)\n",
    "def print_time(t):\n",
    "    return t.strftime(\"%Y-%m-%dT%H:%M:%S\")\n",
    "\n",
    "!mkdir figs\n",
    "figs_dir = 'figs/'"
   ]
  },
  {
   "cell_type": "code",
   "execution_count": 3,
   "metadata": {
    "ExecuteTime": {
     "end_time": "2019-04-08T13:54:56.648996Z",
     "start_time": "2019-04-08T13:54:56.613196Z"
    }
   },
   "outputs": [],
   "source": [
    "from cycler import cycler\n",
    "def set_plt_rc():\n",
    "    SMALL_SIZE = 8\n",
    "    MEDIUM_SIZE = 10\n",
    "    BIGGER_SIZE = 12\n",
    "    \n",
    "    font = {'family': 'serif','size': BIGGER_SIZE}\n",
    "    plt.rc('font', **font)\n",
    "\n",
    "    plt.rc('font', size=SMALL_SIZE)          # controls default text sizes\n",
    "    plt.rc('axes', titlesize=SMALL_SIZE)     # fontsize of the axes title\n",
    "    plt.rc('axes', labelsize=MEDIUM_SIZE)    # fontsize of the x and y labels\n",
    "    plt.rc('xtick', labelsize=SMALL_SIZE)    # fontsize of the tick labels\n",
    "    plt.rc('ytick', labelsize=SMALL_SIZE)    # fontsize of the tick labels\n",
    "    plt.rc('legend', fontsize=SMALL_SIZE)    # legend fontsize\n",
    "    plt.rc('figure', titlesize=BIGGER_SIZE)  # fontsize of the figure title\n",
    "        \n",
    "    plt.rc('axes', prop_cycle=(cycler(color=['#1f77b4', '#ff7f0e', '#2ca02c', '#d62728',\n",
    "                                         '#9467bd', '#8c564b', '#e377c2', '#7f7f7f',\n",
    "                                         '#bcbd22', '#17becf']) +\n",
    "                           cycler(linestyle=['-', '--', ':', '-.','-', '--', ':', '-.','-', '--'])))\n",
    "    \n",
    "set_plt_rc()"
   ]
  },
  {
   "cell_type": "markdown",
   "metadata": {},
   "source": [
    "# Transitive Dependencies"
   ]
  },
  {
   "cell_type": "code",
   "execution_count": 4,
   "metadata": {
    "ExecuteTime": {
     "end_time": "2019-04-08T13:56:16.738282Z",
     "start_time": "2019-04-08T13:54:57.267923Z"
    },
    "scrolled": true
   },
   "outputs": [
    {
     "data": {
      "text/html": [
       "<div>\n",
       "<style scoped>\n",
       "    .dataframe tbody tr th:only-of-type {\n",
       "        vertical-align: middle;\n",
       "    }\n",
       "\n",
       "    .dataframe tbody tr th {\n",
       "        vertical-align: top;\n",
       "    }\n",
       "\n",
       "    .dataframe thead th {\n",
       "        text-align: right;\n",
       "    }\n",
       "</style>\n",
       "<table border=\"1\" class=\"dataframe\">\n",
       "  <thead>\n",
       "    <tr style=\"text-align: right;\">\n",
       "      <th></th>\n",
       "      <th>package_name</th>\n",
       "      <th>requirement</th>\n",
       "    </tr>\n",
       "  </thead>\n",
       "  <tbody>\n",
       "    <tr>\n",
       "      <th>0</th>\n",
       "      <td>0.0.1</td>\n",
       "      <td>tensorflow</td>\n",
       "    </tr>\n",
       "    <tr>\n",
       "      <th>1</th>\n",
       "      <td>0.0.1</td>\n",
       "      <td>pandas</td>\n",
       "    </tr>\n",
       "    <tr>\n",
       "      <th>2</th>\n",
       "      <td>115wangpan</td>\n",
       "      <td>pycurl</td>\n",
       "    </tr>\n",
       "    <tr>\n",
       "      <th>3</th>\n",
       "      <td>115wangpan</td>\n",
       "      <td>six</td>\n",
       "    </tr>\n",
       "    <tr>\n",
       "      <th>4</th>\n",
       "      <td>115wangpan</td>\n",
       "      <td>humanize</td>\n",
       "    </tr>\n",
       "  </tbody>\n",
       "</table>\n",
       "</div>"
      ],
      "text/plain": [
       "  package_name requirement\n",
       "0        0.0.1  tensorflow\n",
       "1        0.0.1      pandas\n",
       "2   115wangpan      pycurl\n",
       "3   115wangpan         six\n",
       "4   115wangpan    humanize"
      ]
     },
     "execution_count": 4,
     "metadata": {},
     "output_type": "execute_result"
    }
   ],
   "source": [
    "\n",
    "data_folder = '../data/'\n",
    "\n",
    "requirements = pd.read_csv(data_folder + 'data_all.csv')\n",
    "requirements.loc[:,'package_name'] = requirements.loc[:,'name']\n",
    "requirements.loc[:,'requirement'] = requirements.loc[:,'deps']\n",
    "\n",
    "requirements.loc[:,'package_name'] = requirements.loc[:,'package_name'].apply(lambda x: x.lower() if type(x)==str else x)\n",
    "requirements.loc[:,'requirement'] = requirements.loc[:,'requirement'].apply(lambda x: x.lower() if type(x)==str else x)\n",
    "\n",
    "requirements.loc[:,'date'] = requirements.loc[:,'date'].apply(lambda x: datetime.datetime.strptime(x, '%Y-%m-%d'))\n",
    "\n",
    "\n",
    "\n",
    "sub = requirements\n",
    "\n",
    "data_folder = '../data/'\n",
    "requirements = pd.read_csv(data_folder + 'reqs.csv')\n",
    "requirements.loc[:,'package_name'] = requirements.loc[:,'package_name'].apply(lambda x: x.lower() if type(x)==str else x)\n",
    "requirements.loc[:,'requirement'] = requirements.loc[:,'requirement'].apply(lambda x: x.lower() if type(x)==str else x)\n",
    "\n",
    "requirements.head()"
   ]
  },
  {
   "cell_type": "code",
   "execution_count": 5,
   "metadata": {
    "ExecuteTime": {
     "end_time": "2019-04-08T13:56:32.169351Z",
     "start_time": "2019-04-08T13:56:32.129810Z"
    }
   },
   "outputs": [
    {
     "data": {
      "text/html": [
       "<div>\n",
       "<style scoped>\n",
       "    .dataframe tbody tr th:only-of-type {\n",
       "        vertical-align: middle;\n",
       "    }\n",
       "\n",
       "    .dataframe tbody tr th {\n",
       "        vertical-align: top;\n",
       "    }\n",
       "\n",
       "    .dataframe thead th {\n",
       "        text-align: right;\n",
       "    }\n",
       "</style>\n",
       "<table border=\"1\" class=\"dataframe\">\n",
       "  <thead>\n",
       "    <tr style=\"text-align: right;\">\n",
       "      <th></th>\n",
       "      <th>name</th>\n",
       "      <th>version</th>\n",
       "      <th>date</th>\n",
       "      <th>deps</th>\n",
       "      <th>package_name</th>\n",
       "      <th>requirement</th>\n",
       "    </tr>\n",
       "  </thead>\n",
       "  <tbody>\n",
       "    <tr>\n",
       "      <th>0</th>\n",
       "      <td>0.0.1</td>\n",
       "      <td>0.0.1</td>\n",
       "      <td>2017-12-20</td>\n",
       "      <td>tensorflow</td>\n",
       "      <td>0.0.1</td>\n",
       "      <td>tensorflow</td>\n",
       "    </tr>\n",
       "    <tr>\n",
       "      <th>1</th>\n",
       "      <td>0.0.1</td>\n",
       "      <td>0.0.1</td>\n",
       "      <td>2017-12-20</td>\n",
       "      <td>pandas</td>\n",
       "      <td>0.0.1</td>\n",
       "      <td>pandas</td>\n",
       "    </tr>\n",
       "    <tr>\n",
       "      <th>2</th>\n",
       "      <td>115wangpan</td>\n",
       "      <td>0.1.0</td>\n",
       "      <td>2014-09-11</td>\n",
       "      <td>six</td>\n",
       "      <td>115wangpan</td>\n",
       "      <td>six</td>\n",
       "    </tr>\n",
       "    <tr>\n",
       "      <th>3</th>\n",
       "      <td>115wangpan</td>\n",
       "      <td>0.1.0</td>\n",
       "      <td>2014-09-11</td>\n",
       "      <td>beautifulsoup4</td>\n",
       "      <td>115wangpan</td>\n",
       "      <td>beautifulsoup4</td>\n",
       "    </tr>\n",
       "    <tr>\n",
       "      <th>4</th>\n",
       "      <td>115wangpan</td>\n",
       "      <td>0.1.0</td>\n",
       "      <td>2014-09-11</td>\n",
       "      <td>humanize</td>\n",
       "      <td>115wangpan</td>\n",
       "      <td>humanize</td>\n",
       "    </tr>\n",
       "  </tbody>\n",
       "</table>\n",
       "</div>"
      ],
      "text/plain": [
       "         name version       date            deps package_name     requirement\n",
       "0       0.0.1   0.0.1 2017-12-20      tensorflow        0.0.1      tensorflow\n",
       "1       0.0.1   0.0.1 2017-12-20          pandas        0.0.1          pandas\n",
       "2  115wangpan   0.1.0 2014-09-11             six   115wangpan             six\n",
       "3  115wangpan   0.1.0 2014-09-11  beautifulsoup4   115wangpan  beautifulsoup4\n",
       "4  115wangpan   0.1.0 2014-09-11        humanize   115wangpan        humanize"
      ]
     },
     "execution_count": 5,
     "metadata": {},
     "output_type": "execute_result"
    }
   ],
   "source": [
    "sub.head()"
   ]
  },
  {
   "cell_type": "code",
   "execution_count": 6,
   "metadata": {
    "ExecuteTime": {
     "end_time": "2019-04-08T13:56:36.192394Z",
     "start_time": "2019-04-08T13:56:36.159643Z"
    }
   },
   "outputs": [
    {
     "name": "stderr",
     "output_type": "stream",
     "text": [
      "/home/ubuntu/anaconda3/envs/mlse/lib/python3.6/site-packages/tqdm/autonotebook/__init__.py:14: TqdmExperimentalWarning: Using `tqdm.autonotebook.tqdm` in notebook mode. Use `tqdm.tqdm` instead to force console mode (e.g. in jupyter console)\n",
      "  \" (e.g. in jupyter console)\", TqdmExperimentalWarning)\n"
     ]
    }
   ],
   "source": [
    "from tqdm.autonotebook import tqdm\n",
    "\n",
    "tqdm.pandas()"
   ]
  },
  {
   "cell_type": "code",
   "execution_count": 7,
   "metadata": {
    "ExecuteTime": {
     "end_time": "2019-04-08T13:56:51.937725Z",
     "start_time": "2019-04-08T13:56:51.885657Z"
    }
   },
   "outputs": [],
   "source": [
    "dep_cache = {}\n",
    "MAX_LEVEL = 10\n",
    "\n",
    "def get_direct_deps(p):\n",
    "    if p in dep_cache:\n",
    "        return dep_cache[p][1]\n",
    "    \n",
    "    direct_deps = list(requirements.loc[requirements.loc[:, 'package_name'] == p, 'requirement'])\n",
    "#     print('direct_deps', p, direct_deps)\n",
    "    return direct_deps\n",
    "\n",
    "def get_all_deps(p, level=1, old_deps=None):\n",
    "    if old_deps is None:\n",
    "        old_deps = []\n",
    "    if level > MAX_LEVEL:\n",
    "        return -1, -1\n",
    "    if p in dep_cache:\n",
    "        return dep_cache[p]\n",
    "    \n",
    "#     print(p)\n",
    "    \n",
    "    direct_deps = get_direct_deps(p)\n",
    "    all_deps = []\n",
    "    for req in direct_deps:\n",
    "        if req in old_deps:\n",
    "            continue\n",
    "        d, _ = get_all_deps(req, level+1, all_deps + old_deps)\n",
    "        if d == -1:\n",
    "            return list(set(all_deps)), list(set(direct_deps))\n",
    "#             return -1, -1\n",
    "        all_deps += d\n",
    "    \n",
    "    all_deps += direct_deps\n",
    "    \n",
    "    dep_cache[p] = (list(set(all_deps)), list(set(direct_deps)))\n",
    "    return list(set(all_deps)), list(set(direct_deps))\n",
    "\n",
    "def get_transitive_deps(p):\n",
    "    a,d = get_all_deps(p)\n",
    "    if a == -1:\n",
    "        return -1\n",
    "    return set(a) - set(d)\n",
    "    \n",
    "# get_all_deps('matplotlib')\n",
    "# get_all_deps('actionbar.babble')\n",
    "\n",
    "# get_transitive_deps('zope')\n",
    "# get_transitive_deps('actionbar.babble')"
   ]
  },
  {
   "cell_type": "markdown",
   "metadata": {},
   "source": [
    "# Automated Process"
   ]
  },
  {
   "cell_type": "code",
   "execution_count": 9,
   "metadata": {
    "ExecuteTime": {
     "end_time": "2019-04-08T13:57:11.306115Z",
     "start_time": "2019-04-08T13:57:11.228845Z"
    }
   },
   "outputs": [
    {
     "name": "stdout",
     "output_type": "stream",
     "text": [
      "soonest start time: 2005-08-27 00:00:00\n",
      "latest start time: 2018-01-20 00:00:00\n"
     ]
    }
   ],
   "source": [
    "first_time = sub['date'].min()\n",
    "last_time = sub['date'].max()\n",
    "print('soonest start time:', first_time)\n",
    "print('latest start time:', last_time)"
   ]
  },
  {
   "cell_type": "code",
   "execution_count": null,
   "metadata": {
    "ExecuteTime": {
     "start_time": "2019-04-08T13:57:54.761Z"
    }
   },
   "outputs": [
    {
     "data": {
      "application/vnd.jupyter.widget-view+json": {
       "model_id": "febe10f1a763435783bbe2ae3a734717",
       "version_major": 2,
       "version_minor": 0
      },
      "text/plain": [
       "HBox(children=(IntProgress(value=0, max=2371175), HTML(value='')))"
      ]
     },
     "metadata": {},
     "output_type": "display_data"
    }
   ],
   "source": [
    "sub.loc[:,'tran_deps'] = sub.loc[:,'package_name'].progress_apply(get_transitive_deps)\n",
    "sub.loc[:,'tran_deps_lens'] = sub.loc[:,'tran_deps'].apply(lambda x: len(x))\n",
    "sub.loc[:,'dir_deps_lens'] = sub.loc[:,'package_name'].apply(lambda x: len(get_direct_deps(x)))\n",
    "sub.loc[:,'ratios'] = sub.apply(lambda x: x['tran_deps_lens'] / x['dir_deps_lens'], axis=1)\n",
    "\n",
    "ratio = subset.loc[:,'ratios'].mean()\n",
    "\n",
    "print('Overal Ratio:', ratio)"
   ]
  },
  {
   "cell_type": "code",
   "execution_count": null,
   "metadata": {
    "ExecuteTime": {
     "end_time": "2019-04-08T13:51:47.358710Z",
     "start_time": "2019-04-08T05:16:04.847Z"
    },
    "scrolled": true
   },
   "outputs": [],
   "source": [
    "project_counts = {}\n",
    "project_counts['StartDate'] = []\n",
    "project_counts['EndDate'] = []\n",
    "project_counts['ratios'] = []\n",
    "\n",
    "start_time = add_a_month(first_time)\n",
    "end_time = add_three_months(start_time)\n",
    "while end_time < last_time.replace(day=1):\n",
    "    project_counts['StartDate'].append(start_time)\n",
    "    project_counts['EndDate'].append(end_time)\n",
    "\n",
    "    idxs = (requirements['date'] > start_time) & (requirements['date'] < end_time)\n",
    "    subset = requirements.loc[idxs, :]\n",
    "\n",
    "    ratio = subset.loc[:,'ratios'].mean()\n",
    "    print('Time:', start_time, '-', ratio)\n",
    "\n",
    "    project_counts['StartDate'].append(start_time)\n",
    "    project_counts['EndDate'].append(end_time)\n",
    "    project_counts['ratios'].append(ratio)\n",
    "\n",
    "\n",
    "    start_time = end_time\n",
    "    end_time = add_three_months(start_time)"
   ]
  },
  {
   "cell_type": "code",
   "execution_count": null,
   "metadata": {
    "ExecuteTime": {
     "end_time": "2019-04-08T13:51:47.360637Z",
     "start_time": "2019-04-08T05:16:04.850Z"
    }
   },
   "outputs": [],
   "source": [
    "plt.figure(figsize=(10,8))\n",
    "\n",
    "plt.plot(project_counts['StartDate'], project_counts['ratios'])\n",
    "plt.xlabel('Time')\n",
    "plt.ylabel('Transitive Dependency Ratio')"
   ]
  },
  {
   "cell_type": "code",
   "execution_count": null,
   "metadata": {
    "ExecuteTime": {
     "end_time": "2019-04-08T02:53:30.259579Z",
     "start_time": "2019-04-08T02:53:30.228505Z"
    }
   },
   "outputs": [],
   "source": []
  }
 ],
 "metadata": {
  "kernelspec": {
   "display_name": "Python 3",
   "language": "python",
   "name": "python3"
  },
  "language_info": {
   "codemirror_mode": {
    "name": "ipython",
    "version": 3
   },
   "file_extension": ".py",
   "mimetype": "text/x-python",
   "name": "python",
   "nbconvert_exporter": "python",
   "pygments_lexer": "ipython3",
   "version": "3.6.8"
  },
  "toc": {
   "base_numbering": 1,
   "nav_menu": {},
   "number_sections": true,
   "sideBar": true,
   "skip_h1_title": false,
   "title_cell": "Table of Contents",
   "title_sidebar": "Contents",
   "toc_cell": false,
   "toc_position": {},
   "toc_section_display": true,
   "toc_window_display": false
  },
  "varInspector": {
   "cols": {
    "lenName": 16,
    "lenType": 16,
    "lenVar": 40
   },
   "kernels_config": {
    "python": {
     "delete_cmd_postfix": "",
     "delete_cmd_prefix": "del ",
     "library": "var_list.py",
     "varRefreshCmd": "print(var_dic_list())"
    },
    "r": {
     "delete_cmd_postfix": ") ",
     "delete_cmd_prefix": "rm(",
     "library": "var_list.r",
     "varRefreshCmd": "cat(var_dic_list()) "
    }
   },
   "types_to_exclude": [
    "module",
    "function",
    "builtin_function_or_method",
    "instance",
    "_Feature"
   ],
   "window_display": false
  }
 },
 "nbformat": 4,
 "nbformat_minor": 2
}
