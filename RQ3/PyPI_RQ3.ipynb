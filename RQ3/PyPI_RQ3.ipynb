{
 "cells": [
  {
   "cell_type": "markdown",
   "metadata": {},
   "source": [
    "This notebook answers the RQ3: \"To which extent do packages depend on other packages?\" It has 4 subsections & their runs are independent of each other. "
   ]
  },
  {
   "cell_type": "code",
   "execution_count": 32,
   "metadata": {},
   "outputs": [],
   "source": [
    "import pandas as pd\n",
    "import matplotlib.pyplot as plt\n",
    "import numpy as np\n",
    "from matplotlib.ticker import FixedLocator, LinearLocator, FormatStrFormatter\n",
    "import time\n",
    "import matplotlib.dates as mdates\n",
    "from matplotlib.dates import DateFormatter"
   ]
  },
  {
   "cell_type": "markdown",
   "metadata": {},
   "source": [
    "Proportion of connected package"
   ]
  },
  {
   "cell_type": "code",
   "execution_count": 63,
   "metadata": {},
   "outputs": [],
   "source": [
    "data = pd.read_csv('raw_dependencies.csv') #read the csv file\n",
    "data=data.fillna('no') #fill al NaN values with string 'no'. This is to avoid later error when doing queries. \n",
    "data['date'] = pd.to_datetime(data['date']) #convert date from type string to type timestamp. This makes it easier to query by year\n",
    "data.head() #check first 5 rows\n",
    "data_split = {}\n",
    "#create an empty dictionary, putting splitted dataframes as key, value pair in the dictionary. Dictionary should be used when trying to use changing variable names\n",
    "data['new_deps'] = data.deps.map(lambda x: [i.strip() for i in x.split(\",\")]) \n",
    "data['deps_count'] = data.new_deps.map(lambda x: len(x) if x!=['no'] else 0)\n"
   ]
  },
  {
   "cell_type": "code",
   "execution_count": 78,
   "metadata": {},
   "outputs": [
    {
     "name": "stdout",
     "output_type": "stream",
     "text": [
      "0.9887533187866211\n"
     ]
    }
   ],
   "source": [
    "start = time.time()\n",
    "\n",
    "#calculate non-unique required packages\n",
    "non_unique_required_package_all={}\n",
    "non_unique_required_package=[]\n",
    "for year in range(2005,2019):\n",
    "    for month in range(1,13):\n",
    "        for i in data_split['data_'+str(year)+'_'+str(month)]['new_deps']:\n",
    "            for j in i:\n",
    "                non_unique_required_package.append(j)\n",
    "        non_unique_required_package_all[str(year)+'_'+str(month)]=len(non_unique_required_package)  \n",
    "\n",
    "        \n",
    "end = time.time()\n",
    "print(end - start)"
   ]
  },
  {
   "cell_type": "code",
   "execution_count": 64,
   "metadata": {},
   "outputs": [
    {
     "name": "stdout",
     "output_type": "stream",
     "text": [
      "30.85708713531494\n"
     ]
    }
   ],
   "source": [
    "#This block is not used\n",
    "\n",
    "#calculate total packages across month-year. This implementation doesn't take into account the whether required packages \n",
    "#appear in nondependent/dependent column or not. But as we are splitting with respect to time & the dataset is not complete \n",
    "#we need to take that into account. We need to sum unique nondependent, dependent & required package for each time split. \n",
    "#Another approach can be to calculate them from start of time till time split for each time split\n",
    "start = time.time()\n",
    "\n",
    "data_split = {}\n",
    "\n",
    "for year in range(2005,2019):\n",
    "    for month in range(1,13):\n",
    "        data_split['data_'+str(year)+'_'+str(month)]=data[(data['date'].dt.year == year) & (data['date'].dt.month == month)]\n",
    "\n",
    "total_package_count={}\n",
    "        \n",
    "for keys in data_split:\n",
    "    total_package_count[keys]=len(data_split[keys]['name'].unique())\n",
    "        \n",
    "end = time.time()\n",
    "print(end - start)\n"
   ]
  },
  {
   "cell_type": "code",
   "execution_count": 65,
   "metadata": {},
   "outputs": [
    {
     "name": "stdout",
     "output_type": "stream",
     "text": [
      "450.06465697288513\n"
     ]
    }
   ],
   "source": [
    "#Calculate total packages across month-year. This counts nondependent, depnedent & required package. \n",
    "start = time.time()\n",
    "\n",
    "#calculate dependent packages across month-year\n",
    "data_nondependent_dependent_split = {}\n",
    "data_nondependent_dependent_package=data\n",
    "\n",
    "for year in range(2005,2019):\n",
    "    for month in range(1,13):\n",
    "        data_nondependent_dependent_split['data_'+str(year)+'_'+str(month)]=data_nondependent_dependent_package[(data_nondependent_dependent_package['date'].dt.year == year) & (data_nondependent_dependent_package['date'].dt.month == month)]\n",
    "\n",
    "nondependent_dependent_package={}\n",
    "        \n",
    "for keys in data_split:\n",
    "    nondependent_dependent_package[keys]=data_nondependent_dependent_split[keys]['name'].unique()\n",
    "\n",
    "#calculate unique required packages\n",
    "nondependent_dependent_required_package_all={}\n",
    "for year in range(2005,2019):\n",
    "    for month in range(1,13):\n",
    "        nondependent_dependent_required_package=nondependent_dependent_package['data_'+str(year)+'_'+str(month)].tolist()\n",
    "        for i in data_nondependent_dependent_split['data_'+str(year)+'_'+str(month)]['new_deps']:   \n",
    "            for j in i:\n",
    "                if j not in nondependent_dependent_required_package:\n",
    "                    nondependent_dependent_required_package.append(j)\n",
    "        nondependent_dependent_required_package_all['data_'+str(year)+'_'+str(month)]=len(nondependent_dependent_required_package)  \n",
    "        \n",
    "end = time.time()\n",
    "print(end - start)\n"
   ]
  },
  {
   "cell_type": "code",
   "execution_count": 66,
   "metadata": {},
   "outputs": [
    {
     "name": "stdout",
     "output_type": "stream",
     "text": [
      "250.99349427223206\n"
     ]
    }
   ],
   "source": [
    "#calculate dependent and required package, i.e., connected package\n",
    "start = time.time()\n",
    "\n",
    "#calculate dependent packages across month-year\n",
    "\n",
    "data_dependent_split = {}\n",
    "\n",
    "data_dependent_package=data.loc[data['deps_count'] != 0] #excluding nondependent packages \n",
    "\n",
    "for year in range(2005,2019):\n",
    "    for month in range(1,13):\n",
    "        data_dependent_split['data_'+str(year)+'_'+str(month)]=data_dependent_package[(data_dependent_package['date'].dt.year == year) & (data_dependent_package['date'].dt.month == month)]\n",
    "\n",
    "dependent_package={}\n",
    "        \n",
    "for keys in data_split:\n",
    "    dependent_package[keys]=data_dependent_split[keys]['name'].unique()\n",
    "\n",
    "\n",
    "#calculate unique required packages\n",
    "dependent_required_package_all={}\n",
    "for year in range(2005,2019):\n",
    "    for month in range(1,13):\n",
    "        dependent_required_package=dependent_package['data_'+str(year)+'_'+str(month)].tolist()\n",
    "        for i in data_split['data_'+str(year)+'_'+str(month)]['new_deps']:   \n",
    "            for j in i:\n",
    "                if j not in dependent_required_package:\n",
    "                    dependent_required_package.append(j)\n",
    "        dependent_required_package_all['data_'+str(year)+'_'+str(month)]=len(dependent_required_package)  \n",
    "        \n",
    "end = time.time()\n",
    "print(end - start)"
   ]
  },
  {
   "cell_type": "code",
   "execution_count": 71,
   "metadata": {},
   "outputs": [],
   "source": [
    "#calculate ratio\n",
    "dependent_required_vs_total_package={x:float(\"{0:.2f}\".format(float(dependent_required_package_all[x])/nondependent_dependent_required_package_all[x])) for x in total_package_count if total_package_count[x]!=0} #making a list of the division of previous 2 dictionary while formatting it to two decimal place. Alternatively, round may be used. \n",
    "\n",
    "formatted_dependent_required_vs_total_package={}\n",
    "for key, value in dependent_required_vs_total_package.items():\n",
    "    formatted_dependent_required_vs_total_package[key[5:]]=value\n",
    "    "
   ]
  },
  {
   "cell_type": "code",
   "execution_count": 72,
   "metadata": {},
   "outputs": [],
   "source": [
    "#convering date colmun to datetime again for plotting respect to year\n",
    "formatted_dependent_required_vs_total_package=pd.DataFrame.from_dict(formatted_dependent_required_vs_total_package, orient='index').reset_index()\n",
    "formatted_dependent_required_vs_total_package.rename(columns={'index': 'date', 0: 'value'}, inplace=True)\n",
    "formatted_dependent_required_vs_total_package['date'] = pd.to_datetime(formatted_dependent_required_vs_total_package['date'], format='%Y_%m')\n"
   ]
  },
  {
   "cell_type": "code",
   "execution_count": 79,
   "metadata": {},
   "outputs": [],
   "source": [
    "#function for creatign folder\n",
    "def mkdir_p(mypath):\n",
    "    '''Creates a directory. equivalent to using mkdir -p on the command line'''\n",
    "    from errno import EEXIST\n",
    "    from os import makedirs,path\n",
    "\n",
    "    try:\n",
    "        makedirs(mypath)\n",
    "    except OSError as exc: # Python >2.5\n",
    "        if exc.errno == EEXIST and path.isdir(mypath):\n",
    "            pass\n",
    "        else: raise"
   ]
  },
  {
   "cell_type": "code",
   "execution_count": 291,
   "metadata": {},
   "outputs": [
    {
     "data": {
      "image/png": "[encoded data removed]",
      "text/plain": [
       "<Figure size 432x288 with 1 Axes>"
      ]
     },
     "metadata": {
      "needs_background": "light"
     },
     "output_type": "display_data"
    }
   ],
   "source": [
    "myFmt = DateFormatter(\"%Y\") #define the date format\n",
    "plt.rcParams['font.family'] = 'serif'\n",
    "plt.rc('font', size=8)\n",
    "#plt.rc('axes', titlesize=6)\n",
    "plt.rc('axes', labelsize=8)\n",
    "plt.figure(figsize=(6,4))\n",
    "plt.plot(formatted_dependent_required_vs_total_package['date'],formatted_dependent_required_vs_total_package['value'])\n",
    "plt.xlabel('Time in Year')\n",
    "plt.ylabel('Ratio')\n",
    "#plt.title('Proportion of dependent packages')\n",
    "plt.rcParams[\"figure.figsize\"] = [16,5] #modify figure size\n",
    "ax = plt.axes()\n",
    "ax.xaxis.set_major_formatter(myFmt)\n",
    "\n",
    "folder='fig'\n",
    "mkdir_p(folder)\n",
    "\n",
    "plt.savefig('{}/proportion-of-dependent-packages.pdf'.format(folder))\n",
    "plt.savefig('{}/proportion-of-dependent-packages.png'.format(folder), dpi=300)"
   ]
  },
  {
   "cell_type": "markdown",
   "metadata": {},
   "source": [
    "Proportion of dependent packages (dependent package/total package) and required package (required package/total package)"
   ]
  },
  {
   "cell_type": "code",
   "execution_count": 98,
   "metadata": {},
   "outputs": [],
   "source": [
    "data = pd.read_csv('raw_dependencies.csv') #read the csv file\n",
    "data=data.fillna('no') #fill al NaN values with string 'no'. This is to avoid later error if doing any query. \n",
    "data['date'] = pd.to_datetime(data['date']) #convert date from type string to type timestamp. This makes it easier to query by year\n",
    "data.head() #check first 5 rows\n",
    "data_split = {}\n",
    "#create an empty dictionary, putting splitted dataframes as key, value pair in the dictionary. dictionary should be used when trying to use changing variable names\n",
    "data['new_deps'] = data.deps.map(lambda x: [i.strip() for i in x.split(\",\")]) \n",
    "data['deps_count'] = data.new_deps.map(lambda x: len(x) if x!=['no'] else 0) #counting required package while making sure that 'no' values are not counted as 1\n"
   ]
  },
  {
   "cell_type": "code",
   "execution_count": 115,
   "metadata": {},
   "outputs": [
    {
     "name": "stdout",
     "output_type": "stream",
     "text": [
      "460.5216598510742\n"
     ]
    }
   ],
   "source": [
    "#calculate total packages across month-year. We need to sum unique non=dependent, dependent % required package for each \n",
    "#time split. Another approach can be to calculate them from start of time till time split for each time split\n",
    "start = time.time()\n",
    "\n",
    "#calculate unique dependent & nondependent packages across month-year\n",
    "\n",
    "data_nondependent_dependent_split = {}\n",
    "data_nondependent_dependent_package=data\n",
    "\n",
    "for year in range(2005,2019):\n",
    "    for month in range(1,13):\n",
    "        data_nondependent_dependent_split['data_'+str(year)+'_'+str(month)]=data_nondependent_dependent_package[(data_nondependent_dependent_package['date'].dt.year == year) & (data_nondependent_dependent_package['date'].dt.month == month)]\n",
    "\n",
    "nondependent_dependent_package={}\n",
    "        \n",
    "for keys in data_nondependent_dependent_split:\n",
    "    nondependent_dependent_package[keys]=data_nondependent_dependent_split[keys]['name'].unique()\n",
    "\n",
    "#calculate unique required packages\n",
    "nondependent_dependent_required_package_all={}\n",
    "for year in range(2005,2019):\n",
    "    for month in range(1,13):\n",
    "        nondependent_dependent_required_package=nondependent_dependent_package['data_'+str(year)+'_'+str(month)].tolist()\n",
    "        for i in data_nondependent_dependent_split['data_'+str(year)+'_'+str(month)]['new_deps']:   \n",
    "            for j in i:\n",
    "                if j not in nondependent_dependent_required_package:\n",
    "                    nondependent_dependent_required_package.append(j)\n",
    "        nondependent_dependent_required_package_all['data_'+str(year)+'_'+str(month)]=len(nondependent_dependent_required_package)  \n",
    "        \n",
    "end = time.time()\n",
    "print(end - start)"
   ]
  },
  {
   "cell_type": "code",
   "execution_count": 120,
   "metadata": {},
   "outputs": [
    {
     "name": "stdout",
     "output_type": "stream",
     "text": [
      "25.368013381958008\n"
     ]
    }
   ],
   "source": [
    "#calculate dependent packages across month-year\n",
    "start = time.time()\n",
    "\n",
    "data_dependent_split = {}\n",
    "\n",
    "data_dependent_package=data.loc[data['deps_count'] != 0]\n",
    "\n",
    "for year in range(2005,2019):\n",
    "    for month in range(1,13):\n",
    "        data_dependent_split['data_'+str(year)+'_'+str(month)]=data_dependent_package[(data_dependent_package['date'].dt.year == year) & (data_dependent_package['date'].dt.month == month)]\n",
    "\n",
    "dependent_package_count={}\n",
    "        \n",
    "for keys in data_dependent_split:\n",
    "    dependent_package_count[keys]=len(data_dependent_split[keys]['name'].unique())\n",
    "        \n",
    "end = time.time()\n",
    "print(end - start)"
   ]
  },
  {
   "cell_type": "code",
   "execution_count": 137,
   "metadata": {},
   "outputs": [],
   "source": [
    "#calculate the ratio\n",
    "dependent_vs_total_package={x:float(\"{0:.2f}\".format(float(dependent_package_count[x])/nondependent_dependent_required_package_all[x])) for x in total_package_count if total_package_count[x]!=0} #making a list of the division of previous 2 dictionary while formatting it to two decimal place. Alternatively, round may be used. \n",
    "\n",
    "formatted_dependent_vs_total_package={}\n",
    "for key, value in dependent_vs_total_package.items():\n",
    "    formatted_dependent_vs_total_package[key[5:]]=value"
   ]
  },
  {
   "cell_type": "code",
   "execution_count": 138,
   "metadata": {},
   "outputs": [],
   "source": [
    "#convering date colmun to datetime again for plotting respect to year\n",
    "formatted_dependent_vs_total_package=pd.DataFrame.from_dict(formatted_dependent_vs_total_package, orient='index').reset_index()\n",
    "formatted_dependent_vs_total_package.rename(columns={'index': 'date', 0: 'value'}, inplace=True)\n",
    "formatted_dependent_vs_total_package['date'] = pd.to_datetime(formatted_dependent_vs_total_package['date'], format='%Y_%m')"
   ]
  },
  {
   "cell_type": "code",
   "execution_count": 126,
   "metadata": {},
   "outputs": [
    {
     "name": "stdout",
     "output_type": "stream",
     "text": [
      "48.81350612640381\n"
     ]
    }
   ],
   "source": [
    "start = time.time()\n",
    "\n",
    "#calculate unique required packages\n",
    "required_package_all={}\n",
    "for year in range(2005,2019):\n",
    "    for month in range(1,13):\n",
    "        required_package=[]\n",
    "        for i in data_dependent_split['data_'+str(year)+'_'+str(month)]['new_deps']:   \n",
    "            for j in i:\n",
    "                if j not in required_package:\n",
    "                    required_package.append(j)\n",
    "        required_package_all['data_'+str(year)+'_'+str(month)]=len(required_package)  \n",
    "        \n",
    "end = time.time()\n",
    "print(end - start)"
   ]
  },
  {
   "cell_type": "code",
   "execution_count": 127,
   "metadata": {},
   "outputs": [],
   "source": [
    "#calculate ratio\n",
    "\n",
    "required_vs_total_package={x:float(\"{0:.2f}\".format(float(required_package_all[x])/nondependent_dependent_required_package_all[x])) for x in total_package_count if total_package_count[x]!=0} #making a list of the division of previous 2 dictionary while formatting it to two decimal place. Alternatively, round may be used. \n",
    "\n",
    "formatted_required_vs_total_package={}\n",
    "for key, value in required_vs_total_package.items():\n",
    "    formatted_required_vs_total_package[key[5:]]=value"
   ]
  },
  {
   "cell_type": "code",
   "execution_count": 128,
   "metadata": {},
   "outputs": [],
   "source": [
    "#for required\n",
    "formatted_required_vs_total_package=pd.DataFrame.from_dict(formatted_required_vs_total_package, orient='index').reset_index()\n",
    "formatted_required_vs_total_package.rename(columns={'index': 'date', 0: 'value'}, inplace=True)\n",
    "formatted_required_vs_total_package['date'] = pd.to_datetime(formatted_required_vs_total_package['date'], format='%Y_%m')"
   ]
  },
  {
   "cell_type": "code",
   "execution_count": null,
   "metadata": {},
   "outputs": [],
   "source": [
    "#This is not used\n",
    "\n",
    "#print(dependent_ratio)\n",
    "x=formatted_required_vs_total_package.keys() #put dictionary keys in a list\n",
    "y=formatted_required_vs_total_package.values() #put dictionary values in a list\n",
    "plt.plot(x,y) #make a line plot, using pyplot\n",
    "plt.xlabel('Year')\n",
    "plt.ylabel('Ratio')\n",
    "plt.title('Proportion of required package')\n",
    "plt.rcParams[\"figure.figsize\"] = [16,5] #modify figure size\n",
    "ax = plt.axes()\n",
    "xmajorlocator = LinearLocator(20)\n",
    "ax.xaxis.set_major_locator(xmajorlocator)\n",
    "#plt.bar(range(len(dependent_ratio)), dependent_ratio.values(), align=\"center\")\n",
    "#plt.xticks(range(len(dependent_ratio)), list(dependent_ratio.keys()))"
   ]
  },
  {
   "cell_type": "code",
   "execution_count": 300,
   "metadata": {},
   "outputs": [],
   "source": [
    "#function for creatign folder\n",
    "def mkdir_p(mypath):\n",
    "    '''Creates a directory. equivalent to using mkdir -p on the command line'''\n",
    "    from errno import EEXIST\n",
    "    from os import makedirs,path\n",
    "\n",
    "    try:\n",
    "        makedirs(mypath)\n",
    "    except OSError as exc: # Python >2.5\n",
    "        if exc.errno == EEXIST and path.isdir(mypath):\n",
    "            pass\n",
    "        else: raise"
   ]
  },
  {
   "cell_type": "code",
   "execution_count": 292,
   "metadata": {},
   "outputs": [
    {
     "data": {
      "image/png": "[encoded data removed]",
      "text/plain": [
       "<Figure size 432x288 with 1 Axes>"
      ]
     },
     "metadata": {
      "needs_background": "light"
     },
     "output_type": "display_data"
    }
   ],
   "source": [
    "myFmt = DateFormatter(\"%Y\") #define the date format\n",
    "plt.rcParams['font.family'] = 'serif'\n",
    "plt.rc('font', size=8)\n",
    "#plt.rc('axes', titlesize=6)\n",
    "plt.rc('axes', labelsize=8)\n",
    "plt.figure(figsize=(6,4))\n",
    "plt.plot(formatted_dependent_vs_total_package['date'],formatted_dependent_vs_total_package['value'], label='dependent')\n",
    "plt.plot(formatted_required_vs_total_package['date'],formatted_required_vs_total_package['value'], linestyle='--', label='required')\n",
    "plt.xlabel('Time in Year')\n",
    "plt.ylabel('proportion of packages')\n",
    "#plt.title('Proportion of dependent packages')\n",
    "#plt.rcParams[\"figure.figsize\"] = [16,5] #modify figure size\n",
    "ax = plt.axes()\n",
    "ax.xaxis.set_major_formatter(myFmt)\n",
    "legend = plt.legend(loc='lower right')\n",
    "\n",
    "folder='fig'\n",
    "mkdir_p(folder)\n",
    "\n",
    "plt.savefig('{}/proportion-of-dependent-and-required-packages.pdf'.format(folder))\n",
    "plt.savefig('{}/proportion-of-dependent-and-required-packages.png'.format(folder), dpi=300)\n"
   ]
  },
  {
   "cell_type": "markdown",
   "metadata": {},
   "source": [
    "Cumulative proportion of required package"
   ]
  },
  {
   "cell_type": "code",
   "execution_count": 296,
   "metadata": {},
   "outputs": [],
   "source": [
    "data = pd.read_csv('output.csv') #read the csv file"
   ]
  },
  {
   "cell_type": "code",
   "execution_count": 297,
   "metadata": {},
   "outputs": [],
   "source": [
    "reverse_dependencies_for_required_packages=data.groupby('deps').count()\n",
    "#data.groupby('deps').count().sum()\n",
    "X=reverse_dependencies_for_required_packages['name'].tolist()\n",
    "X = np.asarray(X)\n",
    "X.sort()"
   ]
  },
  {
   "cell_type": "code",
   "execution_count": 301,
   "metadata": {},
   "outputs": [],
   "source": [
    "#function for creatign folder\n",
    "def mkdir_p(mypath):\n",
    "    '''Creates a directory. equivalent to using mkdir -p on the command line'''\n",
    "    from errno import EEXIST\n",
    "    from os import makedirs,path\n",
    "\n",
    "    try:\n",
    "        makedirs(mypath)\n",
    "    except OSError as exc: # Python >2.5\n",
    "        if exc.errno == EEXIST and path.isdir(mypath):\n",
    "            pass\n",
    "        else: raise"
   ]
  },
  {
   "cell_type": "code",
   "execution_count": 298,
   "metadata": {
    "scrolled": true
   },
   "outputs": [
    {
     "data": {
      "image/png": "[encoded data removed]",
      "text/plain": [
       "<Figure size 432x288 with 1 Axes>"
      ]
     },
     "metadata": {
      "needs_background": "light"
     },
     "output_type": "display_data"
    }
   ],
   "source": [
    "#Lorenz curve\n",
    "\n",
    "X_lorenz = X.cumsum() / X.sum()\n",
    "\n",
    "plt.rcParams['font.family'] = 'serif'\n",
    "plt.rc('font', size=8)\n",
    "plt.rc('axes', labelsize=8)\n",
    "plt.figure(figsize=(6,4))\n",
    "plt.scatter( X_lorenz, np.arange(X_lorenz.size)/(X_lorenz.size-1), marker='.', s=1)\n",
    "plt.plot([0,1], [0,1], color='k')\n",
    "plt.xlabel('cumilative proportion of required packages')\n",
    "plt.ylabel('cumilative proportion of reverse dependencies')\n",
    "plt.grid()\n",
    "\n",
    "folder='fig'\n",
    "mkdir_p(folder)\n",
    "\n",
    "plt.savefig('{}/inverted_lorenz_curves_for_reverse_dependencies.pdf'.format(folder))\n",
    "plt.savefig('{}/cumilative_proportion_of_required_packages.png'.format(folder), dpi=300)\n",
    "    "
   ]
  },
  {
   "cell_type": "markdown",
   "metadata": {},
   "source": [
    "Gini Index"
   ]
  },
  {
   "cell_type": "code",
   "execution_count": 255,
   "metadata": {},
   "outputs": [],
   "source": [
    "data = pd.read_csv('raw_dependencies.csv') #read the csv file\n",
    "\n",
    "data = data.dropna()\n",
    "data['date'] = pd.to_datetime(data['date']) #convert date from type string to type timestamp. This makes it easier to query by year\n",
    "\n",
    "data_new=data.drop_duplicates(subset =\"name\", keep = 'last', inplace = False) \n",
    "data_new=data.drop(['version','raw_dependencies'],axis=1)\n",
    "\n",
    "data_newer = data_new.reindex(data_new.index.repeat(data_new['deps'].fillna(\"\").str.split(',').apply(len)))\n",
    "data_newer = data_newer.drop(['deps'],1)\n",
    "s = data_new['deps'].str.split(',', expand=True).stack().reset_index(level=1,drop=True)\n",
    "data_newer = data_newer.set_index(data_newer.groupby(data_newer.index).cumcount(), append=True)\n",
    "s = s.to_frame('deps').set_index(s.groupby(s.index).cumcount(), append=True)\n",
    "data_newer = data_newer.join(s, how='outer').reset_index(level=[0,1],drop=True)\n",
    "\n",
    "data_newer_split = {}\n",
    "for year in range(2005,2019):\n",
    "    for month in range(1,13):\n",
    "        data_newer_split['data_'+str(year)+'_'+str(month)]=data_newer[(data_newer['date'].dt.year == year) & (data_newer['date'].dt.month == month)]\n",
    "\n",
    "for key in data_newer_split:\n",
    "    data_newer_split[key]=data_newer_split[key].drop(['date'],axis=1)        "
   ]
  },
  {
   "cell_type": "code",
   "execution_count": 265,
   "metadata": {},
   "outputs": [],
   "source": [
    "reverse_dependencies_for_required_packages={}\n",
    "#reverse_dependencies_for_required_packages=data.groupby('deps').count()\n",
    "\n",
    "for key in data_newer_split:\n",
    "    reverse_dependencies_for_required_packages[key]=data_newer_split[key].groupby('deps').count()"
   ]
  },
  {
   "cell_type": "code",
   "execution_count": 267,
   "metadata": {},
   "outputs": [],
   "source": [
    "#https://stackoverflow.com/a/39513799/10733776\n",
    "def gini(x):\n",
    "    # (Warning: This is a concise implementation, but it is O(n**2)\n",
    "    # in time and memory, where n = len(x).  *Don't* pass in huge\n",
    "    # samples!)\n",
    "\n",
    "    # Mean absolute difference\n",
    "    mad = np.abs(np.subtract.outer(x, x)).mean()\n",
    "    # Relative mean absolute difference\n",
    "    rmad = mad/np.mean(x)\n",
    "    # Gini coefficient\n",
    "    g = 0.5 * rmad\n",
    "    return g"
   ]
  },
  {
   "cell_type": "code",
   "execution_count": 268,
   "metadata": {},
   "outputs": [],
   "source": [
    "gini_value={}\n",
    "\n",
    "for key, value in reverse_dependencies_for_required_packages.items():\n",
    "    if len(value) != 0:\n",
    "        X=reverse_dependencies_for_required_packages[key]['name'].tolist()\n",
    "        X = np.asarray(X)\n",
    "        gini_value[key]=gini(X)"
   ]
  },
  {
   "cell_type": "code",
   "execution_count": 270,
   "metadata": {},
   "outputs": [],
   "source": [
    "formatted_gini_value={}\n",
    "for key, value in gini_value.items():\n",
    "    formatted_gini_value[key[5:]]=value"
   ]
  },
  {
   "cell_type": "code",
   "execution_count": 273,
   "metadata": {},
   "outputs": [],
   "source": [
    "formatted_gini_value=pd.DataFrame.from_dict(formatted_gini_value, orient='index').reset_index()\n",
    "formatted_gini_value.rename(columns={'index': 'date', 0: 'value'}, inplace=True)\n",
    "formatted_gini_value['date'] = pd.to_datetime(formatted_gini_value['date'], format='%Y_%m')"
   ]
  },
  {
   "cell_type": "code",
   "execution_count": 299,
   "metadata": {},
   "outputs": [],
   "source": [
    "#function for creatign folder\n",
    "def mkdir_p(mypath):\n",
    "    '''Creates a directory. equivalent to using mkdir -p on the command line'''\n",
    "    from errno import EEXIST\n",
    "    from os import makedirs,path\n",
    "\n",
    "    try:\n",
    "        makedirs(mypath)\n",
    "    except OSError as exc: # Python >2.5\n",
    "        if exc.errno == EEXIST and path.isdir(mypath):\n",
    "            pass\n",
    "        else: raise"
   ]
  },
  {
   "cell_type": "code",
   "execution_count": 274,
   "metadata": {},
   "outputs": [
    {
     "data": {
      "image/png": "[encoded data removed]",
      "text/plain": [
       "<Figure size 432x288 with 1 Axes>"
      ]
     },
     "metadata": {
      "needs_background": "light"
     },
     "output_type": "display_data"
    }
   ],
   "source": [
    "#print(dependent_ratio)\n",
    "plt.rcParams['font.family'] = 'serif'\n",
    "plt.rc('font', size=8)\n",
    "plt.rc('axes', labelsize=8)\n",
    "plt.figure(figsize=(6,4))\n",
    "plt.plot(formatted_gini_value['date'],formatted_gini_value['value'])\n",
    "plt.xlabel('Time in Year')\n",
    "plt.ylabel('Gini Index')\n",
    "\n",
    "folder='fig'\n",
    "mkdir_p(folder)\n",
    "\n",
    "plt.savefig('{}/evolution-of-the-gini-index.pdf'.format(folder))\n",
    "plt.savefig('{}/evolution-of-the-gini-index.png'.format(folder), dpi=300)"
   ]
  },
  {
   "cell_type": "markdown",
   "metadata": {},
   "source": [
    "Reusability Index"
   ]
  },
  {
   "cell_type": "code",
   "execution_count": 276,
   "metadata": {},
   "outputs": [],
   "source": [
    "data = pd.read_csv('raw_dependencies.csv') #read the csv file\n",
    "data = data.dropna()\n",
    "data['date'] = pd.to_datetime(data['date']) #convert date from type string to type timestamp. This makes it easier to query by year\n",
    "\n",
    "data_new=data.drop(['version','raw_dependencies'],axis=1)\n",
    "\n",
    "data_newer = data_new.reindex(data_new.index.repeat(data_new['deps'].fillna(\"\").str.split(',').apply(len)))\n",
    "data_newer = data_newer.drop(['deps'],1)\n",
    "s = data_new['deps'].str.split(',', expand=True).stack().reset_index(level=1,drop=True)\n",
    "data_newer = data_newer.set_index(data_newer.groupby(data_newer.index).cumcount(), append=True)\n",
    "s = s.to_frame('deps').set_index(s.groupby(s.index).cumcount(), append=True)\n",
    "data_newer = data_newer.join(s, how='outer').reset_index(level=[0,1],drop=True)\n"
   ]
  },
  {
   "cell_type": "code",
   "execution_count": 277,
   "metadata": {},
   "outputs": [],
   "source": [
    "data_reusability={}\n",
    "for year in range(2005,2019):\n",
    "    data_reusability['data_'+str(year)]=data_newer[(data_newer['date'].dt.year == year)]\n",
    "    data_reusability['data_'+str(year)]=data_reusability['data_'+str(year)].drop_duplicates(subset =\"name\", keep = 'last', inplace = False) \n",
    "    data_reusability['data_'+str(year)]=data_reusability['data_'+str(year)].drop(['date'],axis=1)\n"
   ]
  },
  {
   "cell_type": "code",
   "execution_count": 280,
   "metadata": {},
   "outputs": [],
   "source": [
    "reverse_dependencies_for_required_packages={}\n",
    "for keys in data_reusability:\n",
    "    reverse_dependencies_for_required_packages[keys]=data_reusability[keys].groupby('deps').count().sort_values(by='name', ascending=False)"
   ]
  },
  {
   "cell_type": "code",
   "execution_count": null,
   "metadata": {},
   "outputs": [],
   "source": [
    "for keys, values in reverse_dependencies_for_required_packages.items():\n",
    "    reverse_dependencies_for_required_packages[keys]=values.reset_index()"
   ]
  },
  {
   "cell_type": "code",
   "execution_count": 281,
   "metadata": {},
   "outputs": [],
   "source": [
    "resusability={}\n",
    "count=0\n",
    "for keys in reverse_dependencies_for_required_packages:\n",
    "    for index, row in reverse_dependencies_for_required_packages[keys].iterrows():\n",
    "        if count<row['name']:\n",
    "            count=count+1\n",
    "        else:\n",
    "            resusability[keys[5:]]=count"
   ]
  },
  {
   "cell_type": "code",
   "execution_count": 290,
   "metadata": {},
   "outputs": [
    {
     "data": {
      "image/png": "[encoded data removed]",
      "text/plain": [
       "<Figure size 432x288 with 1 Axes>"
      ]
     },
     "metadata": {
      "needs_background": "light"
     },
     "output_type": "display_data"
    }
   ],
   "source": [
    "#print(dependent_ratio)\n",
    "plt.rcParams['font.family'] = 'serif'\n",
    "plt.rc('font', size=8)\n",
    "plt.rc('axes', labelsize=8)\n",
    "plt.figure(figsize=(6,4))\n",
    "x=resusability.keys() #put dictionary keys in a list\n",
    "y=resusability.values() #put dictionary values in a list\n",
    "plt.plot(x,y) #make a line plot, using pyplot\n",
    "plt.xlabel('Time in Year')\n",
    "plt.ylabel('Reusability Index')\n",
    "#plt.title('Reusability Index')\n",
    "ax = plt.axes()\n",
    "xmajorlocator = LinearLocator(14)\n",
    "ax.xaxis.set_major_locator(xmajorlocator)\n",
    "\n",
    "folder='fig'\n",
    "mkdir_p(folder)\n",
    "\n",
    "plt.savefig('{}/evolution-of-reusability-index.pdf'.format(folder))\n",
    "plt.savefig('{}/evolution-of-reusability-index.png'.format(folder), dpi=300)"
   ]
  },
  {
   "cell_type": "code",
   "execution_count": null,
   "metadata": {},
   "outputs": [],
   "source": []
  }
 ],
 "metadata": {
  "kernelspec": {
   "display_name": "Python 3",
   "language": "python",
   "name": "python3"
  },
  "language_info": {
   "codemirror_mode": {
    "name": "ipython",
    "version": 3
   },
   "file_extension": ".py",
   "mimetype": "text/x-python",
   "name": "python",
   "nbconvert_exporter": "python",
   "pygments_lexer": "ipython3",
   "version": "3.7.1"
  }
 },
 "nbformat": 4,
 "nbformat_minor": 2
}
