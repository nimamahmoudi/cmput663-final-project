{
 "cells": [
  {
   "cell_type": "markdown",
   "metadata": {},
   "source": [
    "# Graph Analysis\n",
    "\n",
    "source: http://kgullikson88.github.io/blog/pypi-analysis.html"
   ]
  },
  {
   "cell_type": "markdown",
   "metadata": {},
   "source": [
    "## Load the data and import libraries"
   ]
  },
  {
   "cell_type": "code",
   "execution_count": 1,
   "metadata": {
    "ExecuteTime": {
     "end_time": "2019-04-01T23:50:27.597403Z",
     "start_time": "2019-04-01T23:50:26.250498Z"
    }
   },
   "outputs": [],
   "source": [
    "%load_ext autoreload\n",
    "\n",
    "# Auto reloading causes the kernel to reload the libraries we have\n",
    "%autoreload 2\n",
    "\n",
    "# usual imports for visualization, etc.\n",
    "import numpy as np\n",
    "import pandas as pd\n",
    "import matplotlib.pyplot as plt\n",
    "\n",
    "import datetime\n",
    "\n",
    "# Graph Analysis Specific\n",
    "import networkx as nx\n",
    "from networkx.drawing.nx_pydot import write_dot\n",
    "from matplotlib import patches\n",
    "import operator\n",
    "\n",
    "\n",
    "# make it reproducible\n",
    "np.random.seed(0)\n",
    "\n",
    "# show plots inline\n",
    "%matplotlib inline"
   ]
  },
  {
   "cell_type": "code",
   "execution_count": 2,
   "metadata": {
    "ExecuteTime": {
     "end_time": "2019-04-01T23:50:28.093424Z",
     "start_time": "2019-04-01T23:50:27.600653Z"
    }
   },
   "outputs": [
    {
     "data": {
      "text/html": [
       "<div>\n",
       "<style scoped>\n",
       "    .dataframe tbody tr th:only-of-type {\n",
       "        vertical-align: middle;\n",
       "    }\n",
       "\n",
       "    .dataframe tbody tr th {\n",
       "        vertical-align: top;\n",
       "    }\n",
       "\n",
       "    .dataframe thead th {\n",
       "        text-align: right;\n",
       "    }\n",
       "</style>\n",
       "<table border=\"1\" class=\"dataframe\">\n",
       "  <thead>\n",
       "    <tr style=\"text-align: right;\">\n",
       "      <th></th>\n",
       "      <th>package_name</th>\n",
       "      <th>requirement</th>\n",
       "    </tr>\n",
       "  </thead>\n",
       "  <tbody>\n",
       "    <tr>\n",
       "      <th>0</th>\n",
       "      <td>0.0.1</td>\n",
       "      <td>tensorflow</td>\n",
       "    </tr>\n",
       "    <tr>\n",
       "      <th>1</th>\n",
       "      <td>0.0.1</td>\n",
       "      <td>pandas</td>\n",
       "    </tr>\n",
       "    <tr>\n",
       "      <th>2</th>\n",
       "      <td>115wangpan</td>\n",
       "      <td>pycurl</td>\n",
       "    </tr>\n",
       "    <tr>\n",
       "      <th>3</th>\n",
       "      <td>115wangpan</td>\n",
       "      <td>six</td>\n",
       "    </tr>\n",
       "    <tr>\n",
       "      <th>4</th>\n",
       "      <td>115wangpan</td>\n",
       "      <td>humanize</td>\n",
       "    </tr>\n",
       "  </tbody>\n",
       "</table>\n",
       "</div>"
      ],
      "text/plain": [
       "  package_name requirement\n",
       "0        0.0.1  tensorflow\n",
       "1        0.0.1      pandas\n",
       "2   115wangpan      pycurl\n",
       "3   115wangpan         six\n",
       "4   115wangpan    humanize"
      ]
     },
     "execution_count": 2,
     "metadata": {},
     "output_type": "execute_result"
    }
   ],
   "source": [
    "data_folder = '../data/'\n",
    "\n",
    "requirements = pd.read_csv(data_folder + 'reqs.csv')\n",
    "\n",
    "requirements.loc[:,'package_name'] = requirements.loc[:,'package_name'].apply(lambda x: x.lower() if type(x)==str else x)\n",
    "requirements.loc[:,'requirement'] = requirements.loc[:,'requirement'].apply(lambda x: x.lower() if type(x)==str else x)\n",
    "\n",
    "requirements.head()"
   ]
  },
  {
   "cell_type": "markdown",
   "metadata": {},
   "source": [
    "## Defining helper functions and defaults"
   ]
  },
  {
   "cell_type": "code",
   "execution_count": 3,
   "metadata": {
    "ExecuteTime": {
     "end_time": "2019-04-01T23:50:28.258972Z",
     "start_time": "2019-04-01T23:50:28.097382Z"
    }
   },
   "outputs": [
    {
     "name": "stdout",
     "output_type": "stream",
     "text": [
      "mkdir: cannot create directory ‘figs’: File exists\r\n"
     ]
    }
   ],
   "source": [
    "!mkdir figs\n",
    "figs_dir = 'figs/'\n",
    "\n",
    "def make_graph(df, min_edges=0):\n",
    "    DG = nx.DiGraph()\n",
    "    DG.add_nodes_from(df.package_name.unique())\n",
    "    edges = df.loc[df.requirement.notnull(), ['package_name', 'requirement']].values\n",
    "    DG.add_edges_from(edges)\n",
    "    \n",
    "    # Remove bad nodes\n",
    "    DG.remove_nodes_from(['.', 'nan', np.nan])\n",
    "    \n",
    "    deg = DG.degree()\n",
    "    to_remove = [n for n in dict(deg) if deg[n] <= min_edges]\n",
    "    DG.remove_nodes_from(to_remove)\n",
    "    return DG"
   ]
  },
  {
   "cell_type": "code",
   "execution_count": 4,
   "metadata": {
    "ExecuteTime": {
     "end_time": "2019-04-01T23:50:28.306556Z",
     "start_time": "2019-04-01T23:50:28.263158Z"
    }
   },
   "outputs": [],
   "source": [
    "from cycler import cycler\n",
    "def set_plt_rc():\n",
    "    SMALL_SIZE = 8\n",
    "    MEDIUM_SIZE = 10\n",
    "    BIGGER_SIZE = 12\n",
    "    \n",
    "    font = {'family': 'serif','size': BIGGER_SIZE}\n",
    "    plt.rc('font', **font)\n",
    "\n",
    "    plt.rc('font', size=SMALL_SIZE)          # controls default text sizes\n",
    "    plt.rc('axes', titlesize=SMALL_SIZE)     # fontsize of the axes title\n",
    "    plt.rc('axes', labelsize=MEDIUM_SIZE)    # fontsize of the x and y labels\n",
    "    plt.rc('xtick', labelsize=SMALL_SIZE)    # fontsize of the tick labels\n",
    "    plt.rc('ytick', labelsize=SMALL_SIZE)    # fontsize of the tick labels\n",
    "    plt.rc('legend', fontsize=SMALL_SIZE)    # legend fontsize\n",
    "    plt.rc('figure', titlesize=BIGGER_SIZE)  # fontsize of the figure title\n",
    "        \n",
    "    plt.rc('axes', prop_cycle=(cycler(color=['#1f77b4', '#ff7f0e', '#2ca02c', '#d62728',\n",
    "                                         '#9467bd', '#8c564b', '#e377c2', '#7f7f7f',\n",
    "                                         '#bcbd22', '#17becf']) +\n",
    "                           cycler(linestyle=['-', '--', ':', '-.','-', '--', ':', '-.','-', '--'])))\n",
    "    \n",
    "set_plt_rc()"
   ]
  },
  {
   "cell_type": "markdown",
   "metadata": {},
   "source": [
    "## Export data for visualization"
   ]
  },
  {
   "cell_type": "code",
   "execution_count": 5,
   "metadata": {
    "ExecuteTime": {
     "end_time": "2019-04-01T23:50:59.656737Z",
     "start_time": "2019-04-01T23:50:28.309689Z"
    }
   },
   "outputs": [],
   "source": [
    "# Make a dotfile to import into gephi and make the network graph\n",
    "\n",
    "DG = make_graph(requirements, min_edges=10)\n",
    "write_dot(DG, 'requirements_graph.dot')\n",
    "\n",
    "# create the full graph\n",
    "dep_graph = make_graph(requirements, min_edges=0)"
   ]
  },
  {
   "cell_type": "markdown",
   "metadata": {
    "ExecuteTime": {
     "end_time": "2019-03-31T02:13:46.595058Z",
     "start_time": "2019-03-31T02:13:46.493063Z"
    }
   },
   "source": [
    "# Statistic plots"
   ]
  },
  {
   "cell_type": "markdown",
   "metadata": {},
   "source": [
    "## 1: Histogram of the number of connections for the top several packages"
   ]
  },
  {
   "cell_type": "code",
   "execution_count": 6,
   "metadata": {
    "ExecuteTime": {
     "end_time": "2019-04-01T23:51:00.770653Z",
     "start_time": "2019-04-01T23:50:59.660497Z"
    }
   },
   "outputs": [
    {
     "data": {
      "image/png": "[encoded data removed]",
      "text/plain": [
       "<Figure size 504x288 with 1 Axes>"
      ]
     },
     "metadata": {
      "needs_background": "light"
     },
     "output_type": "display_data"
    }
   ],
   "source": [
    "sorted_dict = sorted(dict(dep_graph.in_degree()).items(), key=operator.itemgetter(1))[::-1]\n",
    "\n",
    "N = 10\n",
    "x = np.arange(N)\n",
    "y = np.array([d[1] for d in sorted_dict[:N]])\n",
    "xlabels = [d[0] for d in sorted_dict[:N]][::-1]\n",
    "fig, ax = plt.subplots(1, 1, figsize=(7, 4))\n",
    "\n",
    "ax.barh(x[::-1], y, height=1.0)\n",
    "ax.set_yticks(x + 0.5)\n",
    "ax.set_yticklabels(xlabels)\n",
    "ax.set_xlabel('Number of Connections')\n",
    "ax.set_title('Graph Degree')\n",
    "fig.subplots_adjust(left=0.27, bottom=0.1, top=0.95)\n",
    "\n",
    "fig.savefig(figs_dir+'Connections.pdf')\n",
    "fig.savefig(figs_dir+'Connections.png', dpi=300)"
   ]
  },
  {
   "cell_type": "code",
   "execution_count": 7,
   "metadata": {
    "ExecuteTime": {
     "end_time": "2019-04-01T23:51:00.894569Z",
     "start_time": "2019-04-01T23:51:00.773392Z"
    }
   },
   "outputs": [],
   "source": [
    "# Write to dict to save to CSV later on\n",
    "in_deg_dict = dict(dep_graph.in_degree())\n",
    "df_in = pd.DataFrame(data={\n",
    "    'package': list(in_deg_dict.keys()),\n",
    "    'in-degree': list(in_deg_dict.values()),\n",
    "})\n",
    "df_in.set_index('package', inplace=True)\n",
    "df = df_in"
   ]
  },
  {
   "cell_type": "code",
   "execution_count": 8,
   "metadata": {
    "ExecuteTime": {
     "end_time": "2019-04-01T23:51:01.012366Z",
     "start_time": "2019-04-01T23:51:00.899127Z"
    }
   },
   "outputs": [],
   "source": [
    "# Write to dict to save to CSV later on\n",
    "out_deg_dict = dict(dep_graph.out_degree())\n",
    "df_out = pd.DataFrame(data={\n",
    "    'package': list(out_deg_dict.keys()),\n",
    "    'out-degree': list(out_deg_dict.values()),\n",
    "})\n",
    "df_out.set_index('package', inplace=True)"
   ]
  },
  {
   "cell_type": "code",
   "execution_count": null,
   "metadata": {
    "ExecuteTime": {
     "start_time": "2019-04-01T23:50:24.798Z"
    }
   },
   "outputs": [],
   "source": [
    "df = df.merge(df_out, left_index=True, right_index=True)"
   ]
  },
  {
   "cell_type": "markdown",
   "metadata": {
    "ExecuteTime": {
     "end_time": "2019-03-31T03:33:36.497001Z",
     "start_time": "2019-03-31T03:23:53.180Z"
    }
   },
   "source": [
    "## PageRank\n",
    "\n",
    "Similar to the node degree, but with some extra magic."
   ]
  },
  {
   "cell_type": "code",
   "execution_count": null,
   "metadata": {
    "ExecuteTime": {
     "start_time": "2019-04-01T23:50:24.804Z"
    }
   },
   "outputs": [
    {
     "data": {
      "image/png": "[encoded data removed]",
      "text/plain": [
       "<Figure size 504x288 with 1 Axes>"
      ]
     },
     "metadata": {
      "needs_background": "light"
     },
     "output_type": "display_data"
    }
   ],
   "source": [
    "pr = nx.link_analysis.pagerank_scipy(dep_graph)\n",
    "sorted_dict = sorted(pr.items(), key=operator.itemgetter(1))[::-1]\n",
    "\n",
    "N = 10\n",
    "x = np.arange(N)\n",
    "y = np.array([d[1] for d in sorted_dict[:N]])\n",
    "xlabels = [d[0] for d in sorted_dict[:N]][::-1]\n",
    "xlabels[0] = 'sphinx-py3doc-\\nenhanced-theme'\n",
    "fig, ax = plt.subplots(1, 1, figsize=(7, 4))\n",
    "\n",
    "ax.barh(x[::-1], y, height=1.0)\n",
    "ax.set_yticks(x + 0.5)\n",
    "ax.set_yticklabels(xlabels)\n",
    "ax.set_xlabel('PageRank')\n",
    "ax.set_title('Graph Connectivity')\n",
    "fig.subplots_adjust(left=0.30, bottom=0.1, top=0.95)\n",
    "\n",
    "fig.savefig(figs_dir+'PageRank.pdf')\n",
    "fig.savefig(figs_dir+'PageRank.png', dpi=300)"
   ]
  },
  {
   "cell_type": "code",
   "execution_count": null,
   "metadata": {
    "ExecuteTime": {
     "start_time": "2019-04-01T23:50:24.812Z"
    }
   },
   "outputs": [],
   "source": [
    "df_bc = pd.DataFrame(data={\n",
    "    'package': list(pr.keys()),\n",
    "    'pagerank': list(pr.values()),\n",
    "})\n",
    "df_bc.set_index('package', inplace=True)"
   ]
  },
  {
   "cell_type": "code",
   "execution_count": null,
   "metadata": {
    "ExecuteTime": {
     "start_time": "2019-04-01T23:50:24.818Z"
    }
   },
   "outputs": [],
   "source": [
    "df = df.merge(df_bc, left_index=True, right_index=True)"
   ]
  },
  {
   "cell_type": "markdown",
   "metadata": {},
   "source": [
    "# Centrality Measures\n",
    "\n",
    "The statistics above are basically degree centrality measures, but there are actual statistics that look at it too.\n",
    "\n",
    "- **Betweenness Centrality** The betweenness centrality of node n is defined as the proportion of best paths between any other pairs of nodes which pass through n."
   ]
  },
  {
   "cell_type": "markdown",
   "metadata": {},
   "source": [
    "Yep, this has a really fast cutoff, with the vast majority of packages having very few connections. The black line shows where there is one package in the bin. It's basically a power-law, which arises in a \"rich get richer\" model. In other words, some packages (the ones with very high degree) are required by many things, so new packages also require them. They also tend to be older packages, which means they've had longer to accumulate packages that depend on them."
   ]
  },
  {
   "cell_type": "code",
   "execution_count": null,
   "metadata": {
    "ExecuteTime": {
     "start_time": "2019-04-01T23:50:24.825Z"
    }
   },
   "outputs": [],
   "source": [
    "# This takes more than 2 hours!\n",
    "bc = nx.betweenness_centrality(dep_graph)"
   ]
  },
  {
   "cell_type": "code",
   "execution_count": null,
   "metadata": {
    "ExecuteTime": {
     "start_time": "2019-04-01T23:50:24.829Z"
    }
   },
   "outputs": [],
   "source": [
    "sorted_dict = sorted(bc.items(), key=operator.itemgetter(1))[::-1]\n",
    "\n",
    "N = 10\n",
    "x = np.arange(N)\n",
    "y = np.array([d[1]*100 for d in sorted_dict[:N]])\n",
    "xlabels = [d[0] for d in sorted_dict[:N]][::-1]\n",
    "fig, ax = plt.subplots(1, 1, figsize=(7, 7))\n",
    "\n",
    "ax.barh(x[::-1], y, height=1.0)\n",
    "ax.set_yticks(x + 0.5)\n",
    "ax.set_yticklabels(xlabels)\n",
    "ax.set_xlabel('Betweenness Connectivity (%)')\n",
    "fig.subplots_adjust(left=0.32, bottom=0.1, top=0.95)\n",
    "\n",
    "fig.savefig(figs_dir+'Betweenness.pdf')\n",
    "fig.savefig(figs_dir+'Betweenness.png', dpi=300)"
   ]
  },
  {
   "cell_type": "code",
   "execution_count": null,
   "metadata": {
    "ExecuteTime": {
     "start_time": "2019-04-01T23:50:24.835Z"
    }
   },
   "outputs": [],
   "source": [
    "df_bc = pd.DataFrame(data={\n",
    "    'package': list(bc.keys()),\n",
    "    'bc': list(bc.values()),\n",
    "})\n",
    "df_bc.set_index('package', inplace=True)"
   ]
  },
  {
   "cell_type": "code",
   "execution_count": null,
   "metadata": {
    "ExecuteTime": {
     "start_time": "2019-04-01T23:50:24.839Z"
    }
   },
   "outputs": [],
   "source": [
    "df = df.merge(df_bc, left_index=True, right_index=True)"
   ]
  },
  {
   "cell_type": "markdown",
   "metadata": {},
   "source": [
    "## Write Dataframe"
   ]
  },
  {
   "cell_type": "code",
   "execution_count": null,
   "metadata": {
    "ExecuteTime": {
     "start_time": "2019-04-01T23:50:24.845Z"
    }
   },
   "outputs": [],
   "source": [
    "df.to_csv(data_folder+'graph_data.csv')"
   ]
  },
  {
   "cell_type": "markdown",
   "metadata": {},
   "source": [
    "# Is this a small-world graph?\n",
    "\n",
    "Compute both the average path length and the clustering coefficient. Small worlds have large clustering coefficients and small average path lengths."
   ]
  },
  {
   "cell_type": "code",
   "execution_count": null,
   "metadata": {
    "ExecuteTime": {
     "start_time": "2019-04-01T23:50:24.851Z"
    }
   },
   "outputs": [],
   "source": [
    "avg_pathlen = []\n",
    "subgraph_size = []\n",
    "for subgraph in nx.connected_component_subgraphs(dep_graph.to_undirected()):\n",
    "    n = len(subgraph)\n",
    "    if n > 1:\n",
    "        subgraph_size.append(n)\n",
    "        avg_pathlen.append(nx.average_shortest_path_length(subgraph))\n",
    "\n",
    "avg_clustering = nx.average_clustering(dep_graph.to_undirected())\n",
    "apl = np.average(avg_pathlen, weights=subgraph_size)\n",
    "print(apl, avg_clustering)"
   ]
  },
  {
   "cell_type": "markdown",
   "metadata": {},
   "source": [
    "So I'm not sure... by the definition above, the clustering coefficient seems to be quite small. That means that node neighborhoods are not connected anywhere near as much as they could be, and that this is NOT a small-world graph. On the other hand, the average path length $L \\sim \\log{N}$, which is another definition of a small-world graph. I guess these could be reconciled if there are a few very very important nodes that act as hubs, but the \"spokes\" that come out of the hubs are relatively independent. Those hubs appear to be `requests` and `django`, and maybe `six`."
   ]
  },
  {
   "cell_type": "markdown",
   "metadata": {},
   "source": [
    "# Matrix Graph\n",
    "\n",
    "(code taken from the [StackOverflow](http://stackoverflow.com/questions/22961541/python-matplotlib-plot-sparse-matrix-pattern))\n",
    "\n",
    "The nodes are partitioned using the [`community`](https://pypi.python.org/pypi/python-louvain/0.3) code, which separates a large graph into communities as follows:\n",
    "\n",
    "1. Start with all nodes in their own communities\n",
    "2. For each node, test if the \"modularity\" increases by putting it into the same community as one of it's neighbors (one of the nodes it is connected to)\n",
    "3. Continue until no more gain is found\n",
    "4. Make a NEW network where each node is now the communities found in the above set.\n",
    "5. Repeat steps 1-3 many times, until the modularity no longer increases.\n",
    "\n",
    "Details on the algorithm can be found [here](http://arxiv.org/abs/0803.0476). You might notice that this algorithm is basically creating a dendrogram of the network."
   ]
  },
  {
   "cell_type": "code",
   "execution_count": null,
   "metadata": {
    "ExecuteTime": {
     "start_time": "2019-04-01T23:50:24.859Z"
    }
   },
   "outputs": [],
   "source": [
    "from scipy.sparse import coo_matrix\n",
    "\n",
    "def plot_coo_matrix(m, partitions=None, colors=None):\n",
    "    if not isinstance(m, coo_matrix):\n",
    "        m = coo_matrix(m)\n",
    "        \n",
    "    fig = plt.figure(figsize=(7, 7))\n",
    "    ax = fig.add_subplot(111, facecolor='white')\n",
    "    ax.plot(m.col, m.row, 's', color='black', ms=1)\n",
    "    ax.set_xlim(0, m.shape[1])\n",
    "    ax.set_ylim(0, m.shape[0])\n",
    "    ax.set_aspect('equal')\n",
    "    for spine in ax.spines.values():\n",
    "        spine.set_visible(False)\n",
    "    ax.invert_yaxis()\n",
    "    ax.set_aspect('equal')\n",
    "    ax.set_xticks([])\n",
    "    ax.set_yticks([])\n",
    "    \n",
    "    # The rest is just if you have sorted nodes by a partition and want to\n",
    "    # highlight the module boundaries\n",
    "    if partitions is None and colors is None:\n",
    "        return\n",
    "    \n",
    "    assert len(partitions) == len(colors)\n",
    "    for partition, color in zip(partitions, colors):\n",
    "        current_idx = 0\n",
    "        for module in partition:\n",
    "            ax.add_patch(patches.Rectangle((current_idx, current_idx),\n",
    "                                          len(module), # Width\n",
    "                                          len(module), # Height\n",
    "                                          facecolor=\"none\",\n",
    "                                          edgecolor=color,\n",
    "                                          linewidth=\"1\"))\n",
    "            current_idx += len(module)\n",
    "    return \n",
    "\n",
    "def find_closest(G, node, node_list):\n",
    "    \"\"\" Find which node in node_list the given node is closest to\n",
    "    \"\"\"\n",
    "    min_pathlen = np.inf\n",
    "    best_node = \"Isolated\"\n",
    "    for n in node_list:\n",
    "        if nx.has_path(G, node, n):\n",
    "            length = nx.shortest_path_length(G, node, n)\n",
    "            if length < min_pathlen:\n",
    "                min_pathlen = length\n",
    "                best_node = n\n",
    "    return best_node"
   ]
  },
  {
   "cell_type": "code",
   "execution_count": null,
   "metadata": {
    "ExecuteTime": {
     "start_time": "2019-04-01T23:50:24.864Z"
    }
   },
   "outputs": [],
   "source": [
    "import community\n",
    "\n",
    "#first compute the best partition\n",
    "partition = community.best_partition(dep_graph.to_undirected())"
   ]
  },
  {
   "cell_type": "code",
   "execution_count": null,
   "metadata": {
    "ExecuteTime": {
     "start_time": "2019-04-01T23:50:24.870Z"
    }
   },
   "outputs": [],
   "source": [
    "from collections import defaultdict\n",
    "\n",
    "louvain_comms = defaultdict(list)\n",
    "for node_index, comm_id in partition.items():\n",
    "    louvain_comms[comm_id].append(node_index)\n",
    "louvain_comms = list(louvain_comms.values())\n",
    "\n",
    "nodes_ordered = [node for comm in louvain_comms for node in comm]\n",
    "matrix = nx.adjacency_matrix(dep_graph, nodelist=nodes_ordered)\n",
    "\n",
    "plot_coo_matrix(matrix)\n",
    "\n",
    "fig.savefig(figs_dir+'AdjacencyGraph.pdf')\n",
    "fig.savefig(figs_dir+'AdjacencyGraph.png', dpi=300)"
   ]
  },
  {
   "cell_type": "markdown",
   "metadata": {},
   "source": [
    "## What do the communities signify?\n",
    "I will try to find the significance of the 8 large communities shown in the figure above."
   ]
  },
  {
   "cell_type": "code",
   "execution_count": null,
   "metadata": {
    "ExecuteTime": {
     "start_time": "2019-04-01T23:50:24.874Z"
    }
   },
   "outputs": [],
   "source": [
    "# Get the size of each community\n",
    "comm_size = {i: len(louvain_comms[i]) for i in range(len(louvain_comms))}\n",
    "\n",
    "# Sort by size\n",
    "big_community_sizes = sorted(comm_size.items(), key=operator.itemgetter(1), reverse=True)[:10]\n",
    "\n",
    "# Get the packages in each of the communities\n",
    "big_communities = [louvain_comms[i] for i in sorted([c for c, s in big_community_sizes])]"
   ]
  },
  {
   "cell_type": "code",
   "execution_count": null,
   "metadata": {
    "ExecuteTime": {
     "start_time": "2019-04-01T23:50:24.881Z"
    }
   },
   "outputs": [],
   "source": [
    "def plot_community(i, N=5):\n",
    "    # Make a subgraph\n",
    "    subgraph = dep_graph.subgraph(big_communities[i])\n",
    "\n",
    "    # Find the most important nodes in the subgraph:\n",
    "    pr = nx.link_analysis.pagerank_scipy(subgraph)\n",
    "    sorted_dict = sorted(pr.items(), key=operator.itemgetter(1), reverse=True)\n",
    "\n",
    "    N = 5\n",
    "    x = np.arange(N)\n",
    "    y = np.array([d[1] for d in sorted_dict[:N]])\n",
    "    xlabels = [d[0] for d in sorted_dict[:N]][::-1]\n",
    "    fig, (left, right) = plt.subplots(1, 2, figsize=(13, 7))\n",
    "\n",
    "    left.barh(x[::-1], y, height=1.0)\n",
    "    left.set_yticks(x + 0.5)\n",
    "    _ = left.set_yticklabels(xlabels)\n",
    "    left.set_xlabel('PageRank')\n",
    "    left.set_title('Graph Connectivity')\n",
    "    fig.subplots_adjust(left=0.30, bottom=0.1, top=0.95)\n",
    "\n",
    "    alpha = 200.0/len(subgraph.nodes())\n",
    "    print(alpha)\n",
    "    nx.draw(subgraph, ax=right, node_size=10, alpha=alpha)\n",
    "    \n",
    "    fig.savefig(figs_dir+'Community-{}.pdf'.format(i))\n",
    "    fig.savefig(figs_dir+'Community-{}.png'.format(i), dpi=300)"
   ]
  },
  {
   "cell_type": "code",
   "execution_count": null,
   "metadata": {
    "ExecuteTime": {
     "start_time": "2019-04-01T23:50:24.885Z"
    }
   },
   "outputs": [],
   "source": [
    "# Flask and web framework development\n",
    "plot_community(i=0)"
   ]
  },
  {
   "cell_type": "code",
   "execution_count": null,
   "metadata": {
    "ExecuteTime": {
     "start_time": "2019-04-01T23:50:24.890Z"
    }
   },
   "outputs": [],
   "source": [
    "# Not sure. redis is a data store, and tornado is a kind of web server. \n",
    "#tornado and pyzmq get used in jupyter notebook, but that is not in this community...\n",
    "plot_community(i=1)"
   ]
  },
  {
   "cell_type": "code",
   "execution_count": null,
   "metadata": {
    "ExecuteTime": {
     "start_time": "2019-04-01T23:50:24.893Z"
    }
   },
   "outputs": [],
   "source": [
    "#pydata\n",
    "plot_community(i=2)"
   ]
  },
  {
   "cell_type": "code",
   "execution_count": null,
   "metadata": {
    "ExecuteTime": {
     "start_time": "2019-04-01T23:50:24.898Z"
    }
   },
   "outputs": [],
   "source": [
    "# Testing and documentation\n",
    "plot_community(i=3)"
   ]
  },
  {
   "cell_type": "code",
   "execution_count": null,
   "metadata": {
    "ExecuteTime": {
     "start_time": "2019-04-01T23:50:24.903Z"
    }
   },
   "outputs": [],
   "source": [
    "# Django dominates this community, so probably just django/dynamic websites\n",
    "plot_community(i=4)"
   ]
  },
  {
   "cell_type": "code",
   "execution_count": null,
   "metadata": {
    "ExecuteTime": {
     "start_time": "2019-04-01T23:50:24.908Z"
    }
   },
   "outputs": [],
   "source": [
    "# web scraping/interfacing\n",
    "plot_community(i=5)"
   ]
  },
  {
   "cell_type": "code",
   "execution_count": null,
   "metadata": {
    "ExecuteTime": {
     "start_time": "2019-04-01T23:50:24.913Z"
    }
   },
   "outputs": [],
   "source": [
    "# zope/distribute (which is really a dependency of almost everything)\n",
    "plot_community(i=6)"
   ]
  },
  {
   "cell_type": "code",
   "execution_count": null,
   "metadata": {
    "ExecuteTime": {
     "start_time": "2019-04-01T23:50:24.918Z"
    }
   },
   "outputs": [],
   "source": [
    "# yaml and jinja2 are website templating stuff. Maybe this is more the static web stuff in comparison to django?\n",
    "plot_community(i=7)"
   ]
  },
  {
   "cell_type": "code",
   "execution_count": null,
   "metadata": {
    "ExecuteTime": {
     "start_time": "2019-04-01T23:50:24.923Z"
    }
   },
   "outputs": [],
   "source": [
    "# This appears to be relatively small utility functions for python\n",
    "plot_community(i=8)"
   ]
  },
  {
   "cell_type": "code",
   "execution_count": null,
   "metadata": {
    "ExecuteTime": {
     "start_time": "2019-04-01T23:50:24.927Z"
    }
   },
   "outputs": [],
   "source": [
    "# pyramid is a web framework. sqlalchemy is a SQL interface to python. Not really sure here...\n",
    "plot_community(i=9)"
   ]
  },
  {
   "cell_type": "code",
   "execution_count": null,
   "metadata": {},
   "outputs": [],
   "source": []
  }
 ],
 "metadata": {
  "kernelspec": {
   "display_name": "Python 3",
   "language": "python",
   "name": "python3"
  },
  "language_info": {
   "codemirror_mode": {
    "name": "ipython",
    "version": 3
   },
   "file_extension": ".py",
   "mimetype": "text/x-python",
   "name": "python",
   "nbconvert_exporter": "python",
   "pygments_lexer": "ipython3",
   "version": "3.6.8"
  },
  "toc": {
   "base_numbering": 1,
   "nav_menu": {},
   "number_sections": true,
   "sideBar": true,
   "skip_h1_title": false,
   "title_cell": "Table of Contents",
   "title_sidebar": "Contents",
   "toc_cell": false,
   "toc_position": {},
   "toc_section_display": true,
   "toc_window_display": false
  },
  "varInspector": {
   "cols": {
    "lenName": 16,
    "lenType": 16,
    "lenVar": 40
   },
   "kernels_config": {
    "python": {
     "delete_cmd_postfix": "",
     "delete_cmd_prefix": "del ",
     "library": "var_list.py",
     "varRefreshCmd": "print(var_dic_list())"
    },
    "r": {
     "delete_cmd_postfix": ") ",
     "delete_cmd_prefix": "rm(",
     "library": "var_list.r",
     "varRefreshCmd": "cat(var_dic_list()) "
    }
   },
   "types_to_exclude": [
    "module",
    "function",
    "builtin_function_or_method",
    "instance",
    "_Feature"
   ],
   "window_display": false
  }
 },
 "nbformat": 4,
 "nbformat_minor": 2
}
