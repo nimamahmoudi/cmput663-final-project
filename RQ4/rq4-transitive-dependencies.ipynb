{
 "cells": [
  {
   "cell_type": "markdown",
   "metadata": {},
   "source": [
    "# How pravelent are transitive dependencies?\n",
    "In this notebook, we are going to invsetigate transitive dependencies of Python packages in PyPI."
   ]
  },
  {
   "cell_type": "markdown",
   "metadata": {
    "ExecuteTime": {
     "end_time": "2019-03-31T00:30:54.230227Z",
     "start_time": "2019-03-31T00:30:54.225280Z"
    }
   },
   "source": [
    "## Import libraries and load data"
   ]
  },
  {
   "cell_type": "code",
   "execution_count": 2,
   "metadata": {
    "ExecuteTime": {
     "end_time": "2019-04-08T13:54:56.379639Z",
     "start_time": "2019-04-08T13:54:55.111497Z"
    }
   },
   "outputs": [
    {
     "name": "stderr",
     "output_type": "stream",
     "text": [
      "/usr/local/lib/python3.5/dist-packages/tqdm/autonotebook/__init__.py:14: TqdmExperimentalWarning: Using `tqdm.autonotebook.tqdm` in notebook mode. Use `tqdm.tqdm` instead to force console mode (e.g. in jupyter console)\n",
      "  \" (e.g. in jupyter console)\", TqdmExperimentalWarning)\n"
     ]
    }
   ],
   "source": [
    "%load_ext autoreload\n",
    "\n",
    "# Auto reloading causes the kernel to reload the libraries we have\n",
    "%autoreload 2\n",
    "\n",
    "# usual imports for visualization, etc.\n",
    "import numpy as np\n",
    "import pandas as pd\n",
    "import matplotlib.pyplot as plt\n",
    "import datetime\n",
    "from tqdm.autonotebook import tqdm\n",
    "from tqdm import tqdm_notebook, _tqdm_notebook\n",
    "\n",
    "# make it reproducible\n",
    "np.random.seed(0)\n",
    "\n",
    "# show plots inline\n",
    "%matplotlib inline"
   ]
  },
  {
   "cell_type": "code",
   "execution_count": 3,
   "metadata": {},
   "outputs": [],
   "source": [
    "data_folder = '../data/'\n",
    "requirements = pd.read_csv(data_folder + 'dependencies_all_version_all_time.csv')\n",
    "requirements.loc[:,'package_name'] = requirements.loc[:,'name']\n",
    "requirements.loc[:,'requirement'] = requirements.loc[:,'deps']\n",
    "requirements.loc[:,'package_name'] = requirements.loc[:,'package_name'].apply(lambda x: x.lower() if type(x)==str else x)\n",
    "requirements.loc[:,'requirement'] = requirements.loc[:,'requirement'].apply(lambda x: x.lower() if type(x)==str else x)\n",
    "requirements.loc[:,'date'] = requirements.loc[:,'date'].apply(lambda x: datetime.datetime.strptime(x, '%Y-%m-%d'))\n",
    "sub = requirements\n",
    "data_folder = '../data/'\n",
    "requirements = pd.read_csv(data_folder + 'reqs.csv')\n",
    "requirements.loc[:,'package_name'] = requirements.loc[:,'package_name'].apply(lambda x: x.lower() if type(x)==str else x)\n",
    "requirements.loc[:,'requirement'] = requirements.loc[:,'requirement'].apply(lambda x: x.lower() if type(x)==str else x)"
   ]
  },
  {
   "cell_type": "markdown",
   "metadata": {},
   "source": [
    "## Define helper functions and defaults"
   ]
  },
  {
   "cell_type": "code",
   "execution_count": 4,
   "metadata": {
    "ExecuteTime": {
     "end_time": "2019-04-08T13:54:56.577322Z",
     "start_time": "2019-04-08T13:54:56.413640Z"
    }
   },
   "outputs": [
    {
     "name": "stdout",
     "output_type": "stream",
     "text": [
      "mkdir: cannot create directory ‘figs’: File exists\r\n"
     ]
    }
   ],
   "source": [
    "# Helper Functions\n",
    "def add_three_months(t):\n",
    "    for i in range(1):\n",
    "        t = add_a_month(t)\n",
    "    return t\n",
    "def add_a_month(t):\n",
    "    return (t.replace(day=1) + datetime.timedelta(days=31)).replace(day=1)\n",
    "def print_time(t):\n",
    "    return t.strftime(\"%Y-%m-%dT%H:%M:%S\")\n",
    "\n",
    "!mkdir figs\n",
    "figs_dir = 'figs/'"
   ]
  },
  {
   "cell_type": "code",
   "execution_count": 10,
   "metadata": {
    "ExecuteTime": {
     "end_time": "2019-04-08T13:54:56.648996Z",
     "start_time": "2019-04-08T13:54:56.613196Z"
    }
   },
   "outputs": [
    {
     "data": {
      "text/plain": [
       "<Figure size 288x201.6 with 0 Axes>"
      ]
     },
     "metadata": {},
     "output_type": "display_data"
    }
   ],
   "source": [
    "from cycler import cycler\n",
    "def set_plt_rc():\n",
    "    SMALL_SIZE = 8\n",
    "    MEDIUM_SIZE = 10\n",
    "    BIGGER_SIZE = 12\n",
    "    \n",
    "    font = {'family': 'serif','size': BIGGER_SIZE}\n",
    "    plt.rc('font', **font)\n",
    "\n",
    "    plt.rc('font', size=SMALL_SIZE)          # controls default text sizes\n",
    "    plt.rc('axes', titlesize=SMALL_SIZE)     # fontsize of the axes title\n",
    "    plt.rc('axes', labelsize=MEDIUM_SIZE)    # fontsize of the x and y labels\n",
    "    plt.rc('xtick', labelsize=SMALL_SIZE)    # fontsize of the tick labels\n",
    "    plt.rc('ytick', labelsize=SMALL_SIZE)    # fontsize of the tick labels\n",
    "    plt.rc('legend', fontsize=SMALL_SIZE)    # legend fontsize\n",
    "    plt.rc('figure', titlesize=BIGGER_SIZE)  # fontsize of the figure title\n",
    "        \n",
    "    plt.rc('axes', prop_cycle=(cycler(color=['#1f77b4', '#ff7f0e', '#2ca02c', '#d62728',\n",
    "                                         '#9467bd', '#8c564b', '#e377c2', '#7f7f7f',\n",
    "                                         '#bcbd22', '#17becf']) +\n",
    "                           cycler(linestyle=['-', '--', ':', '-.','-', '--', ':', '-.','-', '--'])))\n",
    "    plt.rcParams['font.family'] = 'serif'   \n",
    "    plt.rc('axes', labelsize=8)\n",
    "    plt.rc('xtick', labelsize=8)\n",
    "    plt.rc('ytick', labelsize=8)\n",
    "    plt.figure(figsize=(4,2.8)) \n",
    "    \n",
    "set_plt_rc()"
   ]
  },
  {
   "cell_type": "markdown",
   "metadata": {},
   "source": [
    "# Distribution of the number of direct dependencies and the number of transitive dependencies"
   ]
  },
  {
   "cell_type": "code",
   "execution_count": 6,
   "metadata": {
    "ExecuteTime": {
     "end_time": "2019-04-08T13:56:51.937725Z",
     "start_time": "2019-04-08T13:56:51.885657Z"
    }
   },
   "outputs": [],
   "source": [
    "dep_cache = {}\n",
    "MAX_LEVEL = 10\n",
    "\n",
    "def get_direct_deps(p):\n",
    "    if p in dep_cache:\n",
    "        return dep_cache[p][1]\n",
    "    \n",
    "    direct_deps = list(requirements.loc[requirements.loc[:, 'package_name'] == p, 'requirement'])\n",
    "    return direct_deps\n",
    "\n",
    "def get_all_deps(p, level=1, old_deps=None):\n",
    "    if old_deps is None:\n",
    "        old_deps = []\n",
    "    if level > MAX_LEVEL:\n",
    "        return -1, -1\n",
    "    if p in dep_cache:\n",
    "        return dep_cache[p]\n",
    "    direct_deps = get_direct_deps(p)\n",
    "    all_deps = []\n",
    "    for req in direct_deps:\n",
    "        if req in old_deps:\n",
    "            continue\n",
    "        d, _ = get_all_deps(req, level+1, all_deps + old_deps)\n",
    "        if d == -1:\n",
    "            return list(set(all_deps)), list(set(direct_deps))\n",
    "        all_deps += d    \n",
    "    all_deps += direct_deps\n",
    "    dep_cache[p] = (list(set(all_deps)), list(set(direct_deps)))\n",
    "    return list(set(all_deps)), list(set(direct_deps))\n",
    "\n",
    "def get_transitive_deps(p):\n",
    "    a,d = get_all_deps(p)\n",
    "    if a == -1:\n",
    "        return -1\n",
    "    return set(a) - set(d)"
   ]
  },
  {
   "cell_type": "code",
   "execution_count": 7,
   "metadata": {
    "ExecuteTime": {
     "end_time": "2019-04-08T13:56:36.192394Z",
     "start_time": "2019-04-08T13:56:36.159643Z"
    }
   },
   "outputs": [
    {
     "data": {
      "application/vnd.jupyter.widget-view+json": {
       "model_id": "8f2dfab57eb045feadce4c9671beb8d5",
       "version_major": 2,
       "version_minor": 0
      },
      "text/html": [
       "<p>Failed to display Jupyter Widget of type <code>HBox</code>.</p>\n",
       "<p>\n",
       "  If you're reading this message in the Jupyter Notebook or JupyterLab Notebook, it may mean\n",
       "  that the widgets JavaScript is still loading. If this message persists, it\n",
       "  likely means that the widgets JavaScript library is either not installed or\n",
       "  not enabled. See the <a href=\"https://ipywidgets.readthedocs.io/en/stable/user_install.html\">Jupyter\n",
       "  Widgets Documentation</a> for setup instructions.\n",
       "</p>\n",
       "<p>\n",
       "  If you're reading this message in another frontend (for example, a static\n",
       "  rendering on GitHub or <a href=\"https://nbviewer.jupyter.org/\">NBViewer</a>),\n",
       "  it may mean that your frontend doesn't currently support widgets.\n",
       "</p>\n"
      ],
      "text/plain": [
       "HBox(children=(IntProgress(value=0, max=2371175), HTML(value='')))"
      ]
     },
     "metadata": {},
     "output_type": "display_data"
    },
    {
     "name": "stdout",
     "output_type": "stream",
     "text": [
      "\n"
     ]
    }
   ],
   "source": [
    "first_time = sub['date'].min()\n",
    "last_time = sub['date'].max()\n",
    "tqdm.pandas()\n",
    "sub.loc[:,'tran_deps'] = sub.loc[:,'package_name'].progress_apply(get_transitive_deps)\n",
    "sub.loc[:,'tran_deps_lens'] = sub.loc[:,'tran_deps'].apply(lambda x: len(x))\n",
    "sub.loc[:,'dir_deps_lens'] = sub.loc[:,'package_name'].apply(lambda x: len(get_direct_deps(x)))\n",
    "sub.loc[:,'ratios'] = sub.apply(lambda x: x['tran_deps_lens'] / x['dir_deps_lens'], axis=1)\n",
    "ratio = sub.loc[:,'ratios'].mean()"
   ]
  },
  {
   "cell_type": "code",
   "execution_count": 29,
   "metadata": {},
   "outputs": [
    {
     "name": "stdout",
     "output_type": "stream",
     "text": [
      "Average ratio between the number of transitive dependencies and the number of direct dependencies:  2.271763550942211\n"
     ]
    },
    {
     "data": {
      "image/png": "[encoded data removed]",
      "text/plain": [
       "<Figure size 288x201.6 with 1 Axes>"
      ]
     },
     "metadata": {},
     "output_type": "display_data"
    },
    {
     "data": {
      "text/plain": [
       "<Figure size 288x201.6 with 0 Axes>"
      ]
     },
     "metadata": {},
     "output_type": "display_data"
    }
   ],
   "source": [
    "plt.rc('font', size=8)\n",
    "plt.rc('axes', titlesize=6)\n",
    "plt.rc('axes', labelsize=8)\n",
    "fig, ax = plt.subplots(nrows=1, ncols=1, figsize=(4,2.8))\n",
    "labels = ['Direct', 'Transitive']\n",
    "data=[sub['dir_deps_lens'],sub['tran_deps_lens']]\n",
    "bplot = ax.boxplot(data,vert=True,patch_artist=True,labels=labels,widths=0.6)\n",
    "ax.set_yscale('log')\n",
    "ax.set_ylabel('Number of dependencies (Log scale)')\n",
    "ax.set_xlabel('Dependency')\n",
    "ax.grid()\n",
    "fig.savefig(figs_dir+'distribution-of-dependencies', dpi=300,bbox_inches='tight')\n",
    "set_plt_rc()\n",
    "print('Average ratio between the number of transitive dependencies and the number of direct dependencies: ',ratio)"
   ]
  },
  {
   "cell_type": "markdown",
   "metadata": {},
   "source": [
    "# The change of  the ratio over time"
   ]
  },
  {
   "cell_type": "code",
   "execution_count": 27,
   "metadata": {},
   "outputs": [],
   "source": [
    "project_counts = {}\n",
    "project_counts['StartDate'] = []\n",
    "project_counts['EndDate'] = []\n",
    "project_counts['ratios'] = []\n",
    "start_time = add_a_month(first_time)\n",
    "end_time = add_three_months(start_time)\n",
    "while end_time < last_time.replace(day=1):\n",
    "    project_counts['StartDate'].append(start_time)\n",
    "    project_counts['EndDate'].append(end_time)\n",
    "\n",
    "    idxs = (sub['date'] > start_time) & (sub['date'] < end_time)\n",
    "    subset = sub.loc[idxs, :]\n",
    "    ratio = subset.loc[:,'ratios'].mean()\n",
    "    project_counts['ratios'].append(ratio)\n",
    "    start_time = end_time\n",
    "    end_time = add_three_months(start_time)"
   ]
  },
  {
   "cell_type": "code",
   "execution_count": 30,
   "metadata": {
    "scrolled": true
   },
   "outputs": [
    {
     "data": {
      "image/png": "[encoded data removed]",
      "text/plain": [
       "<Figure size 288x201.6 with 1 Axes>"
      ]
     },
     "metadata": {},
     "output_type": "display_data"
    },
    {
     "data": {
      "text/plain": [
       "<Figure size 288x201.6 with 0 Axes>"
      ]
     },
     "metadata": {},
     "output_type": "display_data"
    }
   ],
   "source": [
    "plt.rc('font', size=8)\n",
    "plt.rc('axes', titlesize=6)\n",
    "plt.rc('axes', labelsize=8)\n",
    "plt.figure(figsize=(4,2.8))\n",
    "plt.plot(project_counts['StartDate'], project_counts['ratios'])\n",
    "plt.xlabel('Time')\n",
    "plt.ylabel('Ratio between trans. and dir. deps.')\n",
    "plt.savefig(figs_dir+'dep-ratio-over-time.png', dpi=300,bbox_inches='tight')\n",
    "set_plt_rc()"
   ]
  },
  {
   "cell_type": "code",
   "execution_count": null,
   "metadata": {},
   "outputs": [],
   "source": []
  }
 ],
 "metadata": {
  "kernelspec": {
   "display_name": "Python 3",
   "language": "python",
   "name": "python3"
  },
  "language_info": {
   "codemirror_mode": {
    "name": "ipython",
    "version": 3
   },
   "file_extension": ".py",
   "mimetype": "text/x-python",
   "name": "python",
   "nbconvert_exporter": "python",
   "pygments_lexer": "ipython3",
   "version": "3.5.2"
  },
  "toc": {
   "base_numbering": 1,
   "nav_menu": {},
   "number_sections": true,
   "sideBar": true,
   "skip_h1_title": false,
   "title_cell": "Table of Contents",
   "title_sidebar": "Contents",
   "toc_cell": false,
   "toc_position": {},
   "toc_section_display": true,
   "toc_window_display": false
  },
  "varInspector": {
   "cols": {
    "lenName": 16,
    "lenType": 16,
    "lenVar": 40
   },
   "kernels_config": {
    "python": {
     "delete_cmd_postfix": "",
     "delete_cmd_prefix": "del ",
     "library": "var_list.py",
     "varRefreshCmd": "print(var_dic_list())"
    },
    "r": {
     "delete_cmd_postfix": ") ",
     "delete_cmd_prefix": "rm(",
     "library": "var_list.r",
     "varRefreshCmd": "cat(var_dic_list()) "
    }
   },
   "types_to_exclude": [
    "module",
    "function",
    "builtin_function_or_method",
    "instance",
    "_Feature"
   ],
   "window_display": false
  }
 },
 "nbformat": 4,
 "nbformat_minor": 2
}
