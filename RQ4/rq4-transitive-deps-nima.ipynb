{
 "cells": [
  {
   "cell_type": "markdown",
   "metadata": {},
   "source": [
    "# How do package dependency network grow over time?\n",
    "\n",
    "In this notebook we plan to investigate the dependencies in the Pypi dataset and try to look at\n",
    "how they change over time."
   ]
  },
  {
   "cell_type": "markdown",
   "metadata": {
    "ExecuteTime": {
     "end_time": "2019-03-31T00:30:54.230227Z",
     "start_time": "2019-03-31T00:30:54.225280Z"
    }
   },
   "source": [
    "## Loading data and importing libraries"
   ]
  },
  {
   "cell_type": "code",
   "execution_count": 1,
   "metadata": {
    "ExecuteTime": {
     "end_time": "2019-04-08T13:54:56.379639Z",
     "start_time": "2019-04-08T13:54:55.111497Z"
    }
   },
   "outputs": [],
   "source": [
    "%load_ext autoreload\n",
    "\n",
    "# Auto reloading causes the kernel to reload the libraries we have\n",
    "%autoreload 2\n",
    "\n",
    "# usual imports for visualization, etc.\n",
    "import numpy as np\n",
    "import pandas as pd\n",
    "import matplotlib.pyplot as plt\n",
    "\n",
    "import datetime\n",
    "\n",
    "# make it reproducible\n",
    "np.random.seed(0)\n",
    "\n",
    "# show plots inline\n",
    "%matplotlib inline"
   ]
  },
  {
   "cell_type": "markdown",
   "metadata": {},
   "source": [
    "## Defining helper functions and defaults"
   ]
  },
  {
   "cell_type": "code",
   "execution_count": 2,
   "metadata": {
    "ExecuteTime": {
     "end_time": "2019-04-08T13:54:56.577322Z",
     "start_time": "2019-04-08T13:54:56.413640Z"
    }
   },
   "outputs": [
    {
     "name": "stdout",
     "output_type": "stream",
     "text": [
      "mkdir: cannot create directory ‘figs’: File exists\r\n"
     ]
    }
   ],
   "source": [
    "# Helper Functions\n",
    "def add_three_months(t):\n",
    "    for i in range(1):\n",
    "        t = add_a_month(t)\n",
    "    return t\n",
    "def add_a_month(t):\n",
    "    return (t.replace(day=1) + datetime.timedelta(days=31)).replace(day=1)\n",
    "def print_time(t):\n",
    "    return t.strftime(\"%Y-%m-%dT%H:%M:%S\")\n",
    "\n",
    "!mkdir figs\n",
    "figs_dir = 'figs/'"
   ]
  },
  {
   "cell_type": "code",
   "execution_count": 3,
   "metadata": {
    "ExecuteTime": {
     "end_time": "2019-04-08T13:54:56.648996Z",
     "start_time": "2019-04-08T13:54:56.613196Z"
    }
   },
   "outputs": [],
   "source": [
    "from cycler import cycler\n",
    "def set_plt_rc():\n",
    "    SMALL_SIZE = 8\n",
    "    MEDIUM_SIZE = 10\n",
    "    BIGGER_SIZE = 12\n",
    "    \n",
    "    font = {'family': 'serif','size': BIGGER_SIZE}\n",
    "    plt.rc('font', **font)\n",
    "\n",
    "    plt.rc('font', size=SMALL_SIZE)          # controls default text sizes\n",
    "    plt.rc('axes', titlesize=SMALL_SIZE)     # fontsize of the axes title\n",
    "    plt.rc('axes', labelsize=MEDIUM_SIZE)    # fontsize of the x and y labels\n",
    "    plt.rc('xtick', labelsize=SMALL_SIZE)    # fontsize of the tick labels\n",
    "    plt.rc('ytick', labelsize=SMALL_SIZE)    # fontsize of the tick labels\n",
    "    plt.rc('legend', fontsize=SMALL_SIZE)    # legend fontsize\n",
    "    plt.rc('figure', titlesize=BIGGER_SIZE)  # fontsize of the figure title\n",
    "        \n",
    "    plt.rc('axes', prop_cycle=(cycler(color=['#1f77b4', '#ff7f0e', '#2ca02c', '#d62728',\n",
    "                                         '#9467bd', '#8c564b', '#e377c2', '#7f7f7f',\n",
    "                                         '#bcbd22', '#17becf']) +\n",
    "                           cycler(linestyle=['-', '--', ':', '-.','-', '--', ':', '-.','-', '--'])))\n",
    "    \n",
    "set_plt_rc()"
   ]
  },
  {
   "cell_type": "markdown",
   "metadata": {},
   "source": [
    "# Transitive Dependencies"
   ]
  },
  {
   "cell_type": "code",
   "execution_count": 4,
   "metadata": {
    "ExecuteTime": {
     "end_time": "2019-04-08T13:56:16.738282Z",
     "start_time": "2019-04-08T13:54:57.267923Z"
    },
    "scrolled": true
   },
   "outputs": [
    {
     "data": {
      "text/html": [
       "<div>\n",
       "<style scoped>\n",
       "    .dataframe tbody tr th:only-of-type {\n",
       "        vertical-align: middle;\n",
       "    }\n",
       "\n",
       "    .dataframe tbody tr th {\n",
       "        vertical-align: top;\n",
       "    }\n",
       "\n",
       "    .dataframe thead th {\n",
       "        text-align: right;\n",
       "    }\n",
       "</style>\n",
       "<table border=\"1\" class=\"dataframe\">\n",
       "  <thead>\n",
       "    <tr style=\"text-align: right;\">\n",
       "      <th></th>\n",
       "      <th>package_name</th>\n",
       "      <th>requirement</th>\n",
       "    </tr>\n",
       "  </thead>\n",
       "  <tbody>\n",
       "    <tr>\n",
       "      <th>0</th>\n",
       "      <td>0.0.1</td>\n",
       "      <td>tensorflow</td>\n",
       "    </tr>\n",
       "    <tr>\n",
       "      <th>1</th>\n",
       "      <td>0.0.1</td>\n",
       "      <td>pandas</td>\n",
       "    </tr>\n",
       "    <tr>\n",
       "      <th>2</th>\n",
       "      <td>115wangpan</td>\n",
       "      <td>pycurl</td>\n",
       "    </tr>\n",
       "    <tr>\n",
       "      <th>3</th>\n",
       "      <td>115wangpan</td>\n",
       "      <td>six</td>\n",
       "    </tr>\n",
       "    <tr>\n",
       "      <th>4</th>\n",
       "      <td>115wangpan</td>\n",
       "      <td>humanize</td>\n",
       "    </tr>\n",
       "  </tbody>\n",
       "</table>\n",
       "</div>"
      ],
      "text/plain": [
       "  package_name requirement\n",
       "0        0.0.1  tensorflow\n",
       "1        0.0.1      pandas\n",
       "2   115wangpan      pycurl\n",
       "3   115wangpan         six\n",
       "4   115wangpan    humanize"
      ]
     },
     "execution_count": 4,
     "metadata": {},
     "output_type": "execute_result"
    }
   ],
   "source": [
    "\n",
    "data_folder = '../data/'\n",
    "\n",
    "requirements = pd.read_csv(data_folder + 'data_all.csv')\n",
    "requirements.loc[:,'package_name'] = requirements.loc[:,'name']\n",
    "requirements.loc[:,'requirement'] = requirements.loc[:,'deps']\n",
    "\n",
    "requirements.loc[:,'package_name'] = requirements.loc[:,'package_name'].apply(lambda x: x.lower() if type(x)==str else x)\n",
    "requirements.loc[:,'requirement'] = requirements.loc[:,'requirement'].apply(lambda x: x.lower() if type(x)==str else x)\n",
    "\n",
    "requirements.loc[:,'date'] = requirements.loc[:,'date'].apply(lambda x: datetime.datetime.strptime(x, '%Y-%m-%d'))\n",
    "\n",
    "\n",
    "\n",
    "sub = requirements\n",
    "\n",
    "data_folder = '../data/'\n",
    "requirements = pd.read_csv(data_folder + 'reqs.csv')\n",
    "requirements.loc[:,'package_name'] = requirements.loc[:,'package_name'].apply(lambda x: x.lower() if type(x)==str else x)\n",
    "requirements.loc[:,'requirement'] = requirements.loc[:,'requirement'].apply(lambda x: x.lower() if type(x)==str else x)\n",
    "\n",
    "requirements.head()"
   ]
  },
  {
   "cell_type": "code",
   "execution_count": 5,
   "metadata": {
    "ExecuteTime": {
     "end_time": "2019-04-08T13:56:32.169351Z",
     "start_time": "2019-04-08T13:56:32.129810Z"
    }
   },
   "outputs": [
    {
     "data": {
      "text/html": [
       "<div>\n",
       "<style scoped>\n",
       "    .dataframe tbody tr th:only-of-type {\n",
       "        vertical-align: middle;\n",
       "    }\n",
       "\n",
       "    .dataframe tbody tr th {\n",
       "        vertical-align: top;\n",
       "    }\n",
       "\n",
       "    .dataframe thead th {\n",
       "        text-align: right;\n",
       "    }\n",
       "</style>\n",
       "<table border=\"1\" class=\"dataframe\">\n",
       "  <thead>\n",
       "    <tr style=\"text-align: right;\">\n",
       "      <th></th>\n",
       "      <th>name</th>\n",
       "      <th>version</th>\n",
       "      <th>date</th>\n",
       "      <th>deps</th>\n",
       "      <th>package_name</th>\n",
       "      <th>requirement</th>\n",
       "    </tr>\n",
       "  </thead>\n",
       "  <tbody>\n",
       "    <tr>\n",
       "      <th>0</th>\n",
       "      <td>0.0.1</td>\n",
       "      <td>0.0.1</td>\n",
       "      <td>2017-12-20</td>\n",
       "      <td>tensorflow</td>\n",
       "      <td>0.0.1</td>\n",
       "      <td>tensorflow</td>\n",
       "    </tr>\n",
       "    <tr>\n",
       "      <th>1</th>\n",
       "      <td>0.0.1</td>\n",
       "      <td>0.0.1</td>\n",
       "      <td>2017-12-20</td>\n",
       "      <td>pandas</td>\n",
       "      <td>0.0.1</td>\n",
       "      <td>pandas</td>\n",
       "    </tr>\n",
       "    <tr>\n",
       "      <th>2</th>\n",
       "      <td>115wangpan</td>\n",
       "      <td>0.1.0</td>\n",
       "      <td>2014-09-11</td>\n",
       "      <td>six</td>\n",
       "      <td>115wangpan</td>\n",
       "      <td>six</td>\n",
       "    </tr>\n",
       "    <tr>\n",
       "      <th>3</th>\n",
       "      <td>115wangpan</td>\n",
       "      <td>0.1.0</td>\n",
       "      <td>2014-09-11</td>\n",
       "      <td>beautifulsoup4</td>\n",
       "      <td>115wangpan</td>\n",
       "      <td>beautifulsoup4</td>\n",
       "    </tr>\n",
       "    <tr>\n",
       "      <th>4</th>\n",
       "      <td>115wangpan</td>\n",
       "      <td>0.1.0</td>\n",
       "      <td>2014-09-11</td>\n",
       "      <td>humanize</td>\n",
       "      <td>115wangpan</td>\n",
       "      <td>humanize</td>\n",
       "    </tr>\n",
       "  </tbody>\n",
       "</table>\n",
       "</div>"
      ],
      "text/plain": [
       "         name version       date            deps package_name     requirement\n",
       "0       0.0.1   0.0.1 2017-12-20      tensorflow        0.0.1      tensorflow\n",
       "1       0.0.1   0.0.1 2017-12-20          pandas        0.0.1          pandas\n",
       "2  115wangpan   0.1.0 2014-09-11             six   115wangpan             six\n",
       "3  115wangpan   0.1.0 2014-09-11  beautifulsoup4   115wangpan  beautifulsoup4\n",
       "4  115wangpan   0.1.0 2014-09-11        humanize   115wangpan        humanize"
      ]
     },
     "execution_count": 5,
     "metadata": {},
     "output_type": "execute_result"
    }
   ],
   "source": [
    "sub.head()"
   ]
  },
  {
   "cell_type": "code",
   "execution_count": 6,
   "metadata": {
    "ExecuteTime": {
     "end_time": "2019-04-08T13:56:36.192394Z",
     "start_time": "2019-04-08T13:56:36.159643Z"
    }
   },
   "outputs": [
    {
     "name": "stderr",
     "output_type": "stream",
     "text": [
      "/home/ubuntu/anaconda3/envs/mlse/lib/python3.6/site-packages/tqdm/autonotebook/__init__.py:14: TqdmExperimentalWarning: Using `tqdm.autonotebook.tqdm` in notebook mode. Use `tqdm.tqdm` instead to force console mode (e.g. in jupyter console)\n",
      "  \" (e.g. in jupyter console)\", TqdmExperimentalWarning)\n"
     ]
    }
   ],
   "source": [
    "from tqdm.autonotebook import tqdm\n",
    "\n",
    "tqdm.pandas()"
   ]
  },
  {
   "cell_type": "code",
   "execution_count": 7,
   "metadata": {
    "ExecuteTime": {
     "end_time": "2019-04-08T13:56:51.937725Z",
     "start_time": "2019-04-08T13:56:51.885657Z"
    }
   },
   "outputs": [],
   "source": [
    "dep_cache = {}\n",
    "MAX_LEVEL = 10\n",
    "\n",
    "def get_direct_deps(p):\n",
    "    if p in dep_cache:\n",
    "        return dep_cache[p][1]\n",
    "    \n",
    "    direct_deps = list(requirements.loc[requirements.loc[:, 'package_name'] == p, 'requirement'])\n",
    "#     print('direct_deps', p, direct_deps)\n",
    "    return direct_deps\n",
    "\n",
    "def get_all_deps(p, level=1, old_deps=None):\n",
    "    if old_deps is None:\n",
    "        old_deps = []\n",
    "    if level > MAX_LEVEL:\n",
    "        return -1, -1\n",
    "    if p in dep_cache:\n",
    "        return dep_cache[p]\n",
    "    \n",
    "#     print(p)\n",
    "    \n",
    "    direct_deps = get_direct_deps(p)\n",
    "    all_deps = []\n",
    "    for req in direct_deps:\n",
    "        if req in old_deps:\n",
    "            continue\n",
    "        d, _ = get_all_deps(req, level+1, all_deps + old_deps)\n",
    "        if d == -1:\n",
    "            return list(set(all_deps)), list(set(direct_deps))\n",
    "#             return -1, -1\n",
    "        all_deps += d\n",
    "    \n",
    "    all_deps += direct_deps\n",
    "    \n",
    "    dep_cache[p] = (list(set(all_deps)), list(set(direct_deps)))\n",
    "    return list(set(all_deps)), list(set(direct_deps))\n",
    "\n",
    "def get_transitive_deps(p):\n",
    "    a,d = get_all_deps(p)\n",
    "    if a == -1:\n",
    "        return -1\n",
    "    return set(a) - set(d)\n",
    "    \n",
    "# get_all_deps('matplotlib')\n",
    "# get_all_deps('actionbar.babble')\n",
    "\n",
    "# get_transitive_deps('zope')\n",
    "# get_transitive_deps('actionbar.babble')"
   ]
  },
  {
   "cell_type": "markdown",
   "metadata": {},
   "source": [
    "# Automated Process"
   ]
  },
  {
   "cell_type": "code",
   "execution_count": 9,
   "metadata": {
    "ExecuteTime": {
     "end_time": "2019-04-08T13:57:11.306115Z",
     "start_time": "2019-04-08T13:57:11.228845Z"
    }
   },
   "outputs": [
    {
     "name": "stdout",
     "output_type": "stream",
     "text": [
      "soonest start time: 2005-08-27 00:00:00\n",
      "latest start time: 2018-01-20 00:00:00\n"
     ]
    }
   ],
   "source": [
    "first_time = sub['date'].min()\n",
    "last_time = sub['date'].max()\n",
    "print('soonest start time:', first_time)\n",
    "print('latest start time:', last_time)"
   ]
  },
  {
   "cell_type": "code",
   "execution_count": 12,
   "metadata": {
    "ExecuteTime": {
     "end_time": "2019-04-08T14:22:00.975544Z",
     "start_time": "2019-04-08T14:22:00.798494Z"
    }
   },
   "outputs": [
    {
     "name": "stdout",
     "output_type": "stream",
     "text": [
      "Overal Ratio: 2.6282278550768043\n"
     ]
    }
   ],
   "source": [
    "sub.loc[:,'tran_deps'] = sub.loc[:,'package_name'].progress_apply(get_transitive_deps)\n",
    "sub.loc[:,'tran_deps_lens'] = sub.loc[:,'tran_deps'].apply(lambda x: len(x))\n",
    "sub.loc[:,'dir_deps_lens'] = sub.loc[:,'package_name'].apply(lambda x: len(get_direct_deps(x)))\n",
    "sub.loc[:,'ratios'] = sub.apply(lambda x: x['tran_deps_lens'] / x['dir_deps_lens'], axis=1)\n",
    "\n",
    "ratio = sub.loc[:,'ratios'].mean()\n",
    "\n",
    "print('Overal Ratio:', ratio)"
   ]
  },
  {
   "cell_type": "code",
   "execution_count": 16,
   "metadata": {
    "ExecuteTime": {
     "end_time": "2019-04-08T14:23:27.745948Z",
     "start_time": "2019-04-08T14:23:22.977578Z"
    },
    "scrolled": true
   },
   "outputs": [
    {
     "name": "stdout",
     "output_type": "stream",
     "text": [
      "Time: 2005-09-01 00:00:00 - 2.0\n",
      "Time: 2005-10-01 00:00:00 - 0.14285714285714285\n",
      "Time: 2005-11-01 00:00:00 - 4.75\n",
      "Time: 2005-12-01 00:00:00 - 0.26666666666666666\n",
      "Time: 2006-01-01 00:00:00 - 0.21739130434782608\n",
      "Time: 2006-02-01 00:00:00 - 0.4444444444444444\n",
      "Time: 2006-03-01 00:00:00 - 0.6801075268817205\n",
      "Time: 2006-04-01 00:00:00 - 1.097142857142857\n",
      "Time: 2006-05-01 00:00:00 - 0.8913043478260869\n",
      "Time: 2006-06-01 00:00:00 - 1.5555555555555556\n",
      "Time: 2006-07-01 00:00:00 - 0.6650943396226416\n",
      "Time: 2006-08-01 00:00:00 - 0.7910447761194029\n",
      "Time: 2006-09-01 00:00:00 - 1.37442451728166\n",
      "Time: 2006-10-01 00:00:00 - 2.3314935064935067\n",
      "Time: 2006-11-01 00:00:00 - 1.0441176470588236\n",
      "Time: 2006-12-01 00:00:00 - 2.1815980629539955\n",
      "Time: 2007-01-01 00:00:00 - 2.6587301587301586\n",
      "Time: 2007-02-01 00:00:00 - 1.3728186084758143\n",
      "Time: 2007-03-01 00:00:00 - 2.4422486357457\n",
      "Time: 2007-04-01 00:00:00 - 2.367869916858387\n",
      "Time: 2007-05-01 00:00:00 - 1.5544715347713376\n",
      "Time: 2007-06-01 00:00:00 - 2.0665674760920427\n",
      "Time: 2007-07-01 00:00:00 - 2.7964182006481733\n",
      "Time: 2007-08-01 00:00:00 - 1.617842099069888\n",
      "Time: 2007-09-01 00:00:00 - 2.0075908439642647\n",
      "Time: 2007-10-01 00:00:00 - 2.2234641745354513\n",
      "Time: 2007-11-01 00:00:00 - 2.7927894975313783\n",
      "Time: 2007-12-01 00:00:00 - 2.8267716023628537\n",
      "Time: 2008-01-01 00:00:00 - 3.2188186337762996\n",
      "Time: 2008-02-01 00:00:00 - 4.506208521567999\n",
      "Time: 2008-03-01 00:00:00 - 4.8481581983341915\n",
      "Time: 2008-04-01 00:00:00 - 3.419756148964037\n",
      "Time: 2008-05-01 00:00:00 - 3.5043964606629667\n",
      "Time: 2008-06-01 00:00:00 - 3.8492287151985702\n",
      "Time: 2008-07-01 00:00:00 - 3.9574090399093094\n",
      "Time: 2008-08-01 00:00:00 - 2.8560393173883907\n",
      "Time: 2008-09-01 00:00:00 - 3.8712761814196672\n",
      "Time: 2008-10-01 00:00:00 - 4.376846509515787\n",
      "Time: 2008-11-01 00:00:00 - 3.5134658025255274\n",
      "Time: 2008-12-01 00:00:00 - 5.098011027465144\n",
      "Time: 2009-01-01 00:00:00 - 3.961228926825905\n",
      "Time: 2009-02-01 00:00:00 - 6.331351634536338\n",
      "Time: 2009-03-01 00:00:00 - 6.1851851254783465\n",
      "Time: 2009-04-01 00:00:00 - 7.405087531299056\n",
      "Time: 2009-05-01 00:00:00 - 5.897720948210529\n",
      "Time: 2009-06-01 00:00:00 - 3.924865083881845\n",
      "Time: 2009-07-01 00:00:00 - 5.305070606488342\n",
      "Time: 2009-08-01 00:00:00 - 6.461017635058901\n",
      "Time: 2009-09-01 00:00:00 - 6.180016908895103\n",
      "Time: 2009-10-01 00:00:00 - 3.6874271217655896\n",
      "Time: 2009-11-01 00:00:00 - 5.820508710229717\n",
      "Time: 2009-12-01 00:00:00 - 5.397026608383808\n",
      "Time: 2010-01-01 00:00:00 - 3.9522992488863404\n",
      "Time: 2010-02-01 00:00:00 - 3.87890060361576\n",
      "Time: 2010-03-01 00:00:00 - 4.523481880867271\n",
      "Time: 2010-04-01 00:00:00 - 6.906760840906155\n",
      "Time: 2010-05-01 00:00:00 - 6.001642207104138\n",
      "Time: 2010-06-01 00:00:00 - 8.122596675974284\n",
      "Time: 2010-07-01 00:00:00 - 7.182944661575049\n",
      "Time: 2010-08-01 00:00:00 - 6.45328385954608\n",
      "Time: 2010-09-01 00:00:00 - 5.22157252506104\n",
      "Time: 2010-10-01 00:00:00 - 8.198959699135745\n",
      "Time: 2010-11-01 00:00:00 - 7.36390240170659\n",
      "Time: 2010-12-01 00:00:00 - 7.375827629541242\n",
      "Time: 2011-01-01 00:00:00 - 5.467094659360936\n",
      "Time: 2011-02-01 00:00:00 - 8.050036930119731\n",
      "Time: 2011-03-01 00:00:00 - 4.4842115659795585\n",
      "Time: 2011-04-01 00:00:00 - 6.569799435098347\n",
      "Time: 2011-05-01 00:00:00 - 5.518503650806013\n",
      "Time: 2011-06-01 00:00:00 - 6.387508290943719\n",
      "Time: 2011-07-01 00:00:00 - 4.499776786962731\n",
      "Time: 2011-08-01 00:00:00 - 4.633201452787448\n",
      "Time: 2011-09-01 00:00:00 - 3.748902853178469\n",
      "Time: 2011-10-01 00:00:00 - 6.5004464519973695\n",
      "Time: 2011-11-01 00:00:00 - 3.1657651162080716\n",
      "Time: 2011-12-01 00:00:00 - 5.7423647084583305\n",
      "Time: 2012-01-01 00:00:00 - 5.37466288497634\n",
      "Time: 2012-02-01 00:00:00 - 5.2681083808630165\n",
      "Time: 2012-03-01 00:00:00 - 3.201598635691736\n",
      "Time: 2012-04-01 00:00:00 - 3.50867040971244\n",
      "Time: 2012-05-01 00:00:00 - 4.645913053257106\n",
      "Time: 2012-06-01 00:00:00 - 4.590997874568079\n",
      "Time: 2012-07-01 00:00:00 - 3.484048719955707\n",
      "Time: 2012-08-01 00:00:00 - 4.249409080999035\n",
      "Time: 2012-09-01 00:00:00 - 6.479509894179976\n",
      "Time: 2012-10-01 00:00:00 - 5.56167611195837\n",
      "Time: 2012-11-01 00:00:00 - 4.646914045793483\n",
      "Time: 2012-12-01 00:00:00 - 3.481697400736301\n",
      "Time: 2013-01-01 00:00:00 - 3.9893688782177876\n",
      "Time: 2013-02-01 00:00:00 - 3.1916917567399055\n",
      "Time: 2013-03-01 00:00:00 - 3.53615258721092\n",
      "Time: 2013-04-01 00:00:00 - 3.7662973960227197\n",
      "Time: 2013-05-01 00:00:00 - 3.3757941882636398\n",
      "Time: 2013-06-01 00:00:00 - 3.1375388486922455\n",
      "Time: 2013-07-01 00:00:00 - 3.2798154785641445\n",
      "Time: 2013-08-01 00:00:00 - 2.4711318684997017\n",
      "Time: 2013-09-01 00:00:00 - 2.5364789898806404\n",
      "Time: 2013-10-01 00:00:00 - 2.7616835838811196\n",
      "Time: 2013-11-01 00:00:00 - 3.1488617939431567\n",
      "Time: 2013-12-01 00:00:00 - 3.391339013085566\n",
      "Time: 2014-01-01 00:00:00 - 2.728013718203487\n",
      "Time: 2014-02-01 00:00:00 - 3.804550920384478\n",
      "Time: 2014-03-01 00:00:00 - 2.5741569181700914\n",
      "Time: 2014-04-01 00:00:00 - 2.3401597209632485\n",
      "Time: 2014-05-01 00:00:00 - 2.3333301917495586\n",
      "Time: 2014-06-01 00:00:00 - 2.7518631680304173\n",
      "Time: 2014-07-01 00:00:00 - 3.233588197427846\n",
      "Time: 2014-08-01 00:00:00 - 2.5590118592738675\n",
      "Time: 2014-09-01 00:00:00 - 2.710767101961395\n",
      "Time: 2014-10-01 00:00:00 - 2.8661779691371594\n",
      "Time: 2014-11-01 00:00:00 - 2.189281730606305\n",
      "Time: 2014-12-01 00:00:00 - 2.390609951931945\n",
      "Time: 2015-01-01 00:00:00 - 2.134009013799571\n",
      "Time: 2015-02-01 00:00:00 - 2.197322704354455\n",
      "Time: 2015-03-01 00:00:00 - 2.4609157182547454\n",
      "Time: 2015-04-01 00:00:00 - 2.13708324185406\n",
      "Time: 2015-05-01 00:00:00 - 2.293796542872712\n",
      "Time: 2015-06-01 00:00:00 - 2.541552047943022\n",
      "Time: 2015-07-01 00:00:00 - 2.025811057558157\n",
      "Time: 2015-08-01 00:00:00 - 2.2194576784019255\n",
      "Time: 2015-09-01 00:00:00 - 2.4086163987808913\n",
      "Time: 2015-10-01 00:00:00 - 2.3562333400359092\n",
      "Time: 2015-11-01 00:00:00 - 2.2486196305078976\n",
      "Time: 2015-12-01 00:00:00 - 2.2642454125173344\n",
      "Time: 2016-01-01 00:00:00 - 2.118327138667398\n",
      "Time: 2016-02-01 00:00:00 - 2.108103487826011\n",
      "Time: 2016-03-01 00:00:00 - 2.1153671058314023\n",
      "Time: 2016-04-01 00:00:00 - 2.0744993061790806\n",
      "Time: 2016-05-01 00:00:00 - 2.0596564577313146\n",
      "Time: 2016-06-01 00:00:00 - 2.1096725553314895\n",
      "Time: 2016-07-01 00:00:00 - 2.210051393152704\n",
      "Time: 2016-08-01 00:00:00 - 2.044647836756909\n",
      "Time: 2016-09-01 00:00:00 - 2.245695970183982\n",
      "Time: 2016-10-01 00:00:00 - 2.1001301668265784\n",
      "Time: 2016-11-01 00:00:00 - 2.2626566640703896\n",
      "Time: 2016-12-01 00:00:00 - 2.251340347949134\n",
      "Time: 2017-01-01 00:00:00 - 2.4850665829318506\n",
      "Time: 2017-02-01 00:00:00 - 2.4541504597860557\n",
      "Time: 2017-03-01 00:00:00 - 2.5444750875257243\n",
      "Time: 2017-04-01 00:00:00 - 2.3243488881324073\n",
      "Time: 2017-05-01 00:00:00 - 2.3108566806650614\n",
      "Time: 2017-06-01 00:00:00 - 2.124430732513092\n",
      "Time: 2017-07-01 00:00:00 - 2.2211235361005377\n",
      "Time: 2017-08-01 00:00:00 - 2.1468209047350433\n",
      "Time: 2017-09-01 00:00:00 - 2.0857189851052107\n",
      "Time: 2017-10-01 00:00:00 - 2.181473953227676\n",
      "Time: 2017-11-01 00:00:00 - 2.271763550942211\n"
     ]
    }
   ],
   "source": [
    "project_counts = {}\n",
    "project_counts['StartDate'] = []\n",
    "project_counts['EndDate'] = []\n",
    "project_counts['ratios'] = []\n",
    "\n",
    "start_time = add_a_month(first_time)\n",
    "end_time = add_three_months(start_time)\n",
    "while end_time < last_time.replace(day=1):\n",
    "    project_counts['StartDate'].append(start_time)\n",
    "    project_counts['EndDate'].append(end_time)\n",
    "\n",
    "    idxs = (sub['date'] > start_time) & (sub['date'] < end_time)\n",
    "    subset = sub.loc[idxs, :]\n",
    "\n",
    "    ratio = subset.loc[:,'ratios'].mean()\n",
    "    print('Time:', start_time, '-', ratio)\n",
    "\n",
    "    project_counts['ratios'].append(ratio)\n",
    "\n",
    "\n",
    "    start_time = end_time\n",
    "    end_time = add_three_months(start_time)"
   ]
  },
  {
   "cell_type": "code",
   "execution_count": 18,
   "metadata": {
    "ExecuteTime": {
     "end_time": "2019-04-08T14:24:58.724593Z",
     "start_time": "2019-04-08T14:24:57.725267Z"
    }
   },
   "outputs": [
    {
     "data": {
      "image/png": "[encoded data removed]",
      "text/plain": [
       "<Figure size 288x216 with 1 Axes>"
      ]
     },
     "metadata": {
      "needs_background": "light"
     },
     "output_type": "display_data"
    }
   ],
   "source": [
    "plt.figure(figsize=(4,3))\n",
    "\n",
    "plt.plot(project_counts['StartDate'], project_counts['ratios'])\n",
    "plt.xlabel('Time')\n",
    "# plt.ylabel('Transitive Dependencies / Direct Dependencies')\n",
    "\n",
    "plt.savefig(figs_dir+'trans-deps-over-time.pdf')\n",
    "plt.savefig(figs_dir+'trans-deps-over-time.png', dpi=300)"
   ]
  },
  {
   "cell_type": "code",
   "execution_count": null,
   "metadata": {
    "ExecuteTime": {
     "end_time": "2019-04-08T02:53:30.259579Z",
     "start_time": "2019-04-08T02:53:30.228505Z"
    }
   },
   "outputs": [],
   "source": []
  }
 ],
 "metadata": {
  "kernelspec": {
   "display_name": "Python 3",
   "language": "python",
   "name": "python3"
  },
  "language_info": {
   "codemirror_mode": {
    "name": "ipython",
    "version": 3
   },
   "file_extension": ".py",
   "mimetype": "text/x-python",
   "name": "python",
   "nbconvert_exporter": "python",
   "pygments_lexer": "ipython3",
   "version": "3.6.8"
  },
  "toc": {
   "base_numbering": 1,
   "nav_menu": {},
   "number_sections": true,
   "sideBar": true,
   "skip_h1_title": false,
   "title_cell": "Table of Contents",
   "title_sidebar": "Contents",
   "toc_cell": false,
   "toc_position": {},
   "toc_section_display": true,
   "toc_window_display": false
  },
  "varInspector": {
   "cols": {
    "lenName": 16,
    "lenType": 16,
    "lenVar": 40
   },
   "kernels_config": {
    "python": {
     "delete_cmd_postfix": "",
     "delete_cmd_prefix": "del ",
     "library": "var_list.py",
     "varRefreshCmd": "print(var_dic_list())"
    },
    "r": {
     "delete_cmd_postfix": ") ",
     "delete_cmd_prefix": "rm(",
     "library": "var_list.r",
     "varRefreshCmd": "cat(var_dic_list()) "
    }
   },
   "types_to_exclude": [
    "module",
    "function",
    "builtin_function_or_method",
    "instance",
    "_Feature"
   ],
   "window_display": false
  }
 },
 "nbformat": 4,
 "nbformat_minor": 2
}
