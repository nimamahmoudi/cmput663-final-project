{
 "cells": [
  {
   "cell_type": "markdown",
   "metadata": {},
   "source": [
    "# How frequently are packages updated?\n",
    "In this notebook, we are going to investigate the package update frequency and extract package update behaviors."
   ]
  },
  {
   "cell_type": "markdown",
   "metadata": {},
   "source": [
    "## Import libraries and load data"
   ]
  },
  {
   "cell_type": "code",
   "execution_count": 86,
   "metadata": {},
   "outputs": [
    {
     "name": "stdout",
     "output_type": "stream",
     "text": [
      "The autoreload extension is already loaded. To reload it, use:\n",
      "  %reload_ext autoreload\n"
     ]
    }
   ],
   "source": [
    "%load_ext autoreload\n",
    "\n",
    "# Auto reloading causes the kernel to reload the libraries we have\n",
    "%autoreload 2\n",
    "\n",
    "# usual imports for visualization, etc.\n",
    "import numpy as np\n",
    "import pandas as pd\n",
    "import matplotlib.pyplot as plt\n",
    "import matplotlib.dates as mdate\n",
    "import datetime\n",
    "\n",
    "# make it reproducible\n",
    "np.random.seed(0)\n",
    "\n",
    "# show plots inline\n",
    "%matplotlib inline"
   ]
  },
  {
   "cell_type": "code",
   "execution_count": 87,
   "metadata": {},
   "outputs": [],
   "source": [
    "# data_folder = '../data/'\n",
    "data_folder = 'https://zenodo.org/record/2620607/files/'\n",
    "\n",
    "versions = pd.read_csv(data_folder + 'pypi_versions.csv', error_bad_lines=False, warn_bad_lines=False,low_memory=False)\n",
    "\n",
    "for df in [versions]:\n",
    "    time_fields = []\n",
    "    for col in df.columns:\n",
    "        if 'timestamp' in col:\n",
    "            time_fields.append(col)\n",
    "    for time_field in time_fields:\n",
    "        try:\n",
    "            df[time_field] = df[time_field].apply(lambda x: datetime.datetime.strptime(x, '%Y-%m-%d %H:%M:%S'))\n",
    "        except:\n",
    "            pass\n",
    "        \n",
    "del df"
   ]
  },
  {
   "cell_type": "markdown",
   "metadata": {},
   "source": [
    "## Define helper functions and defaults"
   ]
  },
  {
   "cell_type": "code",
   "execution_count": 4,
   "metadata": {},
   "outputs": [
    {
     "name": "stdout",
     "output_type": "stream",
     "text": [
      "mkdir: cannot create directory ‘figs’: File exists\r\n"
     ]
    }
   ],
   "source": [
    "# Helper Functions\n",
    "def add_three_months(t):\n",
    "    for i in range(3):\n",
    "        t = add_a_month(t)\n",
    "    return t\n",
    "def add_a_month(t):\n",
    "    return (t.replace(day=1) + datetime.timedelta(days=31)).replace(day=1)\n",
    "def print_time(t):\n",
    "    return t.strftime(\"%Y-%m-%dT%H:%M:%S\")\n",
    "\n",
    "!mkdir figs\n",
    "figs_dir = 'figs/'"
   ]
  },
  {
   "cell_type": "code",
   "execution_count": 6,
   "metadata": {},
   "outputs": [
    {
     "data": {
      "text/plain": [
       "<Figure size 288x201.6 with 0 Axes>"
      ]
     },
     "metadata": {},
     "output_type": "display_data"
    }
   ],
   "source": [
    "from cycler import cycler\n",
    "def set_plt_rc():\n",
    "    SMALL_SIZE = 8\n",
    "    MEDIUM_SIZE = 10\n",
    "    BIGGER_SIZE = 12\n",
    "    \n",
    "    font = {'family': 'serif','size': BIGGER_SIZE}\n",
    "    plt.rc('font', **font)\n",
    "\n",
    "    plt.rc('font', size=SMALL_SIZE)          # controls default text sizes\n",
    "    plt.rc('axes', titlesize=SMALL_SIZE)     # fontsize of the axes title\n",
    "    plt.rc('axes', labelsize=MEDIUM_SIZE)    # fontsize of the x and y labels\n",
    "    plt.rc('xtick', labelsize=SMALL_SIZE)    # fontsize of the tick labels\n",
    "    plt.rc('ytick', labelsize=SMALL_SIZE)    # fontsize of the tick labels\n",
    "    plt.rc('legend', fontsize=SMALL_SIZE)    # legend fontsize\n",
    "    plt.rc('figure', titlesize=BIGGER_SIZE)  # fontsize of the figure title\n",
    "        \n",
    "    plt.rc('axes', prop_cycle=(cycler(color=['#1f77b4', '#ff7f0e', '#2ca02c', '#d62728',\n",
    "                                         '#9467bd', '#8c564b', '#e377c2', '#7f7f7f',\n",
    "                                         '#bcbd22', '#17becf']) +\n",
    "                           cycler(linestyle=['-', '--', ':', '-.','-', '--', ':', '-.','-', '--'])))\n",
    "    plt.rcParams['font.family'] = 'serif'   \n",
    "    plt.rc('axes', labelsize=8)\n",
    "    plt.rc('xtick', labelsize=8)\n",
    "    plt.rc('ytick', labelsize=8)\n",
    "    plt.figure(figsize=(4,2.8)) \n",
    "    \n",
    "set_plt_rc()"
   ]
  },
  {
   "cell_type": "markdown",
   "metadata": {},
   "source": [
    "## Number of Updates per Month over Time"
   ]
  },
  {
   "cell_type": "code",
   "execution_count": 7,
   "metadata": {},
   "outputs": [
    {
     "name": "stdout",
     "output_type": "stream",
     "text": [
      "Range of year:  [2005, 2018]\n"
     ]
    }
   ],
   "source": [
    "year=pd.DatetimeIndex(versions['published_timestamp']).year\n",
    "print('Range of year: ',[year.min(),year.max()])"
   ]
  },
  {
   "cell_type": "code",
   "execution_count": 8,
   "metadata": {},
   "outputs": [],
   "source": [
    "Year=pd.Series()\n",
    "Month=pd.Series()\n",
    "for i in range(2005,2019):\n",
    "    Year=Year.append(pd.Series([i]*12))\n",
    "    Month=Month.append(pd.Series(range(1,13)))\n",
    "Year.index=range(0,168)\n",
    "Month.index=range(0,168)\n",
    "Number_of_Updates=pd.Series([0]*14*12)\n",
    "packageUpdates=pd.concat([Year,Month,Number_of_Updates],axis=1,keys=['Year','Month','Number_of_Updates'])\n",
    "for index, row in versions.iterrows():\n",
    "    date=pd.Timestamp(row['published_timestamp'])\n",
    "    packageUpdates.at[(date.year-2005)*12+(date.month-1),'Number_of_Updates']=packageUpdates['Number_of_Updates'][(date.year-2005)*12+(date.month-1)]+1"
   ]
  },
  {
   "cell_type": "code",
   "execution_count": 71,
   "metadata": {
    "scrolled": true
   },
   "outputs": [
    {
     "data": {
      "image/png": "[encoded data removed]",
      "text/plain": [
       "<Figure size 288x216 with 1 Axes>"
      ]
     },
     "metadata": {},
     "output_type": "display_data"
    },
    {
     "data": {
      "text/plain": [
       "<Figure size 288x201.6 with 0 Axes>"
      ]
     },
     "metadata": {},
     "output_type": "display_data"
    }
   ],
   "source": [
    "plt.rc('font', size=8)\n",
    "plt.rc('axes', titlesize=6)\n",
    "plt.rc('axes', labelsize=8)\n",
    "packageUpdates['Time']=packageUpdates['Year'].astype(str) + '-' + packageUpdates['Month'].astype(str)\n",
    "fig, ax = plt.subplots(nrows=1, ncols=1, figsize=(4,3))\n",
    "plt.plot(packageUpdates['Time'],packageUpdates['Number_of_Updates'])\n",
    "ax.set_ylabel(\"Number of updates per month\")\n",
    "ax.set_xlabel('Time')\n",
    "xticks=list(range(12,len(UpdateFreq_with_ChangeabilityIndex['Time']),24))\n",
    "xlabels=[UpdateFreq_with_ChangeabilityIndex['Time'][x][0:4] for x in xticks]\n",
    "ax.set_xticks(xticks)\n",
    "ax.set_xticklabels(xlabels, rotation=0)\n",
    "fig=ax.get_figure()\n",
    "fig.savefig(figs_dir + 'number-of-updates-per-month' + '.pdf',bbox_inches='tight')\n",
    "fig.savefig(figs_dir + 'number-of-updates-per-month' + '.png', dpi=300,bbox_inches='tight')\n",
    "set_plt_rc()"
   ]
  },
  {
   "cell_type": "markdown",
   "metadata": {},
   "source": [
    "## Update Interval"
   ]
  },
  {
   "cell_type": "code",
   "execution_count": null,
   "metadata": {},
   "outputs": [],
   "source": [
    "packageName=versions['project_name']\n",
    "packageName=packageName.drop_duplicates().dropna()\n",
    "packageName.index=range(0,packageName.size)\n",
    "updateInterval_avg=pd.Series([0]*packageName.size)\n",
    "updateInterval_min=pd.Series([0]*packageName.size)\n",
    "updateInterval_max=pd.Series([0]*packageName.size)\n",
    "updateInterval_median=pd.Series([0]*packageName.size)\n",
    "numberOfUpdates=pd.Series([0]*packageName.size)\n",
    "packageCreatedDate=pd.Series([None]*packageName.size)\n",
    "packageAgeInDays=pd.Series([None]*packageName.size)\n",
    "today=max(versions['published_timestamp'])\n",
    "for i in range(0,packageName.size):\n",
    "    packageMetadata=versions[versions['project_name']==packageName[i]]\n",
    "    numberOfUpdates[i]=packageMetadata.shape[0]\n",
    "    packageCreatedDate[i]=min(packageMetadata['published_timestamp'])\n",
    "    packageAgeInDays[i]=(pd.Timestamp(today)-pd.Timestamp(min(packageMetadata['published_timestamp'])))/np.timedelta64(1,'D')\n",
    "    published_timestamp=packageMetadata['published_timestamp']\n",
    "    published_timestamp=published_timestamp.apply(lambda x: pd.Timestamp(x))\n",
    "    updateInterval=published_timestamp.sort_values(ascending=True).diff().apply(lambda x: x/np.timedelta64(1,'D')).dropna()\n",
    "    updateInterval_avg[i]=updateInterval.mean()\n",
    "    updateInterval_min[i]=updateInterval.min()\n",
    "    updateInterval_max[i]=updateInterval.max()\n",
    "    updateInterval_median[i]=updateInterval.median()\n",
    "UpdateFreq=pd.concat([packageName,numberOfUpdates,packageCreatedDate,packageAgeInDays,updateInterval_avg,updateInterval_min,updateInterval_max,updateInterval_median],axis=1,keys=['name','number_of_updates','created_date','age','update_interval_avg','update_interval_min','update_interval_max','update_interval_median'])\n",
    "UpdateFreq.to_csv(data_folder+'UpdateFreq.csv',index=False)"
   ]
  },
  {
   "cell_type": "code",
   "execution_count": 11,
   "metadata": {},
   "outputs": [
    {
     "name": "stdout",
     "output_type": "stream",
     "text": [
      "Number of packages that never update:  43581\n",
      "Proporation of packages that never update:  0.26757657807003005\n",
      "Average update interval in days:  70.17834947123544\n",
      "Median of update interval in days:  18.68533036747685\n",
      "58% quantile of update interval in days:  30.250269034090906\n",
      "25% quantile of update interval in days:  1.586612755847953\n",
      "75% quantile of update interval in days:  73.07755883487651\n"
     ]
    }
   ],
   "source": [
    "UpdateFreq=pd.read_csv(data_folder+'UpdateFreq.csv')\n",
    "print('Number of packages that never update: ', UpdateFreq['update_interval_avg'].size-UpdateFreq['update_interval_avg'].dropna().size)\n",
    "print('Proporation of packages that never update: ',(UpdateFreq['update_interval_avg'].size-UpdateFreq['update_interval_avg'].dropna().size)/UpdateFreq['update_interval_avg'].size)\n",
    "print('Average update interval in days: ', UpdateFreq['update_interval_avg'].dropna().mean())\n",
    "print('Median of update interval in days: ', UpdateFreq['update_interval_avg'].dropna().median())\n",
    "print('58% quantile of update interval in days: ', UpdateFreq['update_interval_avg'].dropna().quantile(.58))\n",
    "print('25% quantile of update interval in days: ', UpdateFreq['update_interval_avg'].dropna().quantile(.25))\n",
    "print('75% quantile of update interval in days: ', UpdateFreq['update_interval_avg'].dropna().quantile(.75))"
   ]
  },
  {
   "cell_type": "markdown",
   "metadata": {},
   "source": [
    "## Distribution of number of package updates"
   ]
  },
  {
   "cell_type": "code",
   "execution_count": 12,
   "metadata": {},
   "outputs": [],
   "source": [
    "number_of_updates=UpdateFreq['number_of_updates'].sort_values(ascending=False)\n",
    "number_of_updates.index=range(0,number_of_updates.size)"
   ]
  },
  {
   "cell_type": "code",
   "execution_count": 13,
   "metadata": {},
   "outputs": [],
   "source": [
    "accumulated_number_of_updates=pd.Series()\n",
    "for i in range(len(number_of_updates)):\n",
    "    if(i!=0):\n",
    "        accumulated_number_of_updates=accumulated_number_of_updates.append(pd.Series(accumulated_number_of_updates[i-1]+number_of_updates[i],index=[i]))\n",
    "    else:\n",
    "        accumulated_number_of_updates=accumulated_number_of_updates.append(pd.Series(number_of_updates[i],index=[i]))\n",
    "cummulative_proportion_of_updates=accumulated_number_of_updates\n",
    "cummulative_proportion_of_updates=cummulative_proportion_of_updates.apply(lambda x: x*1.0/accumulated_number_of_updates[len(accumulated_number_of_updates)-1])\n",
    "cummulative_proportion_of_packages=pd.Series(UpdateFreq.index+1)\n",
    "num_of_packages=cummulative_proportion_of_packages.size\n",
    "cummulative_proportion_of_packages=cummulative_proportion_of_packages.apply(lambda x:x*1.0/num_of_packages)"
   ]
  },
  {
   "cell_type": "code",
   "execution_count": 42,
   "metadata": {},
   "outputs": [
    {
     "data": {
      "image/png": "[encoded data removed]",
      "text/plain": [
       "<Figure size 288x201.6 with 1 Axes>"
      ]
     },
     "metadata": {},
     "output_type": "display_data"
    }
   ],
   "source": [
    "plt.figure(figsize=(4,2.8))\n",
    "plt.plot(cummulative_proportion_of_packages,cummulative_proportion_of_updates)\n",
    "plt.plot([0,1], [0,1], color='k')\n",
    "plt.grid()\n",
    "ax = plt.gca()\n",
    "plt.xlabel('Cumulative Proportion of Packages')\n",
    "plt.ylabel('Cumulative Proportion of Package Updates')\n",
    "plt.savefig(figs_dir+'package-updates-distribution.pdf')\n",
    "plt.savefig(figs_dir+'package-updates-distribution', dpi=300,bbox_inches='tight')"
   ]
  },
  {
   "cell_type": "markdown",
   "metadata": {},
   "source": [
    "## Distribution of the number of package updates regarding package age"
   ]
  },
  {
   "cell_type": "code",
   "execution_count": null,
   "metadata": {},
   "outputs": [],
   "source": [
    "update_age=pd.DataFrame(columns=['project_name','number','published_timestamp','update_age'])\n",
    "for i in range(0,packageName.size):\n",
    "    packageMetadata=versions[versions['project_name']==packageName[i]]\n",
    "    numberOfUpdates=packageMetadata.shape[0]\n",
    "    packageCreatedDate=min(packageMetadata['published_timestamp'])\n",
    "    packageAgeInDays[i]=(pd.Timestamp(today)-pd.Timestamp(min(packageMetadata['published_timestamp'])))/np.timedelta64(1,'D')\n",
    "    published_timestamp=packageMetadata['published_timestamp']\n",
    "    published_timestamp=published_timestamp.apply(lambda x: pd.Timestamp(x)).sort_values(ascending=True) # Convert String to timestamp\n",
    "    updateAgeInDays=published_timestamp.apply(lambda x: (x-pd.Timestamp(packageCreatedDate))/np.timedelta64(1,'D')) # Calculate update interval in days\n",
    "    update=pd.concat([packageMetadata['project_name'],packageMetadata['number'],published_timestamp,updateAgeInDays],axis=1,keys=['project_name','number','published_timestamp','update_age'])\n",
    "    update_age=update_age.append(update)\n",
    "update_age.to_csv(data_folder+'update_age.csv',index=False)"
   ]
  },
  {
   "cell_type": "code",
   "execution_count": 15,
   "metadata": {},
   "outputs": [],
   "source": [
    "update_age=pd.read_csv(data_folder+'update_age.csv')\n",
    "month=pd.Series()\n",
    "numberOfUpdates=pd.Series()\n",
    "accumulatedNumber=pd.Series()\n",
    "for i in range(120):\n",
    "    month=month.append(pd.Series(i+1,index=[i]))\n",
    "    numberOfUpdatesAgedInCurrentMonths=update_age[(update_age['update_age']>i*30) & (update_age['update_age']<=(i+1)*30)].shape[0]\n",
    "    numberOfUpdates=numberOfUpdates.append(pd.Series(numberOfUpdatesAgedInCurrentMonths,index=[i]))\n",
    "    if(i!=0):\n",
    "        accumulatedNumber=accumulatedNumber.append(pd.Series(accumulatedNumber[i-1]+numberOfUpdatesAgedInCurrentMonths,index=[i]))\n",
    "    else:\n",
    "        accumulatedNumber=accumulatedNumber.append(pd.Series(numberOfUpdatesAgedInCurrentMonths,index=[0]))\n",
    "updates_versus_age=pd.concat([month,numberOfUpdates,accumulatedNumber],axis=1,keys=['package_age_in_month','number_of_updates_happened_at_this_age','accumulated_number_of_updates'])"
   ]
  },
  {
   "cell_type": "code",
   "execution_count": 43,
   "metadata": {},
   "outputs": [
    {
     "data": {
      "image/png": "[encoded data removed]",
      "text/plain": [
       "<Figure size 288x201.6 with 1 Axes>"
      ]
     },
     "metadata": {},
     "output_type": "display_data"
    }
   ],
   "source": [
    "plt.figure(figsize=(4,2.8))\n",
    "plt.plot(updates_versus_age['package_age_in_month'],updates_versus_age['number_of_updates_happened_at_this_age'])\n",
    "plt.xlabel('Package Age in Months')\n",
    "plt.ylabel('Number of Package Updates Published')\n",
    "plt.savefig(figs_dir+'package-updates-versus-age.pdf',bbox_inches='tight')\n",
    "plt.savefig(figs_dir+'package-updates-versus-age', dpi=300,bbox_inches='tight')"
   ]
  },
  {
   "cell_type": "code",
   "execution_count": 44,
   "metadata": {},
   "outputs": [
    {
     "data": {
      "image/png": "[encoded data removed]",
      "text/plain": [
       "<Figure size 288x201.6 with 1 Axes>"
      ]
     },
     "metadata": {},
     "output_type": "display_data"
    }
   ],
   "source": [
    "plt.figure(figsize=(4,2.8))\n",
    "plt.plot(updates_versus_age['package_age_in_month'],updates_versus_age['accumulated_number_of_updates'],)\n",
    "plt.xlabel('Package Age in Months')\n",
    "plt.ylabel('Cumulative number of package updates')\n",
    "plt.savefig(figs_dir+'cumulative-package-updates-versus-age.pdf',bbox_inches='tight')\n",
    "plt.savefig(figs_dir+'cumulative-package-updates-versus-age', dpi=300,bbox_inches='tight')"
   ]
  },
  {
   "cell_type": "markdown",
   "metadata": {},
   "source": [
    "## Changeability Index"
   ]
  },
  {
   "cell_type": "code",
   "execution_count": null,
   "metadata": {},
   "outputs": [],
   "source": [
    "changeabilityIndex=pd.Series()\n",
    "published_timestamp=versions['published_timestamp'].apply(lambda x:pd.Timestamp(x))\n",
    "for i in range(packageUpdates.shape[0]):\n",
    "    begin_date=pd.Timestamp(packageUpdates['Time'][i])\n",
    "    end_date=pd.Timestamp(packageUpdates['Time'][i+1]) if i<packageUpdates.shape[0]-1 else pd.Timestamp('2019-01')\n",
    "    versionsMetadata=versions[(published_timestamp>=begin_date) & (published_timestamp<end_date)]\n",
    "    ## Calculate changeability index\n",
    "    package_name=versionsMetadata['project_name'].drop_duplicates().dropna()\n",
    "    package_name.index=range(0,package_name.size)\n",
    "    number_of_updates=pd.Series()\n",
    "    for j in range(0,package_name.size):\n",
    "        n=versionsMetadata[versionsMetadata['project_name']==package_name[j]].shape[0]\n",
    "        number_of_updates=number_of_updates.append(pd.Series(n,index=[j]))\n",
    "    number_of_updates=number_of_updates.sort_values(ascending=False)\n",
    "    number_of_updates.index=range(number_of_updates.size)\n",
    "    changeability=0\n",
    "    for k in range(0,number_of_updates.size):\n",
    "        if(number_of_updates[k]>=k+1):\n",
    "            changeability=changeability+1\n",
    "        else:\n",
    "            break\n",
    "    changeabilityIndex=changeabilityIndex.append(pd.Series(changeability,index=[i]))\n",
    "packageUpdates=pd.concat([packageUpdates['Year'],packageUpdates['Month'],packageUpdates['Time'],packageUpdates['Number_of_Updates'],changeabilityIndex],axis=1,keys=['Year','Month','Time','Number_of_Updates','Changeability_Index'])\n",
    "packageUpdates.to_csv(data_folder+'UpdateFreq_with_ChangeabilityIndex.csv',index=False)"
   ]
  },
  {
   "cell_type": "code",
   "execution_count": 85,
   "metadata": {},
   "outputs": [
    {
     "data": {
      "image/png": "[encoded data removed]",
      "text/plain": [
       "<Figure size 288x216 with 1 Axes>"
      ]
     },
     "metadata": {},
     "output_type": "display_data"
    }
   ],
   "source": [
    "UpdateFreq_with_ChangeabilityIndex=pd.read_csv(data_folder+'UpdateFreq_with_ChangeabilityIndex.csv')\n",
    "ax=UpdateFreq_with_ChangeabilityIndex.plot(x='Time',y='Changeability_Index',figsize=(4,3),rot=90,grid=False,legend=False)\n",
    "ax.set_ylabel(\"Changeability Index\")\n",
    "ax.set_xlabel('Time')\n",
    "xticks=list(range(12,len(UpdateFreq_with_ChangeabilityIndex['Time']),24))\n",
    "xlabels=[UpdateFreq_with_ChangeabilityIndex['Time'][x][0:4] for x in xticks]\n",
    "ax.set_xticks(xticks)\n",
    "ax.set_xticklabels(xlabels, rotation=0)\n",
    "for item in ([ax.title, ax.xaxis.label, ax.yaxis.label] +ax.get_xticklabels() + ax.get_yticklabels()):\n",
    "    item.set_fontsize(8)\n",
    "fig=ax.get_figure()\n",
    "fig.savefig(figs_dir + 'changeability-over-time' + '.pdf',bbox_inches='tight')\n",
    "fig.savefig(figs_dir + 'changeability-over-time' + '.png', dpi=300,bbox_inches='tight')"
   ]
  },
  {
   "cell_type": "code",
   "execution_count": null,
   "metadata": {},
   "outputs": [],
   "source": []
  }
 ],
 "metadata": {
  "kernelspec": {
   "display_name": "Python 3",
   "language": "python",
   "name": "python3"
  },
  "language_info": {
   "codemirror_mode": {
    "name": "ipython",
    "version": 3
   },
   "file_extension": ".py",
   "mimetype": "text/x-python",
   "name": "python",
   "nbconvert_exporter": "python",
   "pygments_lexer": "ipython3",
   "version": "3.5.2"
  }
 },
 "nbformat": 4,
 "nbformat_minor": 2
}
